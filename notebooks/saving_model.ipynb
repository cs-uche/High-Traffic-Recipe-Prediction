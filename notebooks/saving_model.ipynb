{
 "cells": [
  {
   "cell_type": "markdown",
   "metadata": {},
   "source": [
    "# Saving the Data And Model"
   ]
  },
  {
   "cell_type": "markdown",
   "metadata": {},
   "source": [
    "### Imports and Function Definitions"
   ]
  },
  {
   "cell_type": "code",
   "execution_count": 19,
   "metadata": {},
   "outputs": [],
   "source": [
    "import os\n",
    "import joblib\n",
    "import pandas as pd\n",
    "import numpy as np\n",
    "\n",
    "from sklearn.compose import make_column_transformer\n",
    "from sklearn.model_selection import train_test_split\n",
    "from sklearn.pipeline import make_pipeline\n",
    "from sklearn.preprocessing import OneHotEncoder, LabelEncoder, StandardScaler\n",
    "from sklearn.ensemble import RandomForestClassifier"
   ]
  },
  {
   "cell_type": "code",
   "execution_count": 20,
   "metadata": {},
   "outputs": [],
   "source": [
    "def get_dataTypes_and_missingValues(df):\n",
    "    info = pd.DataFrame()\n",
    "    info['data_types'] =  df.dtypes\n",
    "    info['unique_values'] = df.nunique()\n",
    "    info['missing_values'] = df.isna().sum()\n",
    "    return info"
   ]
  },
  {
   "cell_type": "code",
   "execution_count": 21,
   "metadata": {},
   "outputs": [],
   "source": [
    "def read_recipe_data(path):\n",
    "    '''Read in the data from the path and return a train, validation and test set'''\n",
    "    \n",
    "    df = pd.read_csv(path)\n",
    "\n",
    "    df['high_traffic'].fillna(\"Low\", inplace=True)\n",
    "    df.drop('recipe', axis=1, inplace=True)\n",
    "    df.drop_duplicates(inplace=True)\n",
    "\n",
    "    y = df['high_traffic']\n",
    "    X = df.drop('high_traffic', axis=1)\n",
    "    X_train, X_test, y_train, y_test = train_test_split(X, y, test_size=0.2, random_state=42, shuffle=True)\n",
    "    X_train, X_val, y_train, y_val = train_test_split(X_train, y_train, test_size=0.15, random_state=42, shuffle=True)\n",
    "\n",
    "    return X_train, y_train, X_val, y_val, X_test, y_test"
   ]
  },
  {
   "cell_type": "code",
   "execution_count": 22,
   "metadata": {},
   "outputs": [],
   "source": [
    "def encode_categorical_features(categorical_features):\n",
    "    '''\n",
    "    Encodes the categorical features using OneHotEncoder\n",
    "    '''\n",
    "\n",
    "    ct = make_column_transformer(\n",
    "        (OneHotEncoder(handle_unknown='ignore'), categorical_features),\n",
    "        remainder='passthrough'\n",
    "    )\n",
    "    \n",
    "    return ct\n",
    "\n",
    "def encode_label(y):\n",
    "    '''\n",
    "    Encodes the labels/targets using LabelEncoder\n",
    "    '''\n",
    "\n",
    "    enc = LabelEncoder()\n",
    "    y_enc = enc.fit_transform(y)\n",
    "    \n",
    "    return y_enc"
   ]
  },
  {
   "cell_type": "code",
   "execution_count": 23,
   "metadata": {},
   "outputs": [],
   "source": [
    "def train_model(X_train, y_train, model_algorithm, **model_kwargs):\n",
    "    '''\n",
    "    Trains a model and returns the model\n",
    "    '''\n",
    "    \n",
    "    if 'random_state' in model_algorithm().get_params():\n",
    "        model_kwargs['random_state'] = 124\n",
    "\n",
    "    model = model_algorithm(**model_kwargs)\n",
    "\n",
    "    categorical_cols = X_train.select_dtypes(exclude=np.number).columns.to_list()\n",
    "    ct = encode_categorical_features(categorical_cols)\n",
    "\n",
    "    pipeline = make_pipeline(ct, StandardScaler(), model)\n",
    "    y_train_encoded  = encode_label(y_train)\n",
    "\n",
    "    pipeline.fit(X_train, y_train_encoded)\n",
    "    \n",
    "    return pipeline"
   ]
  },
  {
   "cell_type": "markdown",
   "metadata": {},
   "source": [
    "## Saving the Data"
   ]
  },
  {
   "cell_type": "markdown",
   "metadata": {},
   "source": [
    "We start off with the data"
   ]
  },
  {
   "cell_type": "code",
   "execution_count": 24,
   "metadata": {},
   "outputs": [],
   "source": [
    "data_path = os.path.join(\"..\",\"data\", \"raw\", \"recipe_site_traffic.csv\")\n",
    "X_train, y_train, X_val, y_val, X_test, y_test = read_recipe_data(data_path)\n",
    "\n",
    "train_df = pd.concat([X_train, y_train], axis=1)\n",
    "missing_indices = train_df[train_df['calories'].isnull()].index\n",
    "train_df.drop(missing_indices, inplace=True)"
   ]
  },
  {
   "cell_type": "code",
   "execution_count": 25,
   "metadata": {},
   "outputs": [
    {
     "name": "stdout",
     "output_type": "stream",
     "text": [
      "The column: category contains non-numeric characters\n",
      "The column: servings contains non-numeric characters\n",
      "Non-numeric values in servings\n"
     ]
    },
    {
     "data": {
      "text/html": [
       "<div>\n",
       "<style scoped>\n",
       "    .dataframe tbody tr th:only-of-type {\n",
       "        vertical-align: middle;\n",
       "    }\n",
       "\n",
       "    .dataframe tbody tr th {\n",
       "        vertical-align: top;\n",
       "    }\n",
       "\n",
       "    .dataframe thead th {\n",
       "        text-align: right;\n",
       "    }\n",
       "</style>\n",
       "<table border=\"1\" class=\"dataframe\">\n",
       "  <thead>\n",
       "    <tr style=\"text-align: right;\">\n",
       "      <th></th>\n",
       "      <th>calories</th>\n",
       "      <th>carbohydrate</th>\n",
       "      <th>sugar</th>\n",
       "      <th>protein</th>\n",
       "      <th>category</th>\n",
       "      <th>servings</th>\n",
       "      <th>high_traffic</th>\n",
       "    </tr>\n",
       "  </thead>\n",
       "  <tbody>\n",
       "    <tr>\n",
       "      <th>735</th>\n",
       "      <td>513.75</td>\n",
       "      <td>65.87</td>\n",
       "      <td>18.63</td>\n",
       "      <td>18.39</td>\n",
       "      <td>Lunch/Snacks</td>\n",
       "      <td>4 as a snack</td>\n",
       "      <td>Low</td>\n",
       "    </tr>\n",
       "  </tbody>\n",
       "</table>\n",
       "</div>"
      ],
      "text/plain": [
       "     calories  carbohydrate  sugar  protein      category      servings  \\\n",
       "735    513.75         65.87  18.63    18.39  Lunch/Snacks  4 as a snack   \n",
       "\n",
       "    high_traffic  \n",
       "735          Low  "
      ]
     },
     "execution_count": 25,
     "metadata": {},
     "output_type": "execute_result"
    }
   ],
   "source": [
    "train_df['category'].replace('Chicken Breast', 'Chicken', inplace=True)\n",
    "non_numeric_cols = train_df.drop('high_traffic', axis='columns').select_dtypes(exclude=np.number).columns.values\n",
    "for col in non_numeric_cols:\n",
    "    try:\n",
    "        train_df[col].astype(int)\n",
    "    except Exception:\n",
    "        print(f\"The column: {col} contains non-numeric characters\")\n",
    "\n",
    "mask = train_df['servings'].astype(str).str.contains(r'\\D', regex=True)\n",
    "non_numeric_values = train_df[mask]\n",
    "\n",
    "print(\"Non-numeric values in servings\")\n",
    "non_numeric_values"
   ]
  },
  {
   "cell_type": "code",
   "execution_count": 26,
   "metadata": {},
   "outputs": [],
   "source": [
    "train_df.loc[mask, 'servings'] = 4\n",
    "train_df['servings'] = train_df['servings'].astype(int)"
   ]
  },
  {
   "cell_type": "markdown",
   "metadata": {},
   "source": [
    "The training data is cleaned up. Next, is the validation data."
   ]
  },
  {
   "cell_type": "code",
   "execution_count": 27,
   "metadata": {},
   "outputs": [],
   "source": [
    "val_df = pd.concat([X_val, y_val], axis=1)\n",
    "missing_indices = val_df[val_df['calories'].isnull()].index\n",
    "val_df.drop(missing_indices, inplace=True)"
   ]
  },
  {
   "cell_type": "code",
   "execution_count": 28,
   "metadata": {},
   "outputs": [
    {
     "name": "stdout",
     "output_type": "stream",
     "text": [
      "The column: category contains non-numeric characters\n",
      "Non-numeric values in servings\n"
     ]
    },
    {
     "data": {
      "text/html": [
       "<div>\n",
       "<style scoped>\n",
       "    .dataframe tbody tr th:only-of-type {\n",
       "        vertical-align: middle;\n",
       "    }\n",
       "\n",
       "    .dataframe tbody tr th {\n",
       "        vertical-align: top;\n",
       "    }\n",
       "\n",
       "    .dataframe thead th {\n",
       "        text-align: right;\n",
       "    }\n",
       "</style>\n",
       "<table border=\"1\" class=\"dataframe\">\n",
       "  <thead>\n",
       "    <tr style=\"text-align: right;\">\n",
       "      <th></th>\n",
       "      <th>calories</th>\n",
       "      <th>carbohydrate</th>\n",
       "      <th>sugar</th>\n",
       "      <th>protein</th>\n",
       "      <th>category</th>\n",
       "      <th>servings</th>\n",
       "      <th>high_traffic</th>\n",
       "    </tr>\n",
       "  </thead>\n",
       "  <tbody>\n",
       "  </tbody>\n",
       "</table>\n",
       "</div>"
      ],
      "text/plain": [
       "Empty DataFrame\n",
       "Columns: [calories, carbohydrate, sugar, protein, category, servings, high_traffic]\n",
       "Index: []"
      ]
     },
     "execution_count": 28,
     "metadata": {},
     "output_type": "execute_result"
    }
   ],
   "source": [
    "val_df['category'].replace('Chicken Breast', 'Chicken', inplace=True)\n",
    "non_numeric_cols = val_df.drop('high_traffic', axis='columns').select_dtypes(exclude=np.number).columns.values\n",
    "for col in non_numeric_cols:\n",
    "    try:\n",
    "        val_df[col] = val_df[col].astype(int)\n",
    "    except Exception:\n",
    "        print(f\"The column: {col} contains non-numeric characters\")\n",
    "\n",
    "mask = val_df['servings'].astype(str).str.contains(r'\\D', regex=True)\n",
    "non_numeric_values = val_df[mask]\n",
    "\n",
    "print(\"Non-numeric values in servings\")\n",
    "non_numeric_values"
   ]
  },
  {
   "cell_type": "markdown",
   "metadata": {},
   "source": [
    "The validation data is also cleaned up."
   ]
  },
  {
   "cell_type": "code",
   "execution_count": 29,
   "metadata": {},
   "outputs": [],
   "source": [
    "cleaned_data_path = os.path.join(\"..\",\"data\", \"cleaned\")\n",
    "try:\n",
    "    os.makedirs(cleaned_data_path, exist_ok=True)\n",
    "\n",
    "    # save data\n",
    "    train_df.to_csv(os.path.join(cleaned_data_path, \"train.csv\"))\n",
    "    val_df.to_csv(os.path.join(cleaned_data_path, \"val.csv\"))\n",
    "except Exception as dir_creation_error:\n",
    "    print(f\"Error creating directory '{cleaned_data_path}': {dir_creation_error}\")"
   ]
  },
  {
   "cell_type": "markdown",
   "metadata": {},
   "source": [
    "## Saving the Model"
   ]
  },
  {
   "cell_type": "code",
   "execution_count": 30,
   "metadata": {},
   "outputs": [
    {
     "name": "stdout",
     "output_type": "stream",
     "text": [
      "There are 614 rows and 7 columns in the merged dataframe\n"
     ]
    }
   ],
   "source": [
    "merged_df = pd.concat([train_df, val_df], axis=0)\n",
    "y_merged = merged_df['high_traffic']\n",
    "X_merged = merged_df.drop('high_traffic', axis=1)\n",
    "\n",
    "print(f\"There are {train_df.shape[0]} rows and {merged_df.shape[1]} columns in the merged dataframe\")"
   ]
  },
  {
   "cell_type": "code",
   "execution_count": 31,
   "metadata": {},
   "outputs": [],
   "source": [
    "rfc_best_params = {\n",
    "    'n_estimators': 677,\n",
    "    'max_depth': 18,\n",
    "    'min_samples_split': 0.0033905037200391095,\n",
    "    'min_samples_leaf': 0.001650766749167092,\n",
    "    'max_features': 0.6662238032752099\n",
    "}"
   ]
  },
  {
   "cell_type": "code",
   "execution_count": 32,
   "metadata": {},
   "outputs": [
    {
     "data": {
      "text/html": [
       "<style>#sk-container-id-2 {color: black;}#sk-container-id-2 pre{padding: 0;}#sk-container-id-2 div.sk-toggleable {background-color: white;}#sk-container-id-2 label.sk-toggleable__label {cursor: pointer;display: block;width: 100%;margin-bottom: 0;padding: 0.3em;box-sizing: border-box;text-align: center;}#sk-container-id-2 label.sk-toggleable__label-arrow:before {content: \"▸\";float: left;margin-right: 0.25em;color: #696969;}#sk-container-id-2 label.sk-toggleable__label-arrow:hover:before {color: black;}#sk-container-id-2 div.sk-estimator:hover label.sk-toggleable__label-arrow:before {color: black;}#sk-container-id-2 div.sk-toggleable__content {max-height: 0;max-width: 0;overflow: hidden;text-align: left;background-color: #f0f8ff;}#sk-container-id-2 div.sk-toggleable__content pre {margin: 0.2em;color: black;border-radius: 0.25em;background-color: #f0f8ff;}#sk-container-id-2 input.sk-toggleable__control:checked~div.sk-toggleable__content {max-height: 200px;max-width: 100%;overflow: auto;}#sk-container-id-2 input.sk-toggleable__control:checked~label.sk-toggleable__label-arrow:before {content: \"▾\";}#sk-container-id-2 div.sk-estimator input.sk-toggleable__control:checked~label.sk-toggleable__label {background-color: #d4ebff;}#sk-container-id-2 div.sk-label input.sk-toggleable__control:checked~label.sk-toggleable__label {background-color: #d4ebff;}#sk-container-id-2 input.sk-hidden--visually {border: 0;clip: rect(1px 1px 1px 1px);clip: rect(1px, 1px, 1px, 1px);height: 1px;margin: -1px;overflow: hidden;padding: 0;position: absolute;width: 1px;}#sk-container-id-2 div.sk-estimator {font-family: monospace;background-color: #f0f8ff;border: 1px dotted black;border-radius: 0.25em;box-sizing: border-box;margin-bottom: 0.5em;}#sk-container-id-2 div.sk-estimator:hover {background-color: #d4ebff;}#sk-container-id-2 div.sk-parallel-item::after {content: \"\";width: 100%;border-bottom: 1px solid gray;flex-grow: 1;}#sk-container-id-2 div.sk-label:hover label.sk-toggleable__label {background-color: #d4ebff;}#sk-container-id-2 div.sk-serial::before {content: \"\";position: absolute;border-left: 1px solid gray;box-sizing: border-box;top: 0;bottom: 0;left: 50%;z-index: 0;}#sk-container-id-2 div.sk-serial {display: flex;flex-direction: column;align-items: center;background-color: white;padding-right: 0.2em;padding-left: 0.2em;position: relative;}#sk-container-id-2 div.sk-item {position: relative;z-index: 1;}#sk-container-id-2 div.sk-parallel {display: flex;align-items: stretch;justify-content: center;background-color: white;position: relative;}#sk-container-id-2 div.sk-item::before, #sk-container-id-2 div.sk-parallel-item::before {content: \"\";position: absolute;border-left: 1px solid gray;box-sizing: border-box;top: 0;bottom: 0;left: 50%;z-index: -1;}#sk-container-id-2 div.sk-parallel-item {display: flex;flex-direction: column;z-index: 1;position: relative;background-color: white;}#sk-container-id-2 div.sk-parallel-item:first-child::after {align-self: flex-end;width: 50%;}#sk-container-id-2 div.sk-parallel-item:last-child::after {align-self: flex-start;width: 50%;}#sk-container-id-2 div.sk-parallel-item:only-child::after {width: 0;}#sk-container-id-2 div.sk-dashed-wrapped {border: 1px dashed gray;margin: 0 0.4em 0.5em 0.4em;box-sizing: border-box;padding-bottom: 0.4em;background-color: white;}#sk-container-id-2 div.sk-label label {font-family: monospace;font-weight: bold;display: inline-block;line-height: 1.2em;}#sk-container-id-2 div.sk-label-container {text-align: center;}#sk-container-id-2 div.sk-container {/* jupyter's `normalize.less` sets `[hidden] { display: none; }` but bootstrap.min.css set `[hidden] { display: none !important; }` so we also need the `!important` here to be able to override the default hidden behavior on the sphinx rendered scikit-learn.org. See: https://github.com/scikit-learn/scikit-learn/issues/21755 */display: inline-block !important;position: relative;}#sk-container-id-2 div.sk-text-repr-fallback {display: none;}</style><div id=\"sk-container-id-2\" class=\"sk-top-container\"><div class=\"sk-text-repr-fallback\"><pre>Pipeline(steps=[(&#x27;columntransformer&#x27;,\n",
       "                 ColumnTransformer(remainder=&#x27;passthrough&#x27;,\n",
       "                                   transformers=[(&#x27;onehotencoder&#x27;,\n",
       "                                                  OneHotEncoder(handle_unknown=&#x27;ignore&#x27;),\n",
       "                                                  [&#x27;category&#x27;])])),\n",
       "                (&#x27;standardscaler&#x27;, StandardScaler()),\n",
       "                (&#x27;randomforestclassifier&#x27;,\n",
       "                 RandomForestClassifier(max_depth=18,\n",
       "                                        max_features=0.6662238032752099,\n",
       "                                        min_samples_leaf=0.001650766749167092,\n",
       "                                        min_samples_split=0.0033905037200391095,\n",
       "                                        n_estimators=677, random_state=124))])</pre><b>In a Jupyter environment, please rerun this cell to show the HTML representation or trust the notebook. <br />On GitHub, the HTML representation is unable to render, please try loading this page with nbviewer.org.</b></div><div class=\"sk-container\" hidden><div class=\"sk-item sk-dashed-wrapped\"><div class=\"sk-label-container\"><div class=\"sk-label sk-toggleable\"><input class=\"sk-toggleable__control sk-hidden--visually\" id=\"sk-estimator-id-9\" type=\"checkbox\" ><label for=\"sk-estimator-id-9\" class=\"sk-toggleable__label sk-toggleable__label-arrow\">Pipeline</label><div class=\"sk-toggleable__content\"><pre>Pipeline(steps=[(&#x27;columntransformer&#x27;,\n",
       "                 ColumnTransformer(remainder=&#x27;passthrough&#x27;,\n",
       "                                   transformers=[(&#x27;onehotencoder&#x27;,\n",
       "                                                  OneHotEncoder(handle_unknown=&#x27;ignore&#x27;),\n",
       "                                                  [&#x27;category&#x27;])])),\n",
       "                (&#x27;standardscaler&#x27;, StandardScaler()),\n",
       "                (&#x27;randomforestclassifier&#x27;,\n",
       "                 RandomForestClassifier(max_depth=18,\n",
       "                                        max_features=0.6662238032752099,\n",
       "                                        min_samples_leaf=0.001650766749167092,\n",
       "                                        min_samples_split=0.0033905037200391095,\n",
       "                                        n_estimators=677, random_state=124))])</pre></div></div></div><div class=\"sk-serial\"><div class=\"sk-item sk-dashed-wrapped\"><div class=\"sk-label-container\"><div class=\"sk-label sk-toggleable\"><input class=\"sk-toggleable__control sk-hidden--visually\" id=\"sk-estimator-id-10\" type=\"checkbox\" ><label for=\"sk-estimator-id-10\" class=\"sk-toggleable__label sk-toggleable__label-arrow\">columntransformer: ColumnTransformer</label><div class=\"sk-toggleable__content\"><pre>ColumnTransformer(remainder=&#x27;passthrough&#x27;,\n",
       "                  transformers=[(&#x27;onehotencoder&#x27;,\n",
       "                                 OneHotEncoder(handle_unknown=&#x27;ignore&#x27;),\n",
       "                                 [&#x27;category&#x27;])])</pre></div></div></div><div class=\"sk-parallel\"><div class=\"sk-parallel-item\"><div class=\"sk-item\"><div class=\"sk-label-container\"><div class=\"sk-label sk-toggleable\"><input class=\"sk-toggleable__control sk-hidden--visually\" id=\"sk-estimator-id-11\" type=\"checkbox\" ><label for=\"sk-estimator-id-11\" class=\"sk-toggleable__label sk-toggleable__label-arrow\">onehotencoder</label><div class=\"sk-toggleable__content\"><pre>[&#x27;category&#x27;]</pre></div></div></div><div class=\"sk-serial\"><div class=\"sk-item\"><div class=\"sk-estimator sk-toggleable\"><input class=\"sk-toggleable__control sk-hidden--visually\" id=\"sk-estimator-id-12\" type=\"checkbox\" ><label for=\"sk-estimator-id-12\" class=\"sk-toggleable__label sk-toggleable__label-arrow\">OneHotEncoder</label><div class=\"sk-toggleable__content\"><pre>OneHotEncoder(handle_unknown=&#x27;ignore&#x27;)</pre></div></div></div></div></div></div><div class=\"sk-parallel-item\"><div class=\"sk-item\"><div class=\"sk-label-container\"><div class=\"sk-label sk-toggleable\"><input class=\"sk-toggleable__control sk-hidden--visually\" id=\"sk-estimator-id-13\" type=\"checkbox\" ><label for=\"sk-estimator-id-13\" class=\"sk-toggleable__label sk-toggleable__label-arrow\">remainder</label><div class=\"sk-toggleable__content\"><pre>[&#x27;calories&#x27;, &#x27;carbohydrate&#x27;, &#x27;sugar&#x27;, &#x27;protein&#x27;, &#x27;servings&#x27;]</pre></div></div></div><div class=\"sk-serial\"><div class=\"sk-item\"><div class=\"sk-estimator sk-toggleable\"><input class=\"sk-toggleable__control sk-hidden--visually\" id=\"sk-estimator-id-14\" type=\"checkbox\" ><label for=\"sk-estimator-id-14\" class=\"sk-toggleable__label sk-toggleable__label-arrow\">passthrough</label><div class=\"sk-toggleable__content\"><pre>passthrough</pre></div></div></div></div></div></div></div></div><div class=\"sk-item\"><div class=\"sk-estimator sk-toggleable\"><input class=\"sk-toggleable__control sk-hidden--visually\" id=\"sk-estimator-id-15\" type=\"checkbox\" ><label for=\"sk-estimator-id-15\" class=\"sk-toggleable__label sk-toggleable__label-arrow\">StandardScaler</label><div class=\"sk-toggleable__content\"><pre>StandardScaler()</pre></div></div></div><div class=\"sk-item\"><div class=\"sk-estimator sk-toggleable\"><input class=\"sk-toggleable__control sk-hidden--visually\" id=\"sk-estimator-id-16\" type=\"checkbox\" ><label for=\"sk-estimator-id-16\" class=\"sk-toggleable__label sk-toggleable__label-arrow\">RandomForestClassifier</label><div class=\"sk-toggleable__content\"><pre>RandomForestClassifier(max_depth=18, max_features=0.6662238032752099,\n",
       "                       min_samples_leaf=0.001650766749167092,\n",
       "                       min_samples_split=0.0033905037200391095,\n",
       "                       n_estimators=677, random_state=124)</pre></div></div></div></div></div></div></div>"
      ],
      "text/plain": [
       "Pipeline(steps=[('columntransformer',\n",
       "                 ColumnTransformer(remainder='passthrough',\n",
       "                                   transformers=[('onehotencoder',\n",
       "                                                  OneHotEncoder(handle_unknown='ignore'),\n",
       "                                                  ['category'])])),\n",
       "                ('standardscaler', StandardScaler()),\n",
       "                ('randomforestclassifier',\n",
       "                 RandomForestClassifier(max_depth=18,\n",
       "                                        max_features=0.6662238032752099,\n",
       "                                        min_samples_leaf=0.001650766749167092,\n",
       "                                        min_samples_split=0.0033905037200391095,\n",
       "                                        n_estimators=677, random_state=124))])"
      ]
     },
     "execution_count": 32,
     "metadata": {},
     "output_type": "execute_result"
    }
   ],
   "source": [
    "rf_model = train_model(X_merged, y_merged, RandomForestClassifier, **rfc_best_params)\n",
    "rf_model"
   ]
  },
  {
   "cell_type": "code",
   "execution_count": 33,
   "metadata": {},
   "outputs": [
    {
     "data": {
      "text/html": [
       "<div>\n",
       "<style scoped>\n",
       "    .dataframe tbody tr th:only-of-type {\n",
       "        vertical-align: middle;\n",
       "    }\n",
       "\n",
       "    .dataframe tbody tr th {\n",
       "        vertical-align: top;\n",
       "    }\n",
       "\n",
       "    .dataframe thead th {\n",
       "        text-align: right;\n",
       "    }\n",
       "</style>\n",
       "<table border=\"1\" class=\"dataframe\">\n",
       "  <thead>\n",
       "    <tr style=\"text-align: right;\">\n",
       "      <th></th>\n",
       "      <th>calories</th>\n",
       "      <th>carbohydrate</th>\n",
       "      <th>sugar</th>\n",
       "      <th>protein</th>\n",
       "      <th>category</th>\n",
       "      <th>servings</th>\n",
       "    </tr>\n",
       "  </thead>\n",
       "  <tbody>\n",
       "    <tr>\n",
       "      <th>325</th>\n",
       "      <td>718.34</td>\n",
       "      <td>16.61</td>\n",
       "      <td>8.54</td>\n",
       "      <td>4.52</td>\n",
       "      <td>Chicken</td>\n",
       "      <td>4</td>\n",
       "    </tr>\n",
       "    <tr>\n",
       "      <th>879</th>\n",
       "      <td>190.33</td>\n",
       "      <td>22.62</td>\n",
       "      <td>0.51</td>\n",
       "      <td>11.92</td>\n",
       "      <td>Meat</td>\n",
       "      <td>4</td>\n",
       "    </tr>\n",
       "  </tbody>\n",
       "</table>\n",
       "</div>"
      ],
      "text/plain": [
       "     calories  carbohydrate  sugar  protein category servings\n",
       "325    718.34         16.61   8.54     4.52  Chicken        4\n",
       "879    190.33         22.62   0.51    11.92     Meat        4"
      ]
     },
     "execution_count": 33,
     "metadata": {},
     "output_type": "execute_result"
    }
   ],
   "source": [
    "test = X_test.iloc[:2]\n",
    "test"
   ]
  },
  {
   "cell_type": "code",
   "execution_count": 34,
   "metadata": {},
   "outputs": [
    {
     "data": {
      "text/plain": [
       "array([1, 0])"
      ]
     },
     "execution_count": 34,
     "metadata": {},
     "output_type": "execute_result"
    }
   ],
   "source": [
    "rf_model.predict(test)"
   ]
  },
  {
   "cell_type": "code",
   "execution_count": 35,
   "metadata": {},
   "outputs": [
    {
     "data": {
      "text/plain": [
       "325    Low\n",
       "879    Low\n",
       "Name: high_traffic, dtype: object"
      ]
     },
     "execution_count": 35,
     "metadata": {},
     "output_type": "execute_result"
    }
   ],
   "source": [
    "y_test.iloc[:2]"
   ]
  },
  {
   "cell_type": "markdown",
   "metadata": {},
   "source": [
    "Out of the 2 options in the test data the model correctly predicted one. So far this is the best performing model. \n",
    "\n",
    "Let us save it so we can use it in comparisons with other models."
   ]
  },
  {
   "cell_type": "code",
   "execution_count": 36,
   "metadata": {},
   "outputs": [],
   "source": [
    "model_path = os.path.join(\"..\",\"models\")\n",
    "try:\n",
    "    os.makedirs(model_path, exist_ok=True)\n",
    "\n",
    "    joblib.dump(rf_model, os.path.join(model_path, \"randomforest.joblib\"))\n",
    "except Exception as dir_creation_error:\n",
    "    print(f\"Error creating directory '{model_path}': {dir_creation_error}\")"
   ]
  }
 ],
 "metadata": {
  "kernelspec": {
   "display_name": "ml",
   "language": "python",
   "name": "python3"
  },
  "language_info": {
   "codemirror_mode": {
    "name": "ipython",
    "version": 3
   },
   "file_extension": ".py",
   "mimetype": "text/x-python",
   "name": "python",
   "nbconvert_exporter": "python",
   "pygments_lexer": "ipython3",
   "version": "3.9.18"
  }
 },
 "nbformat": 4,
 "nbformat_minor": 2
}
