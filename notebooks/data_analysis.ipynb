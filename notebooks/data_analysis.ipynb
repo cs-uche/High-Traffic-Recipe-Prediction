{
 "cells": [
  {
   "cell_type": "markdown",
   "metadata": {},
   "source": [
    "# Data Analysis"
   ]
  },
  {
   "cell_type": "markdown",
   "metadata": {},
   "source": [
    "## <a id=\"index\">Table of Contents:</a>\n",
    "* [Intro](#intro)\n",
    "* [Data Load](#load-data)\n",
    "* [Data Validation](#validation)\n",
    "* [Exploratory Data Analysis](#eda)\n",
    "    * [Category Analysis](#category)\n",
    "    * [Servings Analysis](#servings)\n",
    "    * [High-Traffic Column Analysis](#target-analysis)\n",
    "    * [Handling Missing Values](#missing-values)\n",
    "    * [Other Numeric Features Analysis](#numeric-features)"
   ]
  },
  {
   "cell_type": "markdown",
   "metadata": {},
   "source": [
    "## <a id=\"intro\">Intro</a> <font size='2'>[Table of contents🔝](#index)<font size>"
   ]
  },
  {
   "cell_type": "markdown",
   "metadata": {},
   "source": [
    "\n",
    "The primary goal of this notebook is to prepare our dataset for subsequent analysis and modeling. In doing so, we will conduct data preprocessing tasks to enhance data quality, remove duplicates, handle missing values, and address outliers. Additionally, we will perform exploratory analysis to gain insights into the dataset's characteristics.\n",
    "\n",
    "As part of our data preprocessing journey, we will introduce the concept of a data preprocessing pipeline. This pipeline will help streamline and organize the various data preparation tasks. \n",
    "\n",
    "Let's get started!"
   ]
  },
  {
   "cell_type": "markdown",
   "metadata": {},
   "source": [
    "## <a id=\"load-data\">Load Data</a> <font size='2'>[Table of contents🔝](#index)<font size>"
   ]
  },
  {
   "cell_type": "markdown",
   "metadata": {},
   "source": [
    "Imports and function definitions"
   ]
  },
  {
   "cell_type": "code",
   "execution_count": null,
   "metadata": {},
   "outputs": [],
   "source": [
    "import matplotlib.pyplot as plt \n",
    "import numpy as np\n",
    "\n",
    "import os\n",
    "import pandas as pd\n",
    "import plotly.express as px\n",
    "import seaborn as sns\n",
    "\n",
    "from sklearn.preprocessing import OneHotEncoder\n",
    "from sklearn.model_selection import train_test_split\n",
    "\n",
    "# import warnings\n",
    "# # Ignore FutureWarnings\n",
    "# warnings.simplefilter(action='ignore', category=[FutureWarning])"
   ]
  },
  {
   "cell_type": "code",
   "execution_count": null,
   "metadata": {},
   "outputs": [],
   "source": [
    "def get_dataTypes_and_missingValues(df):\n",
    "    info = pd.DataFrame()\n",
    "    info['data_types'] =  df.dtypes\n",
    "    info['unique_values'] = df.nunique()\n",
    "    info['missing_values'] = df.isna().sum()\n",
    "    return info"
   ]
  },
  {
   "cell_type": "code",
   "execution_count": null,
   "metadata": {},
   "outputs": [],
   "source": [
    "data_dir = os.path.join(\"..\",\"data\")\n",
    "print(f\"The files contained in the data directory are: {', '.join(os.listdir(data_dir))}\")"
   ]
  },
  {
   "cell_type": "code",
   "execution_count": null,
   "metadata": {},
   "outputs": [],
   "source": [
    "data_path = os.path.join(data_dir, \"recipe_site_traffic.csv\")\n",
    "raw_df = pd.read_csv(data_path)"
   ]
  },
  {
   "cell_type": "markdown",
   "metadata": {},
   "source": [
    "## <a id=\"validation\">Data Validation</a> <font size='2'>[Table of contents🔝](#index)<font size>"
   ]
  },
  {
   "cell_type": "code",
   "execution_count": null,
   "metadata": {},
   "outputs": [],
   "source": [
    "print(f\"There are {raw_df.shape[0]} rows and {raw_df.shape[1]} columns\")"
   ]
  },
  {
   "cell_type": "code",
   "execution_count": null,
   "metadata": {},
   "outputs": [],
   "source": [
    "raw_df.head()"
   ]
  },
  {
   "cell_type": "markdown",
   "metadata": {},
   "source": [
    "There are some missing values and the recipie column is a unique identifier of each recipe/row.\n",
    "\n",
    "The recipe column can be dropped and the other columns explored further."
   ]
  },
  {
   "cell_type": "code",
   "execution_count": null,
   "metadata": {},
   "outputs": [],
   "source": [
    "raw_df.drop(\"recipe\", axis=1, inplace=True)\n",
    "raw_df.head()"
   ]
  },
  {
   "cell_type": "markdown",
   "metadata": {},
   "source": [
    "The high_traffic column seems to represent the column for the target values. The missing values for the target need to be handled before further analysis is performed."
   ]
  },
  {
   "cell_type": "code",
   "execution_count": null,
   "metadata": {},
   "outputs": [],
   "source": [
    "print(f\"The unique values in the target values are {raw_df['high_traffic'].unique()}\")"
   ]
  },
  {
   "cell_type": "markdown",
   "metadata": {},
   "source": [
    "Since the target contains 'High' for popular recipes the and there is only 1 unique value for this feature the missing values represent recipes that were not popular and will be set to 'Low'."
   ]
  },
  {
   "cell_type": "code",
   "execution_count": null,
   "metadata": {},
   "outputs": [],
   "source": [
    "raw_df['high_traffic'] = raw_df['high_traffic'].fillna('Low')"
   ]
  },
  {
   "cell_type": "markdown",
   "metadata": {},
   "source": [
    "We visualize the distribution of traffic to get more insight"
   ]
  },
  {
   "cell_type": "code",
   "execution_count": null,
   "metadata": {},
   "outputs": [],
   "source": [
    "raw_df"
   ]
  },
  {
   "cell_type": "code",
   "execution_count": null,
   "metadata": {},
   "outputs": [],
   "source": [
    "explode = (0.1, 0)\n",
    "colors = [\"#17becf\", \"#e41a1c\"]\n",
    "raw_df['high_traffic'].value_counts().plot.pie(\n",
    "    autopct='%.2f%%', startangle=135, explode=explode, shadow=True, colors=colors\n",
    ")\n",
    "plt.title('Distribution of Recipe Traffic')\n",
    "plt.axis('equal')\n",
    "plt.show()"
   ]
  },
  {
   "cell_type": "markdown",
   "metadata": {},
   "source": [
    "Before preprocessing the data we will check for duplicates then split the data to avoid **data leakage**."
   ]
  },
  {
   "cell_type": "code",
   "execution_count": null,
   "metadata": {},
   "outputs": [],
   "source": [
    "print(f\"There are {raw_df.duplicated().sum()} duplicates in the dataframe\")"
   ]
  },
  {
   "cell_type": "markdown",
   "metadata": {},
   "source": [
    "Removing the duplicates from the dataframe below"
   ]
  },
  {
   "cell_type": "code",
   "execution_count": null,
   "metadata": {},
   "outputs": [],
   "source": [
    "raw_df.drop_duplicates(inplace=True)\n",
    "print(f\"After dropping the duplicates there are {len(raw_df)} observations\")"
   ]
  },
  {
   "cell_type": "markdown",
   "metadata": {},
   "source": [
    "Since the duplicates have been removed the data can be split."
   ]
  },
  {
   "cell_type": "code",
   "execution_count": null,
   "metadata": {},
   "outputs": [],
   "source": [
    "X = raw_df.drop('high_traffic', axis=1)\n",
    "y = raw_df['high_traffic']\n",
    "X_train, X_test, y_train, y_test = train_test_split(X, y, test_size=0.2, random_state=42, shuffle=True)\n",
    "X_train, X_val, y_train, y_val = train_test_split(X_train, y_train, test_size=0.15, random_state=42, shuffle=True)"
   ]
  },
  {
   "cell_type": "code",
   "execution_count": null,
   "metadata": {},
   "outputs": [],
   "source": [
    "print(\"After the split the observations in the data are\")\n",
    "print(f\"Train: {len(X_train)}, validation: {len(X_val)}, test: {len(X_test)}\")"
   ]
  },
  {
   "cell_type": "markdown",
   "metadata": {},
   "source": [
    "## <a id=\"eda\">Exploratory Analysis</a> <font size='2'>[Table of contents🔝](#index)<font size>"
   ]
  },
  {
   "cell_type": "markdown",
   "metadata": {},
   "source": [
    "Let's get a better overview of the data using visualizations and complete the data validation from the previous step preparing the data to be used in training the model."
   ]
  },
  {
   "cell_type": "code",
   "execution_count": null,
   "metadata": {},
   "outputs": [],
   "source": [
    "train_df = pd.concat([X_train, y_train], axis=1).reset_index(drop=True)\n",
    "train_df.head()"
   ]
  },
  {
   "cell_type": "markdown",
   "metadata": {},
   "source": [
    "### <a id=\"category\">Category Analysis</a> <font size='2'>[Table of contents🔝](#index)<font size>"
   ]
  },
  {
   "cell_type": "markdown",
   "metadata": {},
   "source": [
    "Taking a closer look at the category column"
   ]
  },
  {
   "cell_type": "code",
   "execution_count": null,
   "metadata": {},
   "outputs": [],
   "source": [
    "train_df['high_traffic'].unique()"
   ]
  },
  {
   "cell_type": "code",
   "execution_count": null,
   "metadata": {},
   "outputs": [],
   "source": [
    "sns.histplot(train_df, x='category', hue='high_traffic', multiple='stack')\n",
    "plt.title('Recipe Food Categories')\n",
    "plt.xticks(rotation=90)\n",
    "plt.show()"
   ]
  },
  {
   "cell_type": "markdown",
   "metadata": {},
   "source": [
    "It seems like vegetable and potato featured foods generate the highest traffic relative to the low traffic, however beverages and breakfast items generate the least traffic relative to the high traffic."
   ]
  },
  {
   "cell_type": "code",
   "execution_count": null,
   "metadata": {},
   "outputs": [],
   "source": [
    "categories = train_df['category'].unique()\n",
    "print(f\"The {len(categories)} categories in the train features are:\\n {', '.join(categories)}\")"
   ]
  },
  {
   "cell_type": "markdown",
   "metadata": {},
   "source": [
    "The category column needs to match the required categories in one of the 10 possible categories. \n",
    "\n",
    "Lunch/Snacks', 'Beverages', 'Potato','Vegetable', 'Meat', 'Chicken, 'Pork', 'Dessert', 'Breakfast', 'One Dish Meal'\n",
    "\n",
    "However, there are 11 categories, an extra category 'Chicken Breast' was added. This category needs to be converted to 'Chicken'"
   ]
  },
  {
   "cell_type": "code",
   "execution_count": null,
   "metadata": {},
   "outputs": [],
   "source": [
    "train_df['category'] = train_df['category'].replace('Chicken Breast', 'Chicken')"
   ]
  },
  {
   "cell_type": "code",
   "execution_count": null,
   "metadata": {},
   "outputs": [],
   "source": [
    "print(\"After replacing the occurences of Chicken Breast with Chicken\")\n",
    "categories = train_df['category'].unique()\n",
    "print(f\"The {len(categories)} categories in the train features are:\\n {', '.join(categories)}\")"
   ]
  },
  {
   "cell_type": "markdown",
   "metadata": {},
   "source": [
    "Visualizing the Food Categories"
   ]
  },
  {
   "cell_type": "code",
   "execution_count": null,
   "metadata": {},
   "outputs": [],
   "source": [
    "colors = sns.color_palette('pastel')[0:5]\n",
    "\n",
    "train_df['category'].value_counts().plot.pie(colors=colors,\n",
    "                                            autopct='%.2f%%', \n",
    "                                            shadow=True, startangle=140)\n",
    "plt.title(\"Distribution of the category of food items\")\n",
    "plt.axis('equal')\n",
    "plt.show()"
   ]
  },
  {
   "cell_type": "markdown",
   "metadata": {},
   "source": [
    "The chicken category is the largest category in the dataframe."
   ]
  },
  {
   "cell_type": "code",
   "execution_count": null,
   "metadata": {},
   "outputs": [],
   "source": [
    "sns.histplot(train_df, x='category', hue='high_traffic', multiple='stack')\n",
    "plt.title('Recipe Food Categories')\n",
    "plt.xticks(rotation=90)\n",
    "plt.show()"
   ]
  },
  {
   "cell_type": "markdown",
   "metadata": {},
   "source": [
    "After merging the 2 chicken categories chicken generates the most traffic(high and low) but it seems that chicken based dishes generate nearly as much high traffic as they do low traffic."
   ]
  },
  {
   "cell_type": "markdown",
   "metadata": {},
   "source": [
    "**Encoding Categorical Values**\n",
    "\n",
    "Converting the categories to numeric representations. We will opt for creating a unique column for each category (one-hot encoding) as there is no inherent order in the categories."
   ]
  },
  {
   "cell_type": "code",
   "execution_count": null,
   "metadata": {},
   "outputs": [],
   "source": [
    "cat_features = ['category']\n",
    "enc = OneHotEncoder(sparse_output=False)\n",
    "enc.fit(train_df[cat_features])\n",
    "converted_categories = enc.get_feature_names_out().tolist()\n",
    "train_df[converted_categories] = enc.transform(train_df[cat_features])\n",
    "train_df.drop('category', axis=1, inplace=True)"
   ]
  },
  {
   "cell_type": "code",
   "execution_count": null,
   "metadata": {},
   "outputs": [],
   "source": [
    "train_df.head()"
   ]
  },
  {
   "cell_type": "markdown",
   "metadata": {},
   "source": [
    "Now there is only 1 other non-numeric column the target column `high_traffic`"
   ]
  },
  {
   "cell_type": "code",
   "execution_count": null,
   "metadata": {},
   "outputs": [],
   "source": [
    "non_numeric_cols = train_df.select_dtypes(exclude=np.number).columns.values\n",
    "print(f\"The non numeric columns are {', '.join(non_numeric_cols)}\")"
   ]
  },
  {
   "cell_type": "markdown",
   "metadata": {},
   "source": [
    "### <a id=\"servings\">Servings Analysis</a> <font size='2'>[Table of contents🔝](#index)<font size>"
   ]
  },
  {
   "cell_type": "code",
   "execution_count": null,
   "metadata": {},
   "outputs": [],
   "source": [
    "train_df.info()"
   ]
  },
  {
   "cell_type": "code",
   "execution_count": null,
   "metadata": {},
   "outputs": [],
   "source": [
    "train_df['servings'].sort_values()"
   ]
  },
  {
   "cell_type": "markdown",
   "metadata": {},
   "source": [
    "The feature servings seems to contain only numeric values. However, the data type for that column is type object so there should either be some incorrect values or the column was simply stored in a wrong data type.\n",
    "\n",
    "Below we will try converting the column to int data type."
   ]
  },
  {
   "cell_type": "code",
   "execution_count": null,
   "metadata": {},
   "outputs": [],
   "source": [
    "try:\n",
    "    train_df['servings'].astype(int)\n",
    "except Exception:\n",
    "    print(\"The column contains non-numeric characters\")"
   ]
  },
  {
   "cell_type": "markdown",
   "metadata": {},
   "source": [
    "Let us try to figure out the non integer data types contained in the servings column"
   ]
  },
  {
   "cell_type": "code",
   "execution_count": null,
   "metadata": {},
   "outputs": [],
   "source": [
    "mask = train_df['servings'].astype(str).str.contains(r'\\D', regex=True)\n",
    "non_numeric_values = train_df[mask]\n",
    "\n",
    "print(\"Non-numeric values in servings\")\n",
    "non_numeric_values"
   ]
  },
  {
   "cell_type": "markdown",
   "metadata": {},
   "source": [
    "There is one occurence where the serving does not contain only numeric values however this instance can be converted to a numeric representation of 4. The category is snack and 4 serving were taken as a snack. This is probably an inputation error."
   ]
  },
  {
   "cell_type": "code",
   "execution_count": null,
   "metadata": {},
   "outputs": [],
   "source": [
    "train_df.loc[mask, 'servings'] = 4\n",
    "train_df['servings'] = train_df['servings'].astype(int)\n",
    "\n",
    "non_numeric_cols = train_df.select_dtypes(exclude=np.number).columns.values\n",
    "print(f\"The non numeric columns are {''.join(non_numeric_cols)}\")"
   ]
  },
  {
   "cell_type": "markdown",
   "metadata": {},
   "source": [
    "### <a id=\"target-analysis\">High-Traffic Column Analysis</a> <font size='2'>[Table of contents🔝](#index)<font size>"
   ]
  },
  {
   "cell_type": "markdown",
   "metadata": {},
   "source": [
    "Visualizing the target column"
   ]
  },
  {
   "cell_type": "code",
   "execution_count": null,
   "metadata": {},
   "outputs": [],
   "source": [
    "sns.countplot(train_df, y='servings', hue='high_traffic')\n",
    "plt.title('Histogram of Serving Size')\n",
    "plt.show()"
   ]
  },
  {
   "cell_type": "markdown",
   "metadata": {},
   "source": [
    "When the serving size was 4 the most traffic is generated however, there is no trend to indicate that higher servings translate to higher traffic. Serving might not be a good indicator on its own of if there is high traffic or not."
   ]
  },
  {
   "cell_type": "code",
   "execution_count": null,
   "metadata": {},
   "outputs": [],
   "source": [
    "sns.violinplot(train_df, x='servings', y='high_traffic', scale='count')\n",
    "plt.title('Serving Sizes vs Traffic Volume')\n",
    "plt.show()"
   ]
  },
  {
   "cell_type": "markdown",
   "metadata": {},
   "source": [
    "From the violin plot the high traffic recipies have a wider distance indicating that there are more high traffic recipies than low traffic recipies if we distribute them based on the servings."
   ]
  },
  {
   "cell_type": "markdown",
   "metadata": {},
   "source": [
    "Some of the serving sizes are missing(3 and 5) this might be as a result of the split. **Could this pose a challenge?** "
   ]
  },
  {
   "cell_type": "markdown",
   "metadata": {},
   "source": [
    "### <a id=\"missing-values\">Handling Missing Values</a> <font size='2'>[Table of contents🔝](#index)<font size>"
   ]
  },
  {
   "cell_type": "code",
   "execution_count": null,
   "metadata": {},
   "outputs": [],
   "source": [
    "get_dataTypes_and_missingValues(train_df)"
   ]
  },
  {
   "cell_type": "markdown",
   "metadata": {},
   "source": [
    "There are still quite a few missing values. Let us explore them further."
   ]
  },
  {
   "cell_type": "code",
   "execution_count": null,
   "metadata": {},
   "outputs": [],
   "source": [
    "missing_indices = train_df[train_df['calories'].isnull()].index\n",
    "train_df.iloc[missing_indices]"
   ]
  },
  {
   "cell_type": "markdown",
   "metadata": {},
   "source": [
    "There are 4 columns with 14 missing values each, however all the 14 columns coincide and are spread accross different categories and servings. The missing data would be difficult to recreate/predict and do not make up a significant amount of the data for this analysis so they would be omitted."
   ]
  },
  {
   "cell_type": "code",
   "execution_count": null,
   "metadata": {},
   "outputs": [],
   "source": [
    "train_df.drop(missing_indices, inplace=True)\n",
    "print(f\"After cleaning up the dataframe there are {train_df.isna().values.sum()} missing values\")"
   ]
  },
  {
   "cell_type": "markdown",
   "metadata": {},
   "source": [
    "### <a id=\"numeric-features\">Other Numeric Features Analysis</a> <font size='2'>[Table of contents🔝](#index)<font size>"
   ]
  },
  {
   "cell_type": "markdown",
   "metadata": {},
   "source": [
    "So far we have taken a look at 2 of the 6 columns the original features contained. Further analysis will focus on the other 4 columns and explore their relationship to the target."
   ]
  },
  {
   "cell_type": "code",
   "execution_count": null,
   "metadata": {},
   "outputs": [],
   "source": [
    "numeric_cols = ['calories', 'carbohydrate', 'sugar', 'protein', 'servings']\n",
    "train_df.loc[:,numeric_cols].describe()"
   ]
  },
  {
   "cell_type": "markdown",
   "metadata": {},
   "source": [
    "The code above gives the summary statistics of the unexplored columns plus the servings column. \n",
    "\n",
    "The ranges are below\n",
    "* Calories 0.14 - 2906.0\n",
    "* Carbohydrate 0.05 - 530.4 grams\n",
    "* Sugar 0.01 - 131.39 grams\n",
    "* Protein 0.00 - 239.57 grams\n",
    "* Servings 1 - 6\n",
    "\n",
    "A graphical visualization might provide insights that are easier to digest."
   ]
  },
  {
   "cell_type": "markdown",
   "metadata": {},
   "source": [
    "**Calories**"
   ]
  },
  {
   "cell_type": "code",
   "execution_count": null,
   "metadata": {},
   "outputs": [],
   "source": [
    "fig = px.histogram(train_df,\n",
    "                   x='calories',\n",
    "                   marginal='box',\n",
    "                   color='high_traffic',\n",
    "                   color_discrete_sequence=['green','grey'],\n",
    "                   title='Distribution of Calories by Traffic')\n",
    "fig.update_layout(bargap=0.1)\n",
    "fig.update_layout(width=700, height=500)\n",
    "fig.show()"
   ]
  },
  {
   "cell_type": "markdown",
   "metadata": {},
   "source": [
    "The data is right skewed with most of the calories residing in the left part of the graph and a couple of outliers towards the right part of the graph i.e towards where there are more calories.\n",
    "\n",
    "However higher traffic seems to be the norm regardless of the calories."
   ]
  },
  {
   "cell_type": "markdown",
   "metadata": {},
   "source": [
    "**Carbohydrates**"
   ]
  },
  {
   "cell_type": "code",
   "execution_count": null,
   "metadata": {},
   "outputs": [],
   "source": [
    "fig = px.histogram(train_df,\n",
    "                   x='carbohydrate',\n",
    "                   marginal='box',\n",
    "                   color='high_traffic',\n",
    "                   color_discrete_sequence=['green','grey'],\n",
    "                   title='Distribution of Carbohydrates by Traffic')\n",
    "fig.update_layout(bargap=0.1)\n",
    "fig.update_layout(width=700, height=500)\n",
    "fig.show()"
   ]
  },
  {
   "cell_type": "markdown",
   "metadata": {},
   "source": [
    "There is a similar trend as the calories: \n",
    "* Right skewed data and \n",
    "* Higher traffic regardless of the grams of carbohydrates\n",
    "\n",
    "However there seems to be a higher skew to the data"
   ]
  },
  {
   "cell_type": "markdown",
   "metadata": {},
   "source": [
    "**Sugar**"
   ]
  },
  {
   "cell_type": "code",
   "execution_count": null,
   "metadata": {},
   "outputs": [],
   "source": [
    "fig = px.histogram(train_df,\n",
    "                   x='sugar',\n",
    "                   marginal='box',\n",
    "                   color='high_traffic',\n",
    "                   color_discrete_sequence=['green','grey'],\n",
    "                   title='Distribution of Sugar by Traffic')\n",
    "fig.update_layout(bargap=0.1)\n",
    "fig.update_layout(width=700, height=500)\n",
    "fig.show()"
   ]
  },
  {
   "cell_type": "markdown",
   "metadata": {},
   "source": [
    "**Protein**"
   ]
  },
  {
   "cell_type": "code",
   "execution_count": null,
   "metadata": {},
   "outputs": [],
   "source": [
    "fig = px.histogram(train_df,\n",
    "                   x='protein',\n",
    "                   marginal='box',\n",
    "                   color='high_traffic',\n",
    "                   color_discrete_sequence=['green','grey'],\n",
    "                   title='Distribution of Protein by Traffic')\n",
    "fig.update_layout(bargap=0.1)\n",
    "fig.update_layout(width=700, height=500)\n",
    "fig.show()"
   ]
  },
  {
   "cell_type": "markdown",
   "metadata": {},
   "source": [
    "The sugar and protein columns have a similar trend as the calories: \n",
    "* Right skewed data and \n",
    "* Higher traffic regardless of the grams"
   ]
  },
  {
   "cell_type": "markdown",
   "metadata": {},
   "source": [
    "#### Visualization of all the numeric columns"
   ]
  },
  {
   "cell_type": "code",
   "execution_count": null,
   "metadata": {},
   "outputs": [],
   "source": [
    "pair_plot = sns.pairplot(train_df[numeric_cols + ['high_traffic']], hue='high_traffic', diag_kind='kde')\n",
    "\n",
    "pair_plot.fig.suptitle('Pairplot of Numeric Columns', y=1.02)\n",
    "pair_plot.fig.tight_layout()\n",
    "\n",
    "plt.show()"
   ]
  },
  {
   "cell_type": "markdown",
   "metadata": {},
   "source": [
    "There is no noticable trend in each pair of numerical columns (calories, carbohydrate, protein, sugar, serving) and the traffic generated."
   ]
  },
  {
   "cell_type": "code",
   "execution_count": null,
   "metadata": {},
   "outputs": [],
   "source": [
    "y_train = train_df['high_traffic']\n",
    "X_train =  train_df.drop('high_traffic', axis=1)"
   ]
  },
  {
   "cell_type": "markdown",
   "metadata": {},
   "source": [
    "At this step we will go ahead and train the model. Further feature engineering could be included in future steps.\n",
    "\n",
    "But, before the model is trained we will input all the pre-processing steps into a pipeline to ensure reproducability, maintainability and standardization of steps."
   ]
  }
 ],
 "metadata": {
  "kernelspec": {
   "display_name": "forecasting",
   "language": "python",
   "name": "python3"
  },
  "language_info": {
   "codemirror_mode": {
    "name": "ipython",
    "version": 3
   },
   "file_extension": ".py",
   "mimetype": "text/x-python",
   "name": "python",
   "nbconvert_exporter": "python",
   "pygments_lexer": "ipython3",
   "version": "3.11.4"
  }
 },
 "nbformat": 4,
 "nbformat_minor": 2
}
