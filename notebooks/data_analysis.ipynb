{
 "cells": [
  {
   "cell_type": "markdown",
   "metadata": {},
   "source": [
    "# Data Analysis"
   ]
  },
  {
   "cell_type": "markdown",
   "metadata": {},
   "source": [
    "## <a id=\"index\">Table of Contents:</a>\n",
    "* [Intro](#intro)\n",
    "* [Data Load](#load-data)\n",
    "* [Data Validation](#validation)\n",
    "* [Exploratory Data Analysis](#eda)\n",
    "    * [Category Analysis](#category)\n",
    "    * [Servings Analysis](#servings)\n",
    "    * [High-Traffic Column Analysis](#target-analysis)\n",
    "    * [Handling Missing Values](#missing-values)\n",
    "    * [Other Numeric Features Analysis](#numeric-features)"
   ]
  },
  {
   "cell_type": "markdown",
   "metadata": {},
   "source": [
    "## <a id=\"intro\">Intro</a> <font size='2'>[Table of contents🔝](#index)<font size>"
   ]
  },
  {
   "cell_type": "markdown",
   "metadata": {},
   "source": [
    "\n",
    "The primary goal of this notebook is to prepare our dataset for subsequent analysis and modeling. In doing so, we will conduct data preprocessing tasks to enhance data quality, remove duplicates, handle missing values, and address outliers. Additionally, we will perform exploratory analysis to gain insights into the dataset's characteristics.\n",
    "\n",
    "As part of our data preprocessing journey, we will introduce the concept of a data preprocessing pipeline. This pipeline will help streamline and organize the various data preparation tasks. \n",
    "\n",
    "Let's get started!"
   ]
  },
  {
   "cell_type": "markdown",
   "metadata": {},
   "source": [
    "## <a id=\"load-data\">Load Data</a> <font size='2'>[Table of contents🔝](#index)<font size>"
   ]
  },
  {
   "cell_type": "markdown",
   "metadata": {},
   "source": [
    "Imports and function definitions"
   ]
  },
  {
   "cell_type": "code",
   "execution_count": 1,
   "metadata": {},
   "outputs": [],
   "source": [
    "import matplotlib.pyplot as plt \n",
    "import numpy as np\n",
    "\n",
    "import os\n",
    "import pandas as pd\n",
    "import plotly.express as px\n",
    "import seaborn as sns\n",
    "\n",
    "from sklearn.preprocessing import OneHotEncoder\n",
    "from sklearn.model_selection import train_test_split"
   ]
  },
  {
   "cell_type": "code",
   "execution_count": 2,
   "metadata": {},
   "outputs": [],
   "source": [
    "def get_dataTypes_and_missingValues(df):\n",
    "    info = pd.DataFrame()\n",
    "    info['data_types'] =  df.dtypes\n",
    "    info['unique_values'] = df.nunique()\n",
    "    info['missing_values'] = df.isna().sum()\n",
    "    return info"
   ]
  },
  {
   "cell_type": "code",
   "execution_count": 3,
   "metadata": {},
   "outputs": [
    {
     "name": "stdout",
     "output_type": "stream",
     "text": [
      "The files contained in the data directory are: recipe_site_traffic.csv\n"
     ]
    }
   ],
   "source": [
    "data_dir = os.path.join(\"..\",\"data\")\n",
    "print(f\"The files contained in the data directory are: {', '.join(os.listdir(data_dir))}\")"
   ]
  },
  {
   "cell_type": "code",
   "execution_count": 4,
   "metadata": {},
   "outputs": [],
   "source": [
    "data_path = os.path.join(data_dir, \"recipe_site_traffic.csv\")\n",
    "raw_df = pd.read_csv(data_path)"
   ]
  },
  {
   "cell_type": "markdown",
   "metadata": {},
   "source": [
    "## <a id=\"validation\">Data Validation</a> <font size='2'>[Table of contents🔝](#index)<font size>"
   ]
  },
  {
   "cell_type": "code",
   "execution_count": 5,
   "metadata": {},
   "outputs": [
    {
     "name": "stdout",
     "output_type": "stream",
     "text": [
      "There are 947 rows and 8 columns\n"
     ]
    }
   ],
   "source": [
    "print(f\"There are {raw_df.shape[0]} rows and {raw_df.shape[1]} columns\")"
   ]
  },
  {
   "cell_type": "code",
   "execution_count": 6,
   "metadata": {},
   "outputs": [
    {
     "data": {
      "text/html": [
       "<div>\n",
       "<style scoped>\n",
       "    .dataframe tbody tr th:only-of-type {\n",
       "        vertical-align: middle;\n",
       "    }\n",
       "\n",
       "    .dataframe tbody tr th {\n",
       "        vertical-align: top;\n",
       "    }\n",
       "\n",
       "    .dataframe thead th {\n",
       "        text-align: right;\n",
       "    }\n",
       "</style>\n",
       "<table border=\"1\" class=\"dataframe\">\n",
       "  <thead>\n",
       "    <tr style=\"text-align: right;\">\n",
       "      <th></th>\n",
       "      <th>recipe</th>\n",
       "      <th>calories</th>\n",
       "      <th>carbohydrate</th>\n",
       "      <th>sugar</th>\n",
       "      <th>protein</th>\n",
       "      <th>category</th>\n",
       "      <th>servings</th>\n",
       "      <th>high_traffic</th>\n",
       "    </tr>\n",
       "  </thead>\n",
       "  <tbody>\n",
       "    <tr>\n",
       "      <th>0</th>\n",
       "      <td>1</td>\n",
       "      <td>NaN</td>\n",
       "      <td>NaN</td>\n",
       "      <td>NaN</td>\n",
       "      <td>NaN</td>\n",
       "      <td>Pork</td>\n",
       "      <td>6</td>\n",
       "      <td>High</td>\n",
       "    </tr>\n",
       "    <tr>\n",
       "      <th>1</th>\n",
       "      <td>2</td>\n",
       "      <td>35.48</td>\n",
       "      <td>38.56</td>\n",
       "      <td>0.66</td>\n",
       "      <td>0.92</td>\n",
       "      <td>Potato</td>\n",
       "      <td>4</td>\n",
       "      <td>High</td>\n",
       "    </tr>\n",
       "    <tr>\n",
       "      <th>2</th>\n",
       "      <td>3</td>\n",
       "      <td>914.28</td>\n",
       "      <td>42.68</td>\n",
       "      <td>3.09</td>\n",
       "      <td>2.88</td>\n",
       "      <td>Breakfast</td>\n",
       "      <td>1</td>\n",
       "      <td>NaN</td>\n",
       "    </tr>\n",
       "    <tr>\n",
       "      <th>3</th>\n",
       "      <td>4</td>\n",
       "      <td>97.03</td>\n",
       "      <td>30.56</td>\n",
       "      <td>38.63</td>\n",
       "      <td>0.02</td>\n",
       "      <td>Beverages</td>\n",
       "      <td>4</td>\n",
       "      <td>High</td>\n",
       "    </tr>\n",
       "    <tr>\n",
       "      <th>4</th>\n",
       "      <td>5</td>\n",
       "      <td>27.05</td>\n",
       "      <td>1.85</td>\n",
       "      <td>0.80</td>\n",
       "      <td>0.53</td>\n",
       "      <td>Beverages</td>\n",
       "      <td>4</td>\n",
       "      <td>NaN</td>\n",
       "    </tr>\n",
       "  </tbody>\n",
       "</table>\n",
       "</div>"
      ],
      "text/plain": [
       "   recipe  calories  carbohydrate  sugar  protein   category servings  \\\n",
       "0       1       NaN           NaN    NaN      NaN       Pork        6   \n",
       "1       2     35.48         38.56   0.66     0.92     Potato        4   \n",
       "2       3    914.28         42.68   3.09     2.88  Breakfast        1   \n",
       "3       4     97.03         30.56  38.63     0.02  Beverages        4   \n",
       "4       5     27.05          1.85   0.80     0.53  Beverages        4   \n",
       "\n",
       "  high_traffic  \n",
       "0         High  \n",
       "1         High  \n",
       "2          NaN  \n",
       "3         High  \n",
       "4          NaN  "
      ]
     },
     "execution_count": 6,
     "metadata": {},
     "output_type": "execute_result"
    }
   ],
   "source": [
    "raw_df.head()"
   ]
  },
  {
   "cell_type": "markdown",
   "metadata": {},
   "source": [
    "There are some missing values and the recipie column is a unique identifier of each recipe/row.\n",
    "\n",
    "The recipe column can be dropped and the other columns explored further."
   ]
  },
  {
   "cell_type": "code",
   "execution_count": 7,
   "metadata": {},
   "outputs": [
    {
     "data": {
      "text/html": [
       "<div>\n",
       "<style scoped>\n",
       "    .dataframe tbody tr th:only-of-type {\n",
       "        vertical-align: middle;\n",
       "    }\n",
       "\n",
       "    .dataframe tbody tr th {\n",
       "        vertical-align: top;\n",
       "    }\n",
       "\n",
       "    .dataframe thead th {\n",
       "        text-align: right;\n",
       "    }\n",
       "</style>\n",
       "<table border=\"1\" class=\"dataframe\">\n",
       "  <thead>\n",
       "    <tr style=\"text-align: right;\">\n",
       "      <th></th>\n",
       "      <th>calories</th>\n",
       "      <th>carbohydrate</th>\n",
       "      <th>sugar</th>\n",
       "      <th>protein</th>\n",
       "      <th>category</th>\n",
       "      <th>servings</th>\n",
       "      <th>high_traffic</th>\n",
       "    </tr>\n",
       "  </thead>\n",
       "  <tbody>\n",
       "    <tr>\n",
       "      <th>0</th>\n",
       "      <td>NaN</td>\n",
       "      <td>NaN</td>\n",
       "      <td>NaN</td>\n",
       "      <td>NaN</td>\n",
       "      <td>Pork</td>\n",
       "      <td>6</td>\n",
       "      <td>High</td>\n",
       "    </tr>\n",
       "    <tr>\n",
       "      <th>1</th>\n",
       "      <td>35.48</td>\n",
       "      <td>38.56</td>\n",
       "      <td>0.66</td>\n",
       "      <td>0.92</td>\n",
       "      <td>Potato</td>\n",
       "      <td>4</td>\n",
       "      <td>High</td>\n",
       "    </tr>\n",
       "    <tr>\n",
       "      <th>2</th>\n",
       "      <td>914.28</td>\n",
       "      <td>42.68</td>\n",
       "      <td>3.09</td>\n",
       "      <td>2.88</td>\n",
       "      <td>Breakfast</td>\n",
       "      <td>1</td>\n",
       "      <td>NaN</td>\n",
       "    </tr>\n",
       "    <tr>\n",
       "      <th>3</th>\n",
       "      <td>97.03</td>\n",
       "      <td>30.56</td>\n",
       "      <td>38.63</td>\n",
       "      <td>0.02</td>\n",
       "      <td>Beverages</td>\n",
       "      <td>4</td>\n",
       "      <td>High</td>\n",
       "    </tr>\n",
       "    <tr>\n",
       "      <th>4</th>\n",
       "      <td>27.05</td>\n",
       "      <td>1.85</td>\n",
       "      <td>0.80</td>\n",
       "      <td>0.53</td>\n",
       "      <td>Beverages</td>\n",
       "      <td>4</td>\n",
       "      <td>NaN</td>\n",
       "    </tr>\n",
       "  </tbody>\n",
       "</table>\n",
       "</div>"
      ],
      "text/plain": [
       "   calories  carbohydrate  sugar  protein   category servings high_traffic\n",
       "0       NaN           NaN    NaN      NaN       Pork        6         High\n",
       "1     35.48         38.56   0.66     0.92     Potato        4         High\n",
       "2    914.28         42.68   3.09     2.88  Breakfast        1          NaN\n",
       "3     97.03         30.56  38.63     0.02  Beverages        4         High\n",
       "4     27.05          1.85   0.80     0.53  Beverages        4          NaN"
      ]
     },
     "execution_count": 7,
     "metadata": {},
     "output_type": "execute_result"
    }
   ],
   "source": [
    "raw_df.drop(\"recipe\", axis=1, inplace=True)\n",
    "raw_df.head()"
   ]
  },
  {
   "cell_type": "markdown",
   "metadata": {},
   "source": [
    "The high_traffic column seems to represent the column for the target values. The missing values for the target need to be handled before further analysis is performed."
   ]
  },
  {
   "cell_type": "code",
   "execution_count": 8,
   "metadata": {},
   "outputs": [
    {
     "name": "stdout",
     "output_type": "stream",
     "text": [
      "The unique values in the target values are ['High' nan]\n"
     ]
    }
   ],
   "source": [
    "print(f\"The unique values in the target values are {raw_df['high_traffic'].unique()}\")"
   ]
  },
  {
   "cell_type": "markdown",
   "metadata": {},
   "source": [
    "Since the target contains 'High' for popular recipes the and there is only 1 unique value for this feature the missing values represent recipes that were not popular and will be set to 'Low'."
   ]
  },
  {
   "cell_type": "code",
   "execution_count": 9,
   "metadata": {},
   "outputs": [],
   "source": [
    "raw_df['high_traffic'] = raw_df['high_traffic'].fillna('Low')"
   ]
  },
  {
   "cell_type": "markdown",
   "metadata": {},
   "source": [
    "We visualize the distribution of traffic to get more insight"
   ]
  },
  {
   "cell_type": "code",
   "execution_count": 10,
   "metadata": {},
   "outputs": [
    {
     "data": {
      "text/html": [
       "<div>\n",
       "<style scoped>\n",
       "    .dataframe tbody tr th:only-of-type {\n",
       "        vertical-align: middle;\n",
       "    }\n",
       "\n",
       "    .dataframe tbody tr th {\n",
       "        vertical-align: top;\n",
       "    }\n",
       "\n",
       "    .dataframe thead th {\n",
       "        text-align: right;\n",
       "    }\n",
       "</style>\n",
       "<table border=\"1\" class=\"dataframe\">\n",
       "  <thead>\n",
       "    <tr style=\"text-align: right;\">\n",
       "      <th></th>\n",
       "      <th>calories</th>\n",
       "      <th>carbohydrate</th>\n",
       "      <th>sugar</th>\n",
       "      <th>protein</th>\n",
       "      <th>category</th>\n",
       "      <th>servings</th>\n",
       "      <th>high_traffic</th>\n",
       "    </tr>\n",
       "  </thead>\n",
       "  <tbody>\n",
       "    <tr>\n",
       "      <th>0</th>\n",
       "      <td>NaN</td>\n",
       "      <td>NaN</td>\n",
       "      <td>NaN</td>\n",
       "      <td>NaN</td>\n",
       "      <td>Pork</td>\n",
       "      <td>6</td>\n",
       "      <td>High</td>\n",
       "    </tr>\n",
       "    <tr>\n",
       "      <th>1</th>\n",
       "      <td>35.48</td>\n",
       "      <td>38.56</td>\n",
       "      <td>0.66</td>\n",
       "      <td>0.92</td>\n",
       "      <td>Potato</td>\n",
       "      <td>4</td>\n",
       "      <td>High</td>\n",
       "    </tr>\n",
       "    <tr>\n",
       "      <th>2</th>\n",
       "      <td>914.28</td>\n",
       "      <td>42.68</td>\n",
       "      <td>3.09</td>\n",
       "      <td>2.88</td>\n",
       "      <td>Breakfast</td>\n",
       "      <td>1</td>\n",
       "      <td>Low</td>\n",
       "    </tr>\n",
       "    <tr>\n",
       "      <th>3</th>\n",
       "      <td>97.03</td>\n",
       "      <td>30.56</td>\n",
       "      <td>38.63</td>\n",
       "      <td>0.02</td>\n",
       "      <td>Beverages</td>\n",
       "      <td>4</td>\n",
       "      <td>High</td>\n",
       "    </tr>\n",
       "    <tr>\n",
       "      <th>4</th>\n",
       "      <td>27.05</td>\n",
       "      <td>1.85</td>\n",
       "      <td>0.80</td>\n",
       "      <td>0.53</td>\n",
       "      <td>Beverages</td>\n",
       "      <td>4</td>\n",
       "      <td>Low</td>\n",
       "    </tr>\n",
       "    <tr>\n",
       "      <th>...</th>\n",
       "      <td>...</td>\n",
       "      <td>...</td>\n",
       "      <td>...</td>\n",
       "      <td>...</td>\n",
       "      <td>...</td>\n",
       "      <td>...</td>\n",
       "      <td>...</td>\n",
       "    </tr>\n",
       "    <tr>\n",
       "      <th>942</th>\n",
       "      <td>1161.00</td>\n",
       "      <td>5.31</td>\n",
       "      <td>22.39</td>\n",
       "      <td>44.22</td>\n",
       "      <td>Lunch/Snacks</td>\n",
       "      <td>2</td>\n",
       "      <td>Low</td>\n",
       "    </tr>\n",
       "    <tr>\n",
       "      <th>943</th>\n",
       "      <td>NaN</td>\n",
       "      <td>NaN</td>\n",
       "      <td>NaN</td>\n",
       "      <td>NaN</td>\n",
       "      <td>Potato</td>\n",
       "      <td>2</td>\n",
       "      <td>High</td>\n",
       "    </tr>\n",
       "    <tr>\n",
       "      <th>944</th>\n",
       "      <td>951.74</td>\n",
       "      <td>29.42</td>\n",
       "      <td>3.57</td>\n",
       "      <td>13.87</td>\n",
       "      <td>Pork</td>\n",
       "      <td>2</td>\n",
       "      <td>High</td>\n",
       "    </tr>\n",
       "    <tr>\n",
       "      <th>945</th>\n",
       "      <td>266.61</td>\n",
       "      <td>35.77</td>\n",
       "      <td>0.97</td>\n",
       "      <td>8.07</td>\n",
       "      <td>Potato</td>\n",
       "      <td>6</td>\n",
       "      <td>High</td>\n",
       "    </tr>\n",
       "    <tr>\n",
       "      <th>946</th>\n",
       "      <td>184.56</td>\n",
       "      <td>45.21</td>\n",
       "      <td>6.20</td>\n",
       "      <td>0.03</td>\n",
       "      <td>Beverages</td>\n",
       "      <td>4</td>\n",
       "      <td>Low</td>\n",
       "    </tr>\n",
       "  </tbody>\n",
       "</table>\n",
       "<p>947 rows × 7 columns</p>\n",
       "</div>"
      ],
      "text/plain": [
       "     calories  carbohydrate  sugar  protein      category servings  \\\n",
       "0         NaN           NaN    NaN      NaN          Pork        6   \n",
       "1       35.48         38.56   0.66     0.92        Potato        4   \n",
       "2      914.28         42.68   3.09     2.88     Breakfast        1   \n",
       "3       97.03         30.56  38.63     0.02     Beverages        4   \n",
       "4       27.05          1.85   0.80     0.53     Beverages        4   \n",
       "..        ...           ...    ...      ...           ...      ...   \n",
       "942   1161.00          5.31  22.39    44.22  Lunch/Snacks        2   \n",
       "943       NaN           NaN    NaN      NaN        Potato        2   \n",
       "944    951.74         29.42   3.57    13.87          Pork        2   \n",
       "945    266.61         35.77   0.97     8.07        Potato        6   \n",
       "946    184.56         45.21   6.20     0.03     Beverages        4   \n",
       "\n",
       "    high_traffic  \n",
       "0           High  \n",
       "1           High  \n",
       "2            Low  \n",
       "3           High  \n",
       "4            Low  \n",
       "..           ...  \n",
       "942          Low  \n",
       "943         High  \n",
       "944         High  \n",
       "945         High  \n",
       "946          Low  \n",
       "\n",
       "[947 rows x 7 columns]"
      ]
     },
     "execution_count": 10,
     "metadata": {},
     "output_type": "execute_result"
    }
   ],
   "source": [
    "raw_df"
   ]
  },
  {
   "cell_type": "code",
   "execution_count": 11,
   "metadata": {},
   "outputs": [
    {
     "data": {
      "image/png": "[encoded data removed]",
      "text/plain": [
       "<Figure size 640x480 with 1 Axes>"
      ]
     },
     "metadata": {},
     "output_type": "display_data"
    }
   ],
   "source": [
    "explode = (0.1, 0)\n",
    "colors = [\"#17becf\", \"#e41a1c\"]\n",
    "raw_df['high_traffic'].value_counts().plot.pie(\n",
    "    autopct='%.2f%%', startangle=135, explode=explode, shadow=True, colors=colors\n",
    ")\n",
    "plt.title('Distribution of Recipe Traffic')\n",
    "plt.axis('equal')\n",
    "plt.show()"
   ]
  },
  {
   "cell_type": "markdown",
   "metadata": {},
   "source": [
    "Before preprocessing the data we will check for duplicates then split the data to avoid **data leakage**."
   ]
  },
  {
   "cell_type": "code",
   "execution_count": 12,
   "metadata": {},
   "outputs": [
    {
     "name": "stdout",
     "output_type": "stream",
     "text": [
      "There are 23 duplicates in the dataframe\n"
     ]
    }
   ],
   "source": [
    "print(f\"There are {raw_df.duplicated().sum()} duplicates in the dataframe\")"
   ]
  },
  {
   "cell_type": "markdown",
   "metadata": {},
   "source": [
    "Removing the duplicates from the dataframe below"
   ]
  },
  {
   "cell_type": "code",
   "execution_count": 13,
   "metadata": {},
   "outputs": [
    {
     "name": "stdout",
     "output_type": "stream",
     "text": [
      "After dropping the duplicates there are 924 observations\n"
     ]
    }
   ],
   "source": [
    "raw_df.drop_duplicates(inplace=True)\n",
    "print(f\"After dropping the duplicates there are {len(raw_df)} observations\")"
   ]
  },
  {
   "cell_type": "markdown",
   "metadata": {},
   "source": [
    "Since the duplicates have been removed the data can be split."
   ]
  },
  {
   "cell_type": "code",
   "execution_count": 14,
   "metadata": {},
   "outputs": [],
   "source": [
    "X = raw_df.drop('high_traffic', axis=1)\n",
    "y = raw_df['high_traffic']\n",
    "X_train, X_test, y_train, y_test = train_test_split(X, y, test_size=0.2, random_state=42, shuffle=True)\n",
    "X_train, X_val, y_train, y_val = train_test_split(X_train, y_train, test_size=0.15, random_state=42, shuffle=True)"
   ]
  },
  {
   "cell_type": "code",
   "execution_count": 15,
   "metadata": {},
   "outputs": [
    {
     "name": "stdout",
     "output_type": "stream",
     "text": [
      "After the split the observations in the data are\n",
      "Train: 628, validation: 111, test: 185\n"
     ]
    }
   ],
   "source": [
    "print(\"After the split the observations in the data are\")\n",
    "print(f\"Train: {len(X_train)}, validation: {len(X_val)}, test: {len(X_test)}\")"
   ]
  },
  {
   "cell_type": "markdown",
   "metadata": {},
   "source": [
    "## <a id=\"eda\">Exploratory Analysis</a> <font size='2'>[Table of contents🔝](#index)<font size>"
   ]
  },
  {
   "cell_type": "markdown",
   "metadata": {},
   "source": [
    "Let's get a better overview of the data using visualizations and complete the data validation from the previous step preparing the data to be used in training the model."
   ]
  },
  {
   "cell_type": "code",
   "execution_count": 16,
   "metadata": {},
   "outputs": [
    {
     "data": {
      "text/html": [
       "<div>\n",
       "<style scoped>\n",
       "    .dataframe tbody tr th:only-of-type {\n",
       "        vertical-align: middle;\n",
       "    }\n",
       "\n",
       "    .dataframe tbody tr th {\n",
       "        vertical-align: top;\n",
       "    }\n",
       "\n",
       "    .dataframe thead th {\n",
       "        text-align: right;\n",
       "    }\n",
       "</style>\n",
       "<table border=\"1\" class=\"dataframe\">\n",
       "  <thead>\n",
       "    <tr style=\"text-align: right;\">\n",
       "      <th></th>\n",
       "      <th>calories</th>\n",
       "      <th>carbohydrate</th>\n",
       "      <th>sugar</th>\n",
       "      <th>protein</th>\n",
       "      <th>category</th>\n",
       "      <th>servings</th>\n",
       "      <th>high_traffic</th>\n",
       "    </tr>\n",
       "  </thead>\n",
       "  <tbody>\n",
       "    <tr>\n",
       "      <th>0</th>\n",
       "      <td>724.43</td>\n",
       "      <td>5.18</td>\n",
       "      <td>2.10</td>\n",
       "      <td>10.67</td>\n",
       "      <td>One Dish Meal</td>\n",
       "      <td>6</td>\n",
       "      <td>High</td>\n",
       "    </tr>\n",
       "    <tr>\n",
       "      <th>1</th>\n",
       "      <td>239.90</td>\n",
       "      <td>51.13</td>\n",
       "      <td>131.39</td>\n",
       "      <td>3.38</td>\n",
       "      <td>Dessert</td>\n",
       "      <td>2</td>\n",
       "      <td>High</td>\n",
       "    </tr>\n",
       "    <tr>\n",
       "      <th>2</th>\n",
       "      <td>247.89</td>\n",
       "      <td>44.68</td>\n",
       "      <td>2.64</td>\n",
       "      <td>19.94</td>\n",
       "      <td>Chicken Breast</td>\n",
       "      <td>1</td>\n",
       "      <td>High</td>\n",
       "    </tr>\n",
       "    <tr>\n",
       "      <th>3</th>\n",
       "      <td>138.64</td>\n",
       "      <td>17.79</td>\n",
       "      <td>8.52</td>\n",
       "      <td>6.82</td>\n",
       "      <td>Vegetable</td>\n",
       "      <td>2</td>\n",
       "      <td>High</td>\n",
       "    </tr>\n",
       "    <tr>\n",
       "      <th>4</th>\n",
       "      <td>128.30</td>\n",
       "      <td>14.75</td>\n",
       "      <td>3.01</td>\n",
       "      <td>16.34</td>\n",
       "      <td>Pork</td>\n",
       "      <td>4</td>\n",
       "      <td>High</td>\n",
       "    </tr>\n",
       "  </tbody>\n",
       "</table>\n",
       "</div>"
      ],
      "text/plain": [
       "   calories  carbohydrate   sugar  protein        category servings  \\\n",
       "0    724.43          5.18    2.10    10.67   One Dish Meal        6   \n",
       "1    239.90         51.13  131.39     3.38         Dessert        2   \n",
       "2    247.89         44.68    2.64    19.94  Chicken Breast        1   \n",
       "3    138.64         17.79    8.52     6.82       Vegetable        2   \n",
       "4    128.30         14.75    3.01    16.34            Pork        4   \n",
       "\n",
       "  high_traffic  \n",
       "0         High  \n",
       "1         High  \n",
       "2         High  \n",
       "3         High  \n",
       "4         High  "
      ]
     },
     "execution_count": 16,
     "metadata": {},
     "output_type": "execute_result"
    }
   ],
   "source": [
    "train_df = pd.concat([X_train, y_train], axis=1).reset_index(drop=True)\n",
    "train_df.head()"
   ]
  },
  {
   "cell_type": "markdown",
   "metadata": {},
   "source": [
    "### <a id=\"category\">Category Analysis</a> <font size='2'>[Table of contents🔝](#index)<font size>"
   ]
  },
  {
   "cell_type": "markdown",
   "metadata": {},
   "source": [
    "Taking a closer look at the category column"
   ]
  },
  {
   "cell_type": "code",
   "execution_count": 17,
   "metadata": {},
   "outputs": [
    {
     "data": {
      "text/plain": [
       "array(['High', 'Low'], dtype=object)"
      ]
     },
     "execution_count": 17,
     "metadata": {},
     "output_type": "execute_result"
    }
   ],
   "source": [
    "train_df['high_traffic'].unique()"
   ]
  },
  {
   "cell_type": "code",
   "execution_count": 18,
   "metadata": {},
   "outputs": [
    {
     "name": "stderr",
     "output_type": "stream",
     "text": [
      "c:\\Users\\chiso\\anaconda3\\envs\\ml\\lib\\site-packages\\seaborn\\_oldcore.py:1119: FutureWarning: use_inf_as_na option is deprecated and will be removed in a future version. Convert inf values to NaN before operating instead.\n",
      "  with pd.option_context('mode.use_inf_as_na', True):\n"
     ]
    },
    {
     "data": {
      "image/png": "[encoded data removed]",
      "text/plain": [
       "<Figure size 640x480 with 1 Axes>"
      ]
     },
     "metadata": {},
     "output_type": "display_data"
    }
   ],
   "source": [
    "sns.histplot(train_df, x='category', hue='high_traffic', multiple='stack')\n",
    "plt.title('Recipe Food Categories')\n",
    "plt.xticks(rotation=90)\n",
    "plt.show()"
   ]
  },
  {
   "cell_type": "markdown",
   "metadata": {},
   "source": [
    "It seems like vegetable and potato featured foods generate the highest traffic relative to the low traffic, however beverages and breakfast items generate the least traffic relative to the high traffic."
   ]
  },
  {
   "cell_type": "code",
   "execution_count": 19,
   "metadata": {},
   "outputs": [
    {
     "name": "stdout",
     "output_type": "stream",
     "text": [
      "The 11 categories in the train features are:\n",
      " One Dish Meal, Dessert, Chicken Breast, Vegetable, Pork, Meat, Lunch/Snacks, Beverages, Potato, Chicken, Breakfast\n"
     ]
    }
   ],
   "source": [
    "categories = train_df['category'].unique()\n",
    "print(f\"The {len(categories)} categories in the train features are:\\n {', '.join(categories)}\")"
   ]
  },
  {
   "cell_type": "markdown",
   "metadata": {},
   "source": [
    "The category column needs to match the required categories in one of the 10 possible categories. \n",
    "\n",
    "Lunch/Snacks', 'Beverages', 'Potato','Vegetable', 'Meat', 'Chicken, 'Pork', 'Dessert', 'Breakfast', 'One Dish Meal'\n",
    "\n",
    "However, there are 11 categories, an extra category 'Chicken Breast' was added. This category needs to be converted to 'Chicken'"
   ]
  },
  {
   "cell_type": "code",
   "execution_count": 20,
   "metadata": {},
   "outputs": [],
   "source": [
    "train_df['category'] = train_df['category'].replace('Chicken Breast', 'Chicken')"
   ]
  },
  {
   "cell_type": "code",
   "execution_count": 21,
   "metadata": {},
   "outputs": [
    {
     "name": "stdout",
     "output_type": "stream",
     "text": [
      "After replacing the occurences of Chicken Breast with Chicken\n",
      "The 10 categories in the train features are:\n",
      " One Dish Meal, Dessert, Chicken, Vegetable, Pork, Meat, Lunch/Snacks, Beverages, Potato, Breakfast\n"
     ]
    }
   ],
   "source": [
    "print(\"After replacing the occurences of Chicken Breast with Chicken\")\n",
    "categories = train_df['category'].unique()\n",
    "print(f\"The {len(categories)} categories in the train features are:\\n {', '.join(categories)}\")"
   ]
  },
  {
   "cell_type": "markdown",
   "metadata": {},
   "source": [
    "Visualizing the Food Categories"
   ]
  },
  {
   "cell_type": "code",
   "execution_count": 22,
   "metadata": {},
   "outputs": [
    {
     "data": {
      "image/png": "[encoded data removed]",
      "text/plain": [
       "<Figure size 640x480 with 1 Axes>"
      ]
     },
     "metadata": {},
     "output_type": "display_data"
    }
   ],
   "source": [
    "colors = sns.color_palette('pastel')[0:5]\n",
    "\n",
    "train_df['category'].value_counts().plot.pie(colors=colors,\n",
    "                                            autopct='%.2f%%', \n",
    "                                            shadow=True, startangle=140)\n",
    "plt.title(\"Distribution of the category of food items\")\n",
    "plt.axis('equal')\n",
    "plt.show()"
   ]
  },
  {
   "cell_type": "markdown",
   "metadata": {},
   "source": [
    "The chicken category is the largest category in the dataframe."
   ]
  },
  {
   "cell_type": "code",
   "execution_count": 23,
   "metadata": {},
   "outputs": [
    {
     "name": "stderr",
     "output_type": "stream",
     "text": [
      "c:\\Users\\chiso\\anaconda3\\envs\\ml\\lib\\site-packages\\seaborn\\_oldcore.py:1119: FutureWarning: use_inf_as_na option is deprecated and will be removed in a future version. Convert inf values to NaN before operating instead.\n",
      "  with pd.option_context('mode.use_inf_as_na', True):\n"
     ]
    },
    {
     "data": {
      "image/png": "[encoded data removed]",
      "text/plain": [
       "<Figure size 640x480 with 1 Axes>"
      ]
     },
     "metadata": {},
     "output_type": "display_data"
    }
   ],
   "source": [
    "sns.histplot(train_df, x='category', hue='high_traffic', multiple='stack')\n",
    "plt.title('Recipe Food Categories')\n",
    "plt.xticks(rotation=90)\n",
    "plt.show()"
   ]
  },
  {
   "cell_type": "markdown",
   "metadata": {},
   "source": [
    "After merging the 2 chicken categories chicken generates the most traffic(high and low) but it seems that chicken based dishes generate nearly as much high traffic as they do low traffic."
   ]
  },
  {
   "cell_type": "markdown",
   "metadata": {},
   "source": [
    "**Encoding Categorical Values**\n",
    "\n",
    "Converting the categories to numeric representations. We will opt for creating a unique column for each category (one-hot encoding) as there is no inherent order in the categories."
   ]
  },
  {
   "cell_type": "code",
   "execution_count": 24,
   "metadata": {},
   "outputs": [],
   "source": [
    "cat_features = ['category']\n",
    "enc = OneHotEncoder(sparse_output=False)\n",
    "enc.fit(train_df[cat_features])\n",
    "converted_categories = enc.get_feature_names_out().tolist()\n",
    "train_df[converted_categories] = enc.transform(train_df[cat_features])\n",
    "train_df.drop('category', axis=1, inplace=True)"
   ]
  },
  {
   "cell_type": "code",
   "execution_count": 25,
   "metadata": {},
   "outputs": [
    {
     "data": {
      "text/html": [
       "<div>\n",
       "<style scoped>\n",
       "    .dataframe tbody tr th:only-of-type {\n",
       "        vertical-align: middle;\n",
       "    }\n",
       "\n",
       "    .dataframe tbody tr th {\n",
       "        vertical-align: top;\n",
       "    }\n",
       "\n",
       "    .dataframe thead th {\n",
       "        text-align: right;\n",
       "    }\n",
       "</style>\n",
       "<table border=\"1\" class=\"dataframe\">\n",
       "  <thead>\n",
       "    <tr style=\"text-align: right;\">\n",
       "      <th></th>\n",
       "      <th>calories</th>\n",
       "      <th>carbohydrate</th>\n",
       "      <th>sugar</th>\n",
       "      <th>protein</th>\n",
       "      <th>servings</th>\n",
       "      <th>high_traffic</th>\n",
       "      <th>category_Beverages</th>\n",
       "      <th>category_Breakfast</th>\n",
       "      <th>category_Chicken</th>\n",
       "      <th>category_Dessert</th>\n",
       "      <th>category_Lunch/Snacks</th>\n",
       "      <th>category_Meat</th>\n",
       "      <th>category_One Dish Meal</th>\n",
       "      <th>category_Pork</th>\n",
       "      <th>category_Potato</th>\n",
       "      <th>category_Vegetable</th>\n",
       "    </tr>\n",
       "  </thead>\n",
       "  <tbody>\n",
       "    <tr>\n",
       "      <th>0</th>\n",
       "      <td>724.43</td>\n",
       "      <td>5.18</td>\n",
       "      <td>2.10</td>\n",
       "      <td>10.67</td>\n",
       "      <td>6</td>\n",
       "      <td>High</td>\n",
       "      <td>0.0</td>\n",
       "      <td>0.0</td>\n",
       "      <td>0.0</td>\n",
       "      <td>0.0</td>\n",
       "      <td>0.0</td>\n",
       "      <td>0.0</td>\n",
       "      <td>1.0</td>\n",
       "      <td>0.0</td>\n",
       "      <td>0.0</td>\n",
       "      <td>0.0</td>\n",
       "    </tr>\n",
       "    <tr>\n",
       "      <th>1</th>\n",
       "      <td>239.90</td>\n",
       "      <td>51.13</td>\n",
       "      <td>131.39</td>\n",
       "      <td>3.38</td>\n",
       "      <td>2</td>\n",
       "      <td>High</td>\n",
       "      <td>0.0</td>\n",
       "      <td>0.0</td>\n",
       "      <td>0.0</td>\n",
       "      <td>1.0</td>\n",
       "      <td>0.0</td>\n",
       "      <td>0.0</td>\n",
       "      <td>0.0</td>\n",
       "      <td>0.0</td>\n",
       "      <td>0.0</td>\n",
       "      <td>0.0</td>\n",
       "    </tr>\n",
       "    <tr>\n",
       "      <th>2</th>\n",
       "      <td>247.89</td>\n",
       "      <td>44.68</td>\n",
       "      <td>2.64</td>\n",
       "      <td>19.94</td>\n",
       "      <td>1</td>\n",
       "      <td>High</td>\n",
       "      <td>0.0</td>\n",
       "      <td>0.0</td>\n",
       "      <td>1.0</td>\n",
       "      <td>0.0</td>\n",
       "      <td>0.0</td>\n",
       "      <td>0.0</td>\n",
       "      <td>0.0</td>\n",
       "      <td>0.0</td>\n",
       "      <td>0.0</td>\n",
       "      <td>0.0</td>\n",
       "    </tr>\n",
       "    <tr>\n",
       "      <th>3</th>\n",
       "      <td>138.64</td>\n",
       "      <td>17.79</td>\n",
       "      <td>8.52</td>\n",
       "      <td>6.82</td>\n",
       "      <td>2</td>\n",
       "      <td>High</td>\n",
       "      <td>0.0</td>\n",
       "      <td>0.0</td>\n",
       "      <td>0.0</td>\n",
       "      <td>0.0</td>\n",
       "      <td>0.0</td>\n",
       "      <td>0.0</td>\n",
       "      <td>0.0</td>\n",
       "      <td>0.0</td>\n",
       "      <td>0.0</td>\n",
       "      <td>1.0</td>\n",
       "    </tr>\n",
       "    <tr>\n",
       "      <th>4</th>\n",
       "      <td>128.30</td>\n",
       "      <td>14.75</td>\n",
       "      <td>3.01</td>\n",
       "      <td>16.34</td>\n",
       "      <td>4</td>\n",
       "      <td>High</td>\n",
       "      <td>0.0</td>\n",
       "      <td>0.0</td>\n",
       "      <td>0.0</td>\n",
       "      <td>0.0</td>\n",
       "      <td>0.0</td>\n",
       "      <td>0.0</td>\n",
       "      <td>0.0</td>\n",
       "      <td>1.0</td>\n",
       "      <td>0.0</td>\n",
       "      <td>0.0</td>\n",
       "    </tr>\n",
       "  </tbody>\n",
       "</table>\n",
       "</div>"
      ],
      "text/plain": [
       "   calories  carbohydrate   sugar  protein servings high_traffic  \\\n",
       "0    724.43          5.18    2.10    10.67        6         High   \n",
       "1    239.90         51.13  131.39     3.38        2         High   \n",
       "2    247.89         44.68    2.64    19.94        1         High   \n",
       "3    138.64         17.79    8.52     6.82        2         High   \n",
       "4    128.30         14.75    3.01    16.34        4         High   \n",
       "\n",
       "   category_Beverages  category_Breakfast  category_Chicken  category_Dessert  \\\n",
       "0                 0.0                 0.0               0.0               0.0   \n",
       "1                 0.0                 0.0               0.0               1.0   \n",
       "2                 0.0                 0.0               1.0               0.0   \n",
       "3                 0.0                 0.0               0.0               0.0   \n",
       "4                 0.0                 0.0               0.0               0.0   \n",
       "\n",
       "   category_Lunch/Snacks  category_Meat  category_One Dish Meal  \\\n",
       "0                    0.0            0.0                     1.0   \n",
       "1                    0.0            0.0                     0.0   \n",
       "2                    0.0            0.0                     0.0   \n",
       "3                    0.0            0.0                     0.0   \n",
       "4                    0.0            0.0                     0.0   \n",
       "\n",
       "   category_Pork  category_Potato  category_Vegetable  \n",
       "0            0.0              0.0                 0.0  \n",
       "1            0.0              0.0                 0.0  \n",
       "2            0.0              0.0                 0.0  \n",
       "3            0.0              0.0                 1.0  \n",
       "4            1.0              0.0                 0.0  "
      ]
     },
     "execution_count": 25,
     "metadata": {},
     "output_type": "execute_result"
    }
   ],
   "source": [
    "train_df.head()"
   ]
  },
  {
   "cell_type": "markdown",
   "metadata": {},
   "source": [
    "Now there is only 1 other non-numeric column the target column `high_traffic`"
   ]
  },
  {
   "cell_type": "code",
   "execution_count": 26,
   "metadata": {},
   "outputs": [
    {
     "name": "stdout",
     "output_type": "stream",
     "text": [
      "The non numeric columns are servings, high_traffic\n"
     ]
    }
   ],
   "source": [
    "non_numeric_cols = train_df.select_dtypes(exclude=np.number).columns.values\n",
    "print(f\"The non numeric columns are {', '.join(non_numeric_cols)}\")"
   ]
  },
  {
   "cell_type": "markdown",
   "metadata": {},
   "source": [
    "### <a id=\"servings\">Servings Analysis</a> <font size='2'>[Table of contents🔝](#index)<font size>"
   ]
  },
  {
   "cell_type": "code",
   "execution_count": 27,
   "metadata": {},
   "outputs": [
    {
     "name": "stdout",
     "output_type": "stream",
     "text": [
      "<class 'pandas.core.frame.DataFrame'>\n",
      "RangeIndex: 628 entries, 0 to 627\n",
      "Data columns (total 16 columns):\n",
      " #   Column                  Non-Null Count  Dtype  \n",
      "---  ------                  --------------  -----  \n",
      " 0   calories                614 non-null    float64\n",
      " 1   carbohydrate            614 non-null    float64\n",
      " 2   sugar                   614 non-null    float64\n",
      " 3   protein                 614 non-null    float64\n",
      " 4   servings                628 non-null    object \n",
      " 5   high_traffic            628 non-null    object \n",
      " 6   category_Beverages      628 non-null    float64\n",
      " 7   category_Breakfast      628 non-null    float64\n",
      " 8   category_Chicken        628 non-null    float64\n",
      " 9   category_Dessert        628 non-null    float64\n",
      " 10  category_Lunch/Snacks   628 non-null    float64\n",
      " 11  category_Meat           628 non-null    float64\n",
      " 12  category_One Dish Meal  628 non-null    float64\n",
      " 13  category_Pork           628 non-null    float64\n",
      " 14  category_Potato         628 non-null    float64\n",
      " 15  category_Vegetable      628 non-null    float64\n",
      "dtypes: float64(14), object(2)\n",
      "memory usage: 78.6+ KB\n"
     ]
    }
   ],
   "source": [
    "train_df.info()"
   ]
  },
  {
   "cell_type": "code",
   "execution_count": 28,
   "metadata": {},
   "outputs": [
    {
     "data": {
      "text/plain": [
       "313    1\n",
       "404    1\n",
       "112    1\n",
       "396    1\n",
       "392    1\n",
       "      ..\n",
       "91     6\n",
       "88     6\n",
       "85     6\n",
       "109    6\n",
       "0      6\n",
       "Name: servings, Length: 628, dtype: object"
      ]
     },
     "execution_count": 28,
     "metadata": {},
     "output_type": "execute_result"
    }
   ],
   "source": [
    "train_df['servings'].sort_values()"
   ]
  },
  {
   "cell_type": "markdown",
   "metadata": {},
   "source": [
    "The feature servings seems to contain only numeric values. However, the data type for that column is type object so there should either be some incorrect values or the column was simply stored in a wrong data type.\n",
    "\n",
    "Below we will try converting the column to int data type."
   ]
  },
  {
   "cell_type": "code",
   "execution_count": 29,
   "metadata": {},
   "outputs": [
    {
     "name": "stdout",
     "output_type": "stream",
     "text": [
      "The column contains non-numeric characters\n"
     ]
    }
   ],
   "source": [
    "try:\n",
    "    train_df['servings'].astype(int)\n",
    "except Exception:\n",
    "    print(\"The column contains non-numeric characters\")"
   ]
  },
  {
   "cell_type": "markdown",
   "metadata": {},
   "source": [
    "Let us try to figure out the non integer data types contained in the servings column"
   ]
  },
  {
   "cell_type": "code",
   "execution_count": 30,
   "metadata": {},
   "outputs": [
    {
     "name": "stdout",
     "output_type": "stream",
     "text": [
      "Non-numeric values in servings\n"
     ]
    },
    {
     "data": {
      "text/html": [
       "<div>\n",
       "<style scoped>\n",
       "    .dataframe tbody tr th:only-of-type {\n",
       "        vertical-align: middle;\n",
       "    }\n",
       "\n",
       "    .dataframe tbody tr th {\n",
       "        vertical-align: top;\n",
       "    }\n",
       "\n",
       "    .dataframe thead th {\n",
       "        text-align: right;\n",
       "    }\n",
       "</style>\n",
       "<table border=\"1\" class=\"dataframe\">\n",
       "  <thead>\n",
       "    <tr style=\"text-align: right;\">\n",
       "      <th></th>\n",
       "      <th>calories</th>\n",
       "      <th>carbohydrate</th>\n",
       "      <th>sugar</th>\n",
       "      <th>protein</th>\n",
       "      <th>servings</th>\n",
       "      <th>high_traffic</th>\n",
       "      <th>category_Beverages</th>\n",
       "      <th>category_Breakfast</th>\n",
       "      <th>category_Chicken</th>\n",
       "      <th>category_Dessert</th>\n",
       "      <th>category_Lunch/Snacks</th>\n",
       "      <th>category_Meat</th>\n",
       "      <th>category_One Dish Meal</th>\n",
       "      <th>category_Pork</th>\n",
       "      <th>category_Potato</th>\n",
       "      <th>category_Vegetable</th>\n",
       "    </tr>\n",
       "  </thead>\n",
       "  <tbody>\n",
       "    <tr>\n",
       "      <th>395</th>\n",
       "      <td>513.75</td>\n",
       "      <td>65.87</td>\n",
       "      <td>18.63</td>\n",
       "      <td>18.39</td>\n",
       "      <td>4 as a snack</td>\n",
       "      <td>Low</td>\n",
       "      <td>0.0</td>\n",
       "      <td>0.0</td>\n",
       "      <td>0.0</td>\n",
       "      <td>0.0</td>\n",
       "      <td>1.0</td>\n",
       "      <td>0.0</td>\n",
       "      <td>0.0</td>\n",
       "      <td>0.0</td>\n",
       "      <td>0.0</td>\n",
       "      <td>0.0</td>\n",
       "    </tr>\n",
       "  </tbody>\n",
       "</table>\n",
       "</div>"
      ],
      "text/plain": [
       "     calories  carbohydrate  sugar  protein      servings high_traffic  \\\n",
       "395    513.75         65.87  18.63    18.39  4 as a snack          Low   \n",
       "\n",
       "     category_Beverages  category_Breakfast  category_Chicken  \\\n",
       "395                 0.0                 0.0               0.0   \n",
       "\n",
       "     category_Dessert  category_Lunch/Snacks  category_Meat  \\\n",
       "395               0.0                    1.0            0.0   \n",
       "\n",
       "     category_One Dish Meal  category_Pork  category_Potato  \\\n",
       "395                     0.0            0.0              0.0   \n",
       "\n",
       "     category_Vegetable  \n",
       "395                 0.0  "
      ]
     },
     "execution_count": 30,
     "metadata": {},
     "output_type": "execute_result"
    }
   ],
   "source": [
    "mask = train_df['servings'].astype(str).str.contains(r'\\D', regex=True)\n",
    "non_numeric_values = train_df[mask]\n",
    "\n",
    "print(\"Non-numeric values in servings\")\n",
    "non_numeric_values"
   ]
  },
  {
   "cell_type": "markdown",
   "metadata": {},
   "source": [
    "There is one occurence where the serving does not contain only numeric values however this instance can be converted to a numeric representation of 4. The category is snack and 4 serving were taken as a snack. This is probably an inputation error."
   ]
  },
  {
   "cell_type": "code",
   "execution_count": 31,
   "metadata": {},
   "outputs": [
    {
     "name": "stdout",
     "output_type": "stream",
     "text": [
      "The non numeric columns are high_traffic\n"
     ]
    }
   ],
   "source": [
    "train_df.loc[mask, 'servings'] = 4\n",
    "train_df['servings'] = train_df['servings'].astype(int)\n",
    "\n",
    "non_numeric_cols = train_df.select_dtypes(exclude=np.number).columns.values\n",
    "print(f\"The non numeric columns are {''.join(non_numeric_cols)}\")"
   ]
  },
  {
   "cell_type": "markdown",
   "metadata": {},
   "source": [
    "### <a id=\"target-analysis\">High-Traffic Column Analysis</a> <font size='2'>[Table of contents🔝](#index)<font size>"
   ]
  },
  {
   "cell_type": "markdown",
   "metadata": {},
   "source": [
    "Visualizing the target column"
   ]
  },
  {
   "cell_type": "code",
   "execution_count": 32,
   "metadata": {},
   "outputs": [
    {
     "data": {
      "image/png": "[encoded data removed]",
      "text/plain": [
       "<Figure size 640x480 with 1 Axes>"
      ]
     },
     "metadata": {},
     "output_type": "display_data"
    }
   ],
   "source": [
    "sns.countplot(train_df, y='servings', hue='high_traffic')\n",
    "plt.title('Histogram of Serving Size')\n",
    "plt.show()"
   ]
  },
  {
   "cell_type": "markdown",
   "metadata": {},
   "source": [
    "When the serving size was 4 the most traffic is generated however, there is no trend to indicate that higher servings translate to higher traffic. Serving might not be a good indicator on its own of if there is high traffic or not."
   ]
  },
  {
   "cell_type": "code",
   "execution_count": 33,
   "metadata": {},
   "outputs": [
    {
     "data": {
      "image/png": "[encoded data removed]",
      "text/plain": [
       "<Figure size 640x480 with 1 Axes>"
      ]
     },
     "metadata": {},
     "output_type": "display_data"
    }
   ],
   "source": [
    "sns.violinplot(train_df, x='servings', y='high_traffic', scale='count')\n",
    "plt.title('Serving Sizes vs Traffic Volume')\n",
    "plt.show()"
   ]
  },
  {
   "cell_type": "markdown",
   "metadata": {},
   "source": [
    "From the violin plot the high traffic recipies have a wider distance indicating that there are more high traffic recipies than low traffic recipies if we distribute them based on the servings."
   ]
  },
  {
   "cell_type": "markdown",
   "metadata": {},
   "source": [
    "Some of the serving sizes are missing(3 and 5) this might be as a result of the split. **Could this pose a challenge?** "
   ]
  },
  {
   "cell_type": "markdown",
   "metadata": {},
   "source": [
    "### <a id=\"missing-values\">Handling Missing Values</a> <font size='2'>[Table of contents🔝](#index)<font size>"
   ]
  },
  {
   "cell_type": "code",
   "execution_count": 34,
   "metadata": {},
   "outputs": [
    {
     "data": {
      "text/html": [
       "<div>\n",
       "<style scoped>\n",
       "    .dataframe tbody tr th:only-of-type {\n",
       "        vertical-align: middle;\n",
       "    }\n",
       "\n",
       "    .dataframe tbody tr th {\n",
       "        vertical-align: top;\n",
       "    }\n",
       "\n",
       "    .dataframe thead th {\n",
       "        text-align: right;\n",
       "    }\n",
       "</style>\n",
       "<table border=\"1\" class=\"dataframe\">\n",
       "  <thead>\n",
       "    <tr style=\"text-align: right;\">\n",
       "      <th></th>\n",
       "      <th>data_types</th>\n",
       "      <th>unique_values</th>\n",
       "      <th>missing_values</th>\n",
       "    </tr>\n",
       "  </thead>\n",
       "  <tbody>\n",
       "    <tr>\n",
       "      <th>calories</th>\n",
       "      <td>float64</td>\n",
       "      <td>612</td>\n",
       "      <td>14</td>\n",
       "    </tr>\n",
       "    <tr>\n",
       "      <th>carbohydrate</th>\n",
       "      <td>float64</td>\n",
       "      <td>579</td>\n",
       "      <td>14</td>\n",
       "    </tr>\n",
       "    <tr>\n",
       "      <th>sugar</th>\n",
       "      <td>float64</td>\n",
       "      <td>495</td>\n",
       "      <td>14</td>\n",
       "    </tr>\n",
       "    <tr>\n",
       "      <th>protein</th>\n",
       "      <td>float64</td>\n",
       "      <td>551</td>\n",
       "      <td>14</td>\n",
       "    </tr>\n",
       "    <tr>\n",
       "      <th>servings</th>\n",
       "      <td>int32</td>\n",
       "      <td>4</td>\n",
       "      <td>0</td>\n",
       "    </tr>\n",
       "    <tr>\n",
       "      <th>high_traffic</th>\n",
       "      <td>object</td>\n",
       "      <td>2</td>\n",
       "      <td>0</td>\n",
       "    </tr>\n",
       "    <tr>\n",
       "      <th>category_Beverages</th>\n",
       "      <td>float64</td>\n",
       "      <td>2</td>\n",
       "      <td>0</td>\n",
       "    </tr>\n",
       "    <tr>\n",
       "      <th>category_Breakfast</th>\n",
       "      <td>float64</td>\n",
       "      <td>2</td>\n",
       "      <td>0</td>\n",
       "    </tr>\n",
       "    <tr>\n",
       "      <th>category_Chicken</th>\n",
       "      <td>float64</td>\n",
       "      <td>2</td>\n",
       "      <td>0</td>\n",
       "    </tr>\n",
       "    <tr>\n",
       "      <th>category_Dessert</th>\n",
       "      <td>float64</td>\n",
       "      <td>2</td>\n",
       "      <td>0</td>\n",
       "    </tr>\n",
       "    <tr>\n",
       "      <th>category_Lunch/Snacks</th>\n",
       "      <td>float64</td>\n",
       "      <td>2</td>\n",
       "      <td>0</td>\n",
       "    </tr>\n",
       "    <tr>\n",
       "      <th>category_Meat</th>\n",
       "      <td>float64</td>\n",
       "      <td>2</td>\n",
       "      <td>0</td>\n",
       "    </tr>\n",
       "    <tr>\n",
       "      <th>category_One Dish Meal</th>\n",
       "      <td>float64</td>\n",
       "      <td>2</td>\n",
       "      <td>0</td>\n",
       "    </tr>\n",
       "    <tr>\n",
       "      <th>category_Pork</th>\n",
       "      <td>float64</td>\n",
       "      <td>2</td>\n",
       "      <td>0</td>\n",
       "    </tr>\n",
       "    <tr>\n",
       "      <th>category_Potato</th>\n",
       "      <td>float64</td>\n",
       "      <td>2</td>\n",
       "      <td>0</td>\n",
       "    </tr>\n",
       "    <tr>\n",
       "      <th>category_Vegetable</th>\n",
       "      <td>float64</td>\n",
       "      <td>2</td>\n",
       "      <td>0</td>\n",
       "    </tr>\n",
       "  </tbody>\n",
       "</table>\n",
       "</div>"
      ],
      "text/plain": [
       "                       data_types  unique_values  missing_values\n",
       "calories                  float64            612              14\n",
       "carbohydrate              float64            579              14\n",
       "sugar                     float64            495              14\n",
       "protein                   float64            551              14\n",
       "servings                    int32              4               0\n",
       "high_traffic               object              2               0\n",
       "category_Beverages        float64              2               0\n",
       "category_Breakfast        float64              2               0\n",
       "category_Chicken          float64              2               0\n",
       "category_Dessert          float64              2               0\n",
       "category_Lunch/Snacks     float64              2               0\n",
       "category_Meat             float64              2               0\n",
       "category_One Dish Meal    float64              2               0\n",
       "category_Pork             float64              2               0\n",
       "category_Potato           float64              2               0\n",
       "category_Vegetable        float64              2               0"
      ]
     },
     "execution_count": 34,
     "metadata": {},
     "output_type": "execute_result"
    }
   ],
   "source": [
    "get_dataTypes_and_missingValues(train_df)"
   ]
  },
  {
   "cell_type": "markdown",
   "metadata": {},
   "source": [
    "There are still quite a few missing values. Let us explore them further."
   ]
  },
  {
   "cell_type": "code",
   "execution_count": 35,
   "metadata": {},
   "outputs": [
    {
     "data": {
      "text/html": [
       "<div>\n",
       "<style scoped>\n",
       "    .dataframe tbody tr th:only-of-type {\n",
       "        vertical-align: middle;\n",
       "    }\n",
       "\n",
       "    .dataframe tbody tr th {\n",
       "        vertical-align: top;\n",
       "    }\n",
       "\n",
       "    .dataframe thead th {\n",
       "        text-align: right;\n",
       "    }\n",
       "</style>\n",
       "<table border=\"1\" class=\"dataframe\">\n",
       "  <thead>\n",
       "    <tr style=\"text-align: right;\">\n",
       "      <th></th>\n",
       "      <th>calories</th>\n",
       "      <th>carbohydrate</th>\n",
       "      <th>sugar</th>\n",
       "      <th>protein</th>\n",
       "      <th>servings</th>\n",
       "      <th>high_traffic</th>\n",
       "      <th>category_Beverages</th>\n",
       "      <th>category_Breakfast</th>\n",
       "      <th>category_Chicken</th>\n",
       "      <th>category_Dessert</th>\n",
       "      <th>category_Lunch/Snacks</th>\n",
       "      <th>category_Meat</th>\n",
       "      <th>category_One Dish Meal</th>\n",
       "      <th>category_Pork</th>\n",
       "      <th>category_Potato</th>\n",
       "      <th>category_Vegetable</th>\n",
       "    </tr>\n",
       "  </thead>\n",
       "  <tbody>\n",
       "    <tr>\n",
       "      <th>8</th>\n",
       "      <td>NaN</td>\n",
       "      <td>NaN</td>\n",
       "      <td>NaN</td>\n",
       "      <td>NaN</td>\n",
       "      <td>1</td>\n",
       "      <td>High</td>\n",
       "      <td>0.0</td>\n",
       "      <td>0.0</td>\n",
       "      <td>0.0</td>\n",
       "      <td>0.0</td>\n",
       "      <td>0.0</td>\n",
       "      <td>0.0</td>\n",
       "      <td>0.0</td>\n",
       "      <td>1.0</td>\n",
       "      <td>0.0</td>\n",
       "      <td>0.0</td>\n",
       "    </tr>\n",
       "    <tr>\n",
       "      <th>85</th>\n",
       "      <td>NaN</td>\n",
       "      <td>NaN</td>\n",
       "      <td>NaN</td>\n",
       "      <td>NaN</td>\n",
       "      <td>6</td>\n",
       "      <td>High</td>\n",
       "      <td>0.0</td>\n",
       "      <td>0.0</td>\n",
       "      <td>0.0</td>\n",
       "      <td>0.0</td>\n",
       "      <td>0.0</td>\n",
       "      <td>0.0</td>\n",
       "      <td>0.0</td>\n",
       "      <td>1.0</td>\n",
       "      <td>0.0</td>\n",
       "      <td>0.0</td>\n",
       "    </tr>\n",
       "    <tr>\n",
       "      <th>118</th>\n",
       "      <td>NaN</td>\n",
       "      <td>NaN</td>\n",
       "      <td>NaN</td>\n",
       "      <td>NaN</td>\n",
       "      <td>4</td>\n",
       "      <td>Low</td>\n",
       "      <td>0.0</td>\n",
       "      <td>0.0</td>\n",
       "      <td>0.0</td>\n",
       "      <td>0.0</td>\n",
       "      <td>1.0</td>\n",
       "      <td>0.0</td>\n",
       "      <td>0.0</td>\n",
       "      <td>0.0</td>\n",
       "      <td>0.0</td>\n",
       "      <td>0.0</td>\n",
       "    </tr>\n",
       "    <tr>\n",
       "      <th>123</th>\n",
       "      <td>NaN</td>\n",
       "      <td>NaN</td>\n",
       "      <td>NaN</td>\n",
       "      <td>NaN</td>\n",
       "      <td>1</td>\n",
       "      <td>Low</td>\n",
       "      <td>0.0</td>\n",
       "      <td>0.0</td>\n",
       "      <td>0.0</td>\n",
       "      <td>1.0</td>\n",
       "      <td>0.0</td>\n",
       "      <td>0.0</td>\n",
       "      <td>0.0</td>\n",
       "      <td>0.0</td>\n",
       "      <td>0.0</td>\n",
       "      <td>0.0</td>\n",
       "    </tr>\n",
       "    <tr>\n",
       "      <th>166</th>\n",
       "      <td>NaN</td>\n",
       "      <td>NaN</td>\n",
       "      <td>NaN</td>\n",
       "      <td>NaN</td>\n",
       "      <td>6</td>\n",
       "      <td>High</td>\n",
       "      <td>0.0</td>\n",
       "      <td>0.0</td>\n",
       "      <td>1.0</td>\n",
       "      <td>0.0</td>\n",
       "      <td>0.0</td>\n",
       "      <td>0.0</td>\n",
       "      <td>0.0</td>\n",
       "      <td>0.0</td>\n",
       "      <td>0.0</td>\n",
       "      <td>0.0</td>\n",
       "    </tr>\n",
       "    <tr>\n",
       "      <th>306</th>\n",
       "      <td>NaN</td>\n",
       "      <td>NaN</td>\n",
       "      <td>NaN</td>\n",
       "      <td>NaN</td>\n",
       "      <td>2</td>\n",
       "      <td>High</td>\n",
       "      <td>0.0</td>\n",
       "      <td>0.0</td>\n",
       "      <td>0.0</td>\n",
       "      <td>0.0</td>\n",
       "      <td>0.0</td>\n",
       "      <td>0.0</td>\n",
       "      <td>0.0</td>\n",
       "      <td>0.0</td>\n",
       "      <td>0.0</td>\n",
       "      <td>1.0</td>\n",
       "    </tr>\n",
       "    <tr>\n",
       "      <th>345</th>\n",
       "      <td>NaN</td>\n",
       "      <td>NaN</td>\n",
       "      <td>NaN</td>\n",
       "      <td>NaN</td>\n",
       "      <td>4</td>\n",
       "      <td>High</td>\n",
       "      <td>0.0</td>\n",
       "      <td>0.0</td>\n",
       "      <td>0.0</td>\n",
       "      <td>0.0</td>\n",
       "      <td>1.0</td>\n",
       "      <td>0.0</td>\n",
       "      <td>0.0</td>\n",
       "      <td>0.0</td>\n",
       "      <td>0.0</td>\n",
       "      <td>0.0</td>\n",
       "    </tr>\n",
       "    <tr>\n",
       "      <th>369</th>\n",
       "      <td>NaN</td>\n",
       "      <td>NaN</td>\n",
       "      <td>NaN</td>\n",
       "      <td>NaN</td>\n",
       "      <td>1</td>\n",
       "      <td>High</td>\n",
       "      <td>0.0</td>\n",
       "      <td>0.0</td>\n",
       "      <td>0.0</td>\n",
       "      <td>0.0</td>\n",
       "      <td>0.0</td>\n",
       "      <td>1.0</td>\n",
       "      <td>0.0</td>\n",
       "      <td>0.0</td>\n",
       "      <td>0.0</td>\n",
       "      <td>0.0</td>\n",
       "    </tr>\n",
       "    <tr>\n",
       "      <th>406</th>\n",
       "      <td>NaN</td>\n",
       "      <td>NaN</td>\n",
       "      <td>NaN</td>\n",
       "      <td>NaN</td>\n",
       "      <td>4</td>\n",
       "      <td>High</td>\n",
       "      <td>0.0</td>\n",
       "      <td>0.0</td>\n",
       "      <td>0.0</td>\n",
       "      <td>0.0</td>\n",
       "      <td>0.0</td>\n",
       "      <td>0.0</td>\n",
       "      <td>0.0</td>\n",
       "      <td>0.0</td>\n",
       "      <td>1.0</td>\n",
       "      <td>0.0</td>\n",
       "    </tr>\n",
       "    <tr>\n",
       "      <th>423</th>\n",
       "      <td>NaN</td>\n",
       "      <td>NaN</td>\n",
       "      <td>NaN</td>\n",
       "      <td>NaN</td>\n",
       "      <td>4</td>\n",
       "      <td>High</td>\n",
       "      <td>0.0</td>\n",
       "      <td>0.0</td>\n",
       "      <td>0.0</td>\n",
       "      <td>0.0</td>\n",
       "      <td>0.0</td>\n",
       "      <td>0.0</td>\n",
       "      <td>0.0</td>\n",
       "      <td>0.0</td>\n",
       "      <td>0.0</td>\n",
       "      <td>1.0</td>\n",
       "    </tr>\n",
       "    <tr>\n",
       "      <th>433</th>\n",
       "      <td>NaN</td>\n",
       "      <td>NaN</td>\n",
       "      <td>NaN</td>\n",
       "      <td>NaN</td>\n",
       "      <td>1</td>\n",
       "      <td>Low</td>\n",
       "      <td>0.0</td>\n",
       "      <td>0.0</td>\n",
       "      <td>1.0</td>\n",
       "      <td>0.0</td>\n",
       "      <td>0.0</td>\n",
       "      <td>0.0</td>\n",
       "      <td>0.0</td>\n",
       "      <td>0.0</td>\n",
       "      <td>0.0</td>\n",
       "      <td>0.0</td>\n",
       "    </tr>\n",
       "    <tr>\n",
       "      <th>485</th>\n",
       "      <td>NaN</td>\n",
       "      <td>NaN</td>\n",
       "      <td>NaN</td>\n",
       "      <td>NaN</td>\n",
       "      <td>2</td>\n",
       "      <td>High</td>\n",
       "      <td>0.0</td>\n",
       "      <td>0.0</td>\n",
       "      <td>0.0</td>\n",
       "      <td>0.0</td>\n",
       "      <td>0.0</td>\n",
       "      <td>0.0</td>\n",
       "      <td>0.0</td>\n",
       "      <td>0.0</td>\n",
       "      <td>1.0</td>\n",
       "      <td>0.0</td>\n",
       "    </tr>\n",
       "    <tr>\n",
       "      <th>570</th>\n",
       "      <td>NaN</td>\n",
       "      <td>NaN</td>\n",
       "      <td>NaN</td>\n",
       "      <td>NaN</td>\n",
       "      <td>6</td>\n",
       "      <td>High</td>\n",
       "      <td>0.0</td>\n",
       "      <td>0.0</td>\n",
       "      <td>0.0</td>\n",
       "      <td>1.0</td>\n",
       "      <td>0.0</td>\n",
       "      <td>0.0</td>\n",
       "      <td>0.0</td>\n",
       "      <td>0.0</td>\n",
       "      <td>0.0</td>\n",
       "      <td>0.0</td>\n",
       "    </tr>\n",
       "    <tr>\n",
       "      <th>595</th>\n",
       "      <td>NaN</td>\n",
       "      <td>NaN</td>\n",
       "      <td>NaN</td>\n",
       "      <td>NaN</td>\n",
       "      <td>4</td>\n",
       "      <td>High</td>\n",
       "      <td>0.0</td>\n",
       "      <td>0.0</td>\n",
       "      <td>0.0</td>\n",
       "      <td>0.0</td>\n",
       "      <td>0.0</td>\n",
       "      <td>0.0</td>\n",
       "      <td>0.0</td>\n",
       "      <td>1.0</td>\n",
       "      <td>0.0</td>\n",
       "      <td>0.0</td>\n",
       "    </tr>\n",
       "  </tbody>\n",
       "</table>\n",
       "</div>"
      ],
      "text/plain": [
       "     calories  carbohydrate  sugar  protein  servings high_traffic  \\\n",
       "8         NaN           NaN    NaN      NaN         1         High   \n",
       "85        NaN           NaN    NaN      NaN         6         High   \n",
       "118       NaN           NaN    NaN      NaN         4          Low   \n",
       "123       NaN           NaN    NaN      NaN         1          Low   \n",
       "166       NaN           NaN    NaN      NaN         6         High   \n",
       "306       NaN           NaN    NaN      NaN         2         High   \n",
       "345       NaN           NaN    NaN      NaN         4         High   \n",
       "369       NaN           NaN    NaN      NaN         1         High   \n",
       "406       NaN           NaN    NaN      NaN         4         High   \n",
       "423       NaN           NaN    NaN      NaN         4         High   \n",
       "433       NaN           NaN    NaN      NaN         1          Low   \n",
       "485       NaN           NaN    NaN      NaN         2         High   \n",
       "570       NaN           NaN    NaN      NaN         6         High   \n",
       "595       NaN           NaN    NaN      NaN         4         High   \n",
       "\n",
       "     category_Beverages  category_Breakfast  category_Chicken  \\\n",
       "8                   0.0                 0.0               0.0   \n",
       "85                  0.0                 0.0               0.0   \n",
       "118                 0.0                 0.0               0.0   \n",
       "123                 0.0                 0.0               0.0   \n",
       "166                 0.0                 0.0               1.0   \n",
       "306                 0.0                 0.0               0.0   \n",
       "345                 0.0                 0.0               0.0   \n",
       "369                 0.0                 0.0               0.0   \n",
       "406                 0.0                 0.0               0.0   \n",
       "423                 0.0                 0.0               0.0   \n",
       "433                 0.0                 0.0               1.0   \n",
       "485                 0.0                 0.0               0.0   \n",
       "570                 0.0                 0.0               0.0   \n",
       "595                 0.0                 0.0               0.0   \n",
       "\n",
       "     category_Dessert  category_Lunch/Snacks  category_Meat  \\\n",
       "8                 0.0                    0.0            0.0   \n",
       "85                0.0                    0.0            0.0   \n",
       "118               0.0                    1.0            0.0   \n",
       "123               1.0                    0.0            0.0   \n",
       "166               0.0                    0.0            0.0   \n",
       "306               0.0                    0.0            0.0   \n",
       "345               0.0                    1.0            0.0   \n",
       "369               0.0                    0.0            1.0   \n",
       "406               0.0                    0.0            0.0   \n",
       "423               0.0                    0.0            0.0   \n",
       "433               0.0                    0.0            0.0   \n",
       "485               0.0                    0.0            0.0   \n",
       "570               1.0                    0.0            0.0   \n",
       "595               0.0                    0.0            0.0   \n",
       "\n",
       "     category_One Dish Meal  category_Pork  category_Potato  \\\n",
       "8                       0.0            1.0              0.0   \n",
       "85                      0.0            1.0              0.0   \n",
       "118                     0.0            0.0              0.0   \n",
       "123                     0.0            0.0              0.0   \n",
       "166                     0.0            0.0              0.0   \n",
       "306                     0.0            0.0              0.0   \n",
       "345                     0.0            0.0              0.0   \n",
       "369                     0.0            0.0              0.0   \n",
       "406                     0.0            0.0              1.0   \n",
       "423                     0.0            0.0              0.0   \n",
       "433                     0.0            0.0              0.0   \n",
       "485                     0.0            0.0              1.0   \n",
       "570                     0.0            0.0              0.0   \n",
       "595                     0.0            1.0              0.0   \n",
       "\n",
       "     category_Vegetable  \n",
       "8                   0.0  \n",
       "85                  0.0  \n",
       "118                 0.0  \n",
       "123                 0.0  \n",
       "166                 0.0  \n",
       "306                 1.0  \n",
       "345                 0.0  \n",
       "369                 0.0  \n",
       "406                 0.0  \n",
       "423                 1.0  \n",
       "433                 0.0  \n",
       "485                 0.0  \n",
       "570                 0.0  \n",
       "595                 0.0  "
      ]
     },
     "execution_count": 35,
     "metadata": {},
     "output_type": "execute_result"
    }
   ],
   "source": [
    "missing_indices = train_df[train_df['calories'].isnull()].index\n",
    "train_df.iloc[missing_indices]"
   ]
  },
  {
   "cell_type": "markdown",
   "metadata": {},
   "source": [
    "There are 4 columns with 14 missing values each, however all the 14 columns coincide and are spread accross different categories and servings. The missing data would be difficult to recreate/predict and do not make up a significant amount of the data for this analysis so they would be omitted."
   ]
  },
  {
   "cell_type": "code",
   "execution_count": 36,
   "metadata": {},
   "outputs": [
    {
     "name": "stdout",
     "output_type": "stream",
     "text": [
      "After cleaning up the dataframe there are 0 missing values\n"
     ]
    }
   ],
   "source": [
    "train_df.drop(missing_indices, inplace=True)\n",
    "print(f\"After cleaning up the dataframe there are {train_df.isna().values.sum()} missing values\")"
   ]
  },
  {
   "cell_type": "markdown",
   "metadata": {},
   "source": [
    "### <a id=\"numeric-features\">Other Numeric Features Analysis</a> <font size='2'>[Table of contents🔝](#index)<font size>"
   ]
  },
  {
   "cell_type": "markdown",
   "metadata": {},
   "source": [
    "So far we have taken a look at 2 of the 6 columns the original features contained. Further analysis will focus on the other 4 columns and explore their relationship to the target."
   ]
  },
  {
   "cell_type": "code",
   "execution_count": 37,
   "metadata": {},
   "outputs": [
    {
     "data": {
      "text/html": [
       "<div>\n",
       "<style scoped>\n",
       "    .dataframe tbody tr th:only-of-type {\n",
       "        vertical-align: middle;\n",
       "    }\n",
       "\n",
       "    .dataframe tbody tr th {\n",
       "        vertical-align: top;\n",
       "    }\n",
       "\n",
       "    .dataframe thead th {\n",
       "        text-align: right;\n",
       "    }\n",
       "</style>\n",
       "<table border=\"1\" class=\"dataframe\">\n",
       "  <thead>\n",
       "    <tr style=\"text-align: right;\">\n",
       "      <th></th>\n",
       "      <th>calories</th>\n",
       "      <th>carbohydrate</th>\n",
       "      <th>sugar</th>\n",
       "      <th>protein</th>\n",
       "      <th>servings</th>\n",
       "    </tr>\n",
       "  </thead>\n",
       "  <tbody>\n",
       "    <tr>\n",
       "      <th>count</th>\n",
       "      <td>614.000000</td>\n",
       "      <td>614.000000</td>\n",
       "      <td>614.000000</td>\n",
       "      <td>614.000000</td>\n",
       "      <td>614.000000</td>\n",
       "    </tr>\n",
       "    <tr>\n",
       "      <th>mean</th>\n",
       "      <td>423.582182</td>\n",
       "      <td>35.838111</td>\n",
       "      <td>9.251482</td>\n",
       "      <td>22.706042</td>\n",
       "      <td>3.457655</td>\n",
       "    </tr>\n",
       "    <tr>\n",
       "      <th>std</th>\n",
       "      <td>441.516097</td>\n",
       "      <td>46.933285</td>\n",
       "      <td>14.692544</td>\n",
       "      <td>32.560317</td>\n",
       "      <td>1.770890</td>\n",
       "    </tr>\n",
       "    <tr>\n",
       "      <th>min</th>\n",
       "      <td>0.140000</td>\n",
       "      <td>0.050000</td>\n",
       "      <td>0.010000</td>\n",
       "      <td>0.000000</td>\n",
       "      <td>1.000000</td>\n",
       "    </tr>\n",
       "    <tr>\n",
       "      <th>25%</th>\n",
       "      <td>108.567500</td>\n",
       "      <td>8.247500</td>\n",
       "      <td>1.662500</td>\n",
       "      <td>3.060000</td>\n",
       "      <td>2.000000</td>\n",
       "    </tr>\n",
       "    <tr>\n",
       "      <th>50%</th>\n",
       "      <td>276.615000</td>\n",
       "      <td>21.145000</td>\n",
       "      <td>4.525000</td>\n",
       "      <td>10.550000</td>\n",
       "      <td>4.000000</td>\n",
       "    </tr>\n",
       "    <tr>\n",
       "      <th>75%</th>\n",
       "      <td>576.762500</td>\n",
       "      <td>46.325000</td>\n",
       "      <td>9.875000</td>\n",
       "      <td>28.625000</td>\n",
       "      <td>4.000000</td>\n",
       "    </tr>\n",
       "    <tr>\n",
       "      <th>max</th>\n",
       "      <td>2906.010000</td>\n",
       "      <td>530.420000</td>\n",
       "      <td>131.390000</td>\n",
       "      <td>239.570000</td>\n",
       "      <td>6.000000</td>\n",
       "    </tr>\n",
       "  </tbody>\n",
       "</table>\n",
       "</div>"
      ],
      "text/plain": [
       "          calories  carbohydrate       sugar     protein    servings\n",
       "count   614.000000    614.000000  614.000000  614.000000  614.000000\n",
       "mean    423.582182     35.838111    9.251482   22.706042    3.457655\n",
       "std     441.516097     46.933285   14.692544   32.560317    1.770890\n",
       "min       0.140000      0.050000    0.010000    0.000000    1.000000\n",
       "25%     108.567500      8.247500    1.662500    3.060000    2.000000\n",
       "50%     276.615000     21.145000    4.525000   10.550000    4.000000\n",
       "75%     576.762500     46.325000    9.875000   28.625000    4.000000\n",
       "max    2906.010000    530.420000  131.390000  239.570000    6.000000"
      ]
     },
     "execution_count": 37,
     "metadata": {},
     "output_type": "execute_result"
    }
   ],
   "source": [
    "numeric_cols = ['calories', 'carbohydrate', 'sugar', 'protein', 'servings']\n",
    "train_df.loc[:,numeric_cols].describe()"
   ]
  },
  {
   "cell_type": "markdown",
   "metadata": {},
   "source": [
    "The code above gives the summary statistics of the unexplored columns plus the servings column. \n",
    "\n",
    "The ranges are below\n",
    "* Calories 0.14 - 2906.0\n",
    "* Carbohydrate 0.05 - 530.4 grams\n",
    "* Sugar 0.01 - 131.39 grams\n",
    "* Protein 0.00 - 239.57 grams\n",
    "* Servings 1 - 6\n",
    "\n",
    "A graphical visualization might provide insights that are easier to digest."
   ]
  },
  {
   "cell_type": "markdown",
   "metadata": {},
   "source": [
    "**Calories**"
   ]
  },
  {
   "cell_type": "code",
   "execution_count": 38,
   "metadata": {},
   "outputs": [
    {
     "data": {
      "application/vnd.plotly.v1+json": {
       "config": {
        "plotlyServerURL": "https://plot.ly"
       },
       "data": [
        {
         "alignmentgroup": "True",
         "bingroup": "x",
         "hovertemplate": "high_traffic=High<br>calories=%{x}<br>count=%{y}<extra></extra>",
         "legendgroup": "High",
         "marker": {
          "color": "green",
          "pattern": {
           "shape": ""
          }
         },
         "name": "High",
         "offsetgroup": "High",
         "orientation": "v",
         "showlegend": true,
         "type": "histogram",
         "x": [
          724.43,
          239.9,
          247.89,
          138.64,
          128.3,
          215.03,
          64.15,
          1277.97,
          228.51,
          278.35,
          595.39,
          1715.48,
          257.71,
          208.31,
          296.92,
          259.95,
          798.39,
          727.55,
          435.94,
          94.27,
          448.59,
          240.52,
          878.7,
          94.44,
          46.34,
          320.57,
          891.7,
          229.58,
          177.84,
          535.55,
          781.15,
          23.84,
          212.15,
          151.88,
          309.05,
          715.66,
          1129.21,
          349.29,
          0.59,
          566.2,
          278.05,
          260.15,
          482.51,
          23.64,
          73.3,
          324.12,
          1435.35,
          164.76,
          389.31,
          332.19,
          299.32,
          529.26,
          531.11,
          138.11,
          90.95,
          1716.03,
          343.96,
          133.8,
          92.01,
          877.29,
          47.74,
          580.94,
          1695.82,
          643.99,
          141.66,
          482.99,
          100.83,
          54.97,
          263.04,
          286.54,
          93.62,
          207.57,
          575.63,
          899.53,
          161.3,
          56.29,
          29.19,
          158.46,
          108.28,
          2051.34,
          299.17,
          550.71,
          521.32,
          1090.75,
          628.49,
          274.63,
          86.02,
          284.59,
          1110.54,
          69.69,
          76.77,
          443.2,
          1114.94,
          129.03,
          54.39,
          34.97,
          1179.5,
          197.73,
          335.43,
          191.89,
          85.29,
          970.22,
          999.59,
          182.21,
          375.59,
          26.76,
          958.28,
          999.13,
          0.14,
          1053.49,
          182.76,
          1161.49,
          110.17,
          1694.81,
          1266.75,
          1263.15,
          255.58,
          32.36,
          431.28,
          71.71,
          51.84,
          131.8,
          544.01,
          362.78,
          674.75,
          124.67,
          136.46,
          192.8,
          150.83,
          1270.46,
          0.76,
          515.49,
          649.83,
          719.02,
          2703.12,
          258.33,
          269.24,
          399.26,
          337.25,
          1075.91,
          106.87,
          48.93,
          1271.9,
          81.56,
          9.26,
          451.79,
          2332.32,
          47.17,
          902.54,
          66.16,
          354.02,
          12.99,
          113.31,
          20.81,
          541.86,
          2122.24,
          392.95,
          220.68,
          600.24,
          135.07,
          324,
          826.83,
          1348.4,
          239.1,
          374.75,
          484.65,
          180.42,
          858.67,
          74.73,
          1044.25,
          721.81,
          532.01,
          976.87,
          859.11,
          732.96,
          12.63,
          818.53,
          597.55,
          720.31,
          73.91,
          388.44,
          333.01,
          92.21,
          521.78,
          32.92,
          4.41,
          259.32,
          1070.05,
          1550.2,
          65.69,
          213,
          74.56,
          44.15,
          96.49,
          71.34,
          34.97,
          1251.42,
          674.84,
          771.52,
          633.17,
          110.07,
          231.2,
          181.86,
          166.44,
          113.37,
          350.61,
          116.69,
          16.87,
          536.42,
          160.05,
          88.59,
          525.28,
          538.52,
          780.48,
          436.03,
          288.86,
          236.62,
          26.16,
          409.03,
          340.31,
          198.98,
          1402.99,
          52.08,
          231.35,
          237.97,
          534.7,
          452.67,
          247.79,
          439.11,
          181.1,
          1317.56,
          226.38,
          100.82,
          263.94,
          217.14,
          85.17,
          179.45,
          510.79,
          262.29,
          353.58,
          115.95,
          5.87,
          374.35,
          161.32,
          108.55,
          246.78,
          66.03,
          552.83,
          12.25,
          110.69,
          359,
          434.29,
          382.43,
          689.29,
          396.37,
          178.98,
          336.27,
          411.16,
          76.28,
          651.82,
          653.9,
          88.57,
          83.39,
          187.46,
          229.68,
          51.19,
          708.64,
          10.21,
          686.84,
          375.32,
          868.76,
          75.89,
          617.84,
          850.16,
          767.16,
          22.02,
          12.24,
          1241.83,
          546.1,
          805.11,
          25.51,
          255.77,
          264.13,
          73.56,
          160.43,
          1356.45,
          97.03,
          511.39,
          179.24,
          217.78,
          621.54,
          1177.94,
          100.39,
          84.91,
          779.72,
          10.66,
          449.22,
          101.96,
          230.27,
          815.86,
          578.4,
          283.72,
          473.41,
          513.03,
          75.17,
          716.84,
          380.75,
          454.27,
          48.11,
          45.62,
          16.58,
          15.79,
          235.91,
          1148.55,
          67.72,
          23.62,
          597.75,
          1706.75,
          193.17,
          0.54,
          362.89,
          88.26,
          372.33,
          87.04,
          306.9,
          662.78,
          124.79,
          1078.33,
          2282.6,
          337.48,
          927.15,
          419.28,
          1588.26,
          223.01,
          104.25,
          30.37,
          442.15,
          316.45,
          113.97,
          600.99,
          77.75,
          169.83,
          2029.33,
          135.85,
          665.49,
          7.39,
          6.23,
          2906.01,
          126.31,
          89.72,
          18.23,
          581.04,
          311.39,
          57.63,
          425.75,
          960.75,
          551.7,
          1245.7,
          915.15,
          322.89,
          205.98,
          13.62,
          920.73,
          31.65,
          180.52
         ],
         "xaxis": "x",
         "yaxis": "y"
        },
        {
         "alignmentgroup": "True",
         "hovertemplate": "high_traffic=High<br>calories=%{x}<extra></extra>",
         "legendgroup": "High",
         "marker": {
          "color": "green"
         },
         "name": "High",
         "notched": true,
         "offsetgroup": "High",
         "showlegend": false,
         "type": "box",
         "x": [
          724.43,
          239.9,
          247.89,
          138.64,
          128.3,
          215.03,
          64.15,
          1277.97,
          228.51,
          278.35,
          595.39,
          1715.48,
          257.71,
          208.31,
          296.92,
          259.95,
          798.39,
          727.55,
          435.94,
          94.27,
          448.59,
          240.52,
          878.7,
          94.44,
          46.34,
          320.57,
          891.7,
          229.58,
          177.84,
          535.55,
          781.15,
          23.84,
          212.15,
          151.88,
          309.05,
          715.66,
          1129.21,
          349.29,
          0.59,
          566.2,
          278.05,
          260.15,
          482.51,
          23.64,
          73.3,
          324.12,
          1435.35,
          164.76,
          389.31,
          332.19,
          299.32,
          529.26,
          531.11,
          138.11,
          90.95,
          1716.03,
          343.96,
          133.8,
          92.01,
          877.29,
          47.74,
          580.94,
          1695.82,
          643.99,
          141.66,
          482.99,
          100.83,
          54.97,
          263.04,
          286.54,
          93.62,
          207.57,
          575.63,
          899.53,
          161.3,
          56.29,
          29.19,
          158.46,
          108.28,
          2051.34,
          299.17,
          550.71,
          521.32,
          1090.75,
          628.49,
          274.63,
          86.02,
          284.59,
          1110.54,
          69.69,
          76.77,
          443.2,
          1114.94,
          129.03,
          54.39,
          34.97,
          1179.5,
          197.73,
          335.43,
          191.89,
          85.29,
          970.22,
          999.59,
          182.21,
          375.59,
          26.76,
          958.28,
          999.13,
          0.14,
          1053.49,
          182.76,
          1161.49,
          110.17,
          1694.81,
          1266.75,
          1263.15,
          255.58,
          32.36,
          431.28,
          71.71,
          51.84,
          131.8,
          544.01,
          362.78,
          674.75,
          124.67,
          136.46,
          192.8,
          150.83,
          1270.46,
          0.76,
          515.49,
          649.83,
          719.02,
          2703.12,
          258.33,
          269.24,
          399.26,
          337.25,
          1075.91,
          106.87,
          48.93,
          1271.9,
          81.56,
          9.26,
          451.79,
          2332.32,
          47.17,
          902.54,
          66.16,
          354.02,
          12.99,
          113.31,
          20.81,
          541.86,
          2122.24,
          392.95,
          220.68,
          600.24,
          135.07,
          324,
          826.83,
          1348.4,
          239.1,
          374.75,
          484.65,
          180.42,
          858.67,
          74.73,
          1044.25,
          721.81,
          532.01,
          976.87,
          859.11,
          732.96,
          12.63,
          818.53,
          597.55,
          720.31,
          73.91,
          388.44,
          333.01,
          92.21,
          521.78,
          32.92,
          4.41,
          259.32,
          1070.05,
          1550.2,
          65.69,
          213,
          74.56,
          44.15,
          96.49,
          71.34,
          34.97,
          1251.42,
          674.84,
          771.52,
          633.17,
          110.07,
          231.2,
          181.86,
          166.44,
          113.37,
          350.61,
          116.69,
          16.87,
          536.42,
          160.05,
          88.59,
          525.28,
          538.52,
          780.48,
          436.03,
          288.86,
          236.62,
          26.16,
          409.03,
          340.31,
          198.98,
          1402.99,
          52.08,
          231.35,
          237.97,
          534.7,
          452.67,
          247.79,
          439.11,
          181.1,
          1317.56,
          226.38,
          100.82,
          263.94,
          217.14,
          85.17,
          179.45,
          510.79,
          262.29,
          353.58,
          115.95,
          5.87,
          374.35,
          161.32,
          108.55,
          246.78,
          66.03,
          552.83,
          12.25,
          110.69,
          359,
          434.29,
          382.43,
          689.29,
          396.37,
          178.98,
          336.27,
          411.16,
          76.28,
          651.82,
          653.9,
          88.57,
          83.39,
          187.46,
          229.68,
          51.19,
          708.64,
          10.21,
          686.84,
          375.32,
          868.76,
          75.89,
          617.84,
          850.16,
          767.16,
          22.02,
          12.24,
          1241.83,
          546.1,
          805.11,
          25.51,
          255.77,
          264.13,
          73.56,
          160.43,
          1356.45,
          97.03,
          511.39,
          179.24,
          217.78,
          621.54,
          1177.94,
          100.39,
          84.91,
          779.72,
          10.66,
          449.22,
          101.96,
          230.27,
          815.86,
          578.4,
          283.72,
          473.41,
          513.03,
          75.17,
          716.84,
          380.75,
          454.27,
          48.11,
          45.62,
          16.58,
          15.79,
          235.91,
          1148.55,
          67.72,
          23.62,
          597.75,
          1706.75,
          193.17,
          0.54,
          362.89,
          88.26,
          372.33,
          87.04,
          306.9,
          662.78,
          124.79,
          1078.33,
          2282.6,
          337.48,
          927.15,
          419.28,
          1588.26,
          223.01,
          104.25,
          30.37,
          442.15,
          316.45,
          113.97,
          600.99,
          77.75,
          169.83,
          2029.33,
          135.85,
          665.49,
          7.39,
          6.23,
          2906.01,
          126.31,
          89.72,
          18.23,
          581.04,
          311.39,
          57.63,
          425.75,
          960.75,
          551.7,
          1245.7,
          915.15,
          322.89,
          205.98,
          13.62,
          920.73,
          31.65,
          180.52
         ],
         "xaxis": "x2",
         "yaxis": "y2"
        },
        {
         "alignmentgroup": "True",
         "bingroup": "x",
         "hovertemplate": "high_traffic=Low<br>calories=%{x}<br>count=%{y}<extra></extra>",
         "legendgroup": "Low",
         "marker": {
          "color": "grey",
          "pattern": {
           "shape": ""
          }
         },
         "name": "Low",
         "offsetgroup": "Low",
         "orientation": "v",
         "showlegend": true,
         "type": "histogram",
         "x": [
          995.98,
          111.1,
          298.69,
          542.49,
          31.75,
          225.36,
          209.65,
          0.64,
          127.55,
          491.01,
          576.89,
          818.56,
          474.05,
          28.33,
          190.52,
          199.34,
          953.06,
          1321.78,
          70.25,
          290.1,
          548.43,
          288.6,
          108.62,
          46.66,
          248.6,
          35.81,
          648.05,
          332.63,
          1580.48,
          45.02,
          44.55,
          239.36,
          145.89,
          379.16,
          48.76,
          11.57,
          338.71,
          259.83,
          357.15,
          413.67,
          131.94,
          261.88,
          1089.14,
          38.92,
          102.32,
          373.3,
          71.73,
          90.01,
          34.77,
          336.52,
          69.01,
          42.13,
          153.76,
          384.59,
          152.42,
          266.41,
          378.65,
          14.96,
          43.91,
          109.21,
          49.5,
          54.81,
          68.54,
          82.73,
          227.88,
          400.37,
          170.12,
          161.81,
          241,
          185.75,
          458.66,
          217.57,
          27.78,
          21.09,
          593.56,
          184.4,
          338.74,
          368.09,
          1203.79,
          27.11,
          72.71,
          48.5,
          1205.68,
          748.98,
          328.47,
          287.32,
          528.9,
          3.07,
          253.63,
          245.53,
          1362.81,
          61.8,
          139.52,
          1243.9,
          127.84,
          189.27,
          336.13,
          576.38,
          74.78,
          474.73,
          258.16,
          715.14,
          959.51,
          866.33,
          187.87,
          88.17,
          602.74,
          201.19,
          50.94,
          133.7,
          213.77,
          239.23,
          732.56,
          338.77,
          1105.15,
          410.92,
          1073.39,
          918.21,
          165.2,
          1044.92,
          70.81,
          1056.94,
          248.28,
          200.73,
          272.31,
          539.78,
          62.59,
          2.98,
          384.96,
          403.7,
          225.87,
          652.18,
          0.8,
          374.27,
          384.93,
          886.47,
          296.23,
          191.78,
          118.71,
          278.75,
          126.96,
          646.15,
          24.21,
          1017.32,
          768.51,
          914.28,
          640.65,
          18.62,
          836.95,
          310.52,
          493.26,
          96.2,
          12.06,
          82.32,
          889.25,
          513.75,
          388.37,
          41.29,
          504.2,
          347.06,
          659.82,
          28.83,
          147.24,
          268.04,
          516.57,
          551.3,
          565.23,
          394.55,
          148.17,
          1503.92,
          538.88,
          267.51,
          463.52,
          766.01,
          183.94,
          1330.48,
          262.12,
          128.3,
          799.39,
          1161,
          498.56,
          27.05,
          84.83,
          264.62,
          197.11,
          93.5,
          2508.47,
          766.8,
          199.2,
          516.76,
          288.55,
          1330.3,
          576.07,
          665.01,
          1635.46,
          138.81,
          624.57,
          0.3,
          291.64,
          282.57,
          275.18,
          2283.29,
          813.82,
          262.09,
          208.87,
          167.09,
          49.2,
          672.26,
          343.26,
          17.7,
          1272.1,
          446.58,
          238.3,
          155.8,
          299.14,
          581.97,
          1370.8,
          92.44,
          393.73,
          305.22,
          113.84,
          64.27,
          32.29,
          472.11,
          975.9,
          406.57,
          1335.54,
          935.77,
          110.86,
          76.08,
          114,
          33.36,
          796.89,
          418.22,
          12.97,
          42.3,
          350.88,
          39.82,
          293.36,
          28.99,
          544.51,
          187.41,
          94.04,
          216.1,
          467.47,
          452.51,
          128.46,
          361.17,
          212.4
         ],
         "xaxis": "x",
         "yaxis": "y"
        },
        {
         "alignmentgroup": "True",
         "hovertemplate": "high_traffic=Low<br>calories=%{x}<extra></extra>",
         "legendgroup": "Low",
         "marker": {
          "color": "grey"
         },
         "name": "Low",
         "notched": true,
         "offsetgroup": "Low",
         "showlegend": false,
         "type": "box",
         "x": [
          995.98,
          111.1,
          298.69,
          542.49,
          31.75,
          225.36,
          209.65,
          0.64,
          127.55,
          491.01,
          576.89,
          818.56,
          474.05,
          28.33,
          190.52,
          199.34,
          953.06,
          1321.78,
          70.25,
          290.1,
          548.43,
          288.6,
          108.62,
          46.66,
          248.6,
          35.81,
          648.05,
          332.63,
          1580.48,
          45.02,
          44.55,
          239.36,
          145.89,
          379.16,
          48.76,
          11.57,
          338.71,
          259.83,
          357.15,
          413.67,
          131.94,
          261.88,
          1089.14,
          38.92,
          102.32,
          373.3,
          71.73,
          90.01,
          34.77,
          336.52,
          69.01,
          42.13,
          153.76,
          384.59,
          152.42,
          266.41,
          378.65,
          14.96,
          43.91,
          109.21,
          49.5,
          54.81,
          68.54,
          82.73,
          227.88,
          400.37,
          170.12,
          161.81,
          241,
          185.75,
          458.66,
          217.57,
          27.78,
          21.09,
          593.56,
          184.4,
          338.74,
          368.09,
          1203.79,
          27.11,
          72.71,
          48.5,
          1205.68,
          748.98,
          328.47,
          287.32,
          528.9,
          3.07,
          253.63,
          245.53,
          1362.81,
          61.8,
          139.52,
          1243.9,
          127.84,
          189.27,
          336.13,
          576.38,
          74.78,
          474.73,
          258.16,
          715.14,
          959.51,
          866.33,
          187.87,
          88.17,
          602.74,
          201.19,
          50.94,
          133.7,
          213.77,
          239.23,
          732.56,
          338.77,
          1105.15,
          410.92,
          1073.39,
          918.21,
          165.2,
          1044.92,
          70.81,
          1056.94,
          248.28,
          200.73,
          272.31,
          539.78,
          62.59,
          2.98,
          384.96,
          403.7,
          225.87,
          652.18,
          0.8,
          374.27,
          384.93,
          886.47,
          296.23,
          191.78,
          118.71,
          278.75,
          126.96,
          646.15,
          24.21,
          1017.32,
          768.51,
          914.28,
          640.65,
          18.62,
          836.95,
          310.52,
          493.26,
          96.2,
          12.06,
          82.32,
          889.25,
          513.75,
          388.37,
          41.29,
          504.2,
          347.06,
          659.82,
          28.83,
          147.24,
          268.04,
          516.57,
          551.3,
          565.23,
          394.55,
          148.17,
          1503.92,
          538.88,
          267.51,
          463.52,
          766.01,
          183.94,
          1330.48,
          262.12,
          128.3,
          799.39,
          1161,
          498.56,
          27.05,
          84.83,
          264.62,
          197.11,
          93.5,
          2508.47,
          766.8,
          199.2,
          516.76,
          288.55,
          1330.3,
          576.07,
          665.01,
          1635.46,
          138.81,
          624.57,
          0.3,
          291.64,
          282.57,
          275.18,
          2283.29,
          813.82,
          262.09,
          208.87,
          167.09,
          49.2,
          672.26,
          343.26,
          17.7,
          1272.1,
          446.58,
          238.3,
          155.8,
          299.14,
          581.97,
          1370.8,
          92.44,
          393.73,
          305.22,
          113.84,
          64.27,
          32.29,
          472.11,
          975.9,
          406.57,
          1335.54,
          935.77,
          110.86,
          76.08,
          114,
          33.36,
          796.89,
          418.22,
          12.97,
          42.3,
          350.88,
          39.82,
          293.36,
          28.99,
          544.51,
          187.41,
          94.04,
          216.1,
          467.47,
          452.51,
          128.46,
          361.17,
          212.4
         ],
         "xaxis": "x2",
         "yaxis": "y2"
        }
       ],
       "layout": {
        "bargap": 0.1,
        "barmode": "relative",
        "height": 500,
        "legend": {
         "title": {
          "text": "high_traffic"
         },
         "tracegroupgap": 0
        },
        "template": {
         "data": {
          "bar": [
           {
            "error_x": {
             "color": "#2a3f5f"
            },
            "error_y": {
             "color": "#2a3f5f"
            },
            "marker": {
             "line": {
              "color": "#E5ECF6",
              "width": 0.5
             },
             "pattern": {
              "fillmode": "overlay",
              "size": 10,
              "solidity": 0.2
             }
            },
            "type": "bar"
           }
          ],
          "barpolar": [
           {
            "marker": {
             "line": {
              "color": "#E5ECF6",
              "width": 0.5
             },
             "pattern": {
              "fillmode": "overlay",
              "size": 10,
              "solidity": 0.2
             }
            },
            "type": "barpolar"
           }
          ],
          "carpet": [
           {
            "aaxis": {
             "endlinecolor": "#2a3f5f",
             "gridcolor": "white",
             "linecolor": "white",
             "minorgridcolor": "white",
             "startlinecolor": "#2a3f5f"
            },
            "baxis": {
             "endlinecolor": "#2a3f5f",
             "gridcolor": "white",
             "linecolor": "white",
             "minorgridcolor": "white",
             "startlinecolor": "#2a3f5f"
            },
            "type": "carpet"
           }
          ],
          "choropleth": [
           {
            "colorbar": {
             "outlinewidth": 0,
             "ticks": ""
            },
            "type": "choropleth"
           }
          ],
          "contour": [
           {
            "colorbar": {
             "outlinewidth": 0,
             "ticks": ""
            },
            "colorscale": [
             [
              0,
              "#0d0887"
             ],
             [
              0.1111111111111111,
              "#46039f"
             ],
             [
              0.2222222222222222,
              "#7201a8"
             ],
             [
              0.3333333333333333,
              "#9c179e"
             ],
             [
              0.4444444444444444,
              "#bd3786"
             ],
             [
              0.5555555555555556,
              "#d8576b"
             ],
             [
              0.6666666666666666,
              "#ed7953"
             ],
             [
              0.7777777777777778,
              "#fb9f3a"
             ],
             [
              0.8888888888888888,
              "#fdca26"
             ],
             [
              1,
              "#f0f921"
             ]
            ],
            "type": "contour"
           }
          ],
          "contourcarpet": [
           {
            "colorbar": {
             "outlinewidth": 0,
             "ticks": ""
            },
            "type": "contourcarpet"
           }
          ],
          "heatmap": [
           {
            "colorbar": {
             "outlinewidth": 0,
             "ticks": ""
            },
            "colorscale": [
             [
              0,
              "#0d0887"
             ],
             [
              0.1111111111111111,
              "#46039f"
             ],
             [
              0.2222222222222222,
              "#7201a8"
             ],
             [
              0.3333333333333333,
              "#9c179e"
             ],
             [
              0.4444444444444444,
              "#bd3786"
             ],
             [
              0.5555555555555556,
              "#d8576b"
             ],
             [
              0.6666666666666666,
              "#ed7953"
             ],
             [
              0.7777777777777778,
              "#fb9f3a"
             ],
             [
              0.8888888888888888,
              "#fdca26"
             ],
             [
              1,
              "#f0f921"
             ]
            ],
            "type": "heatmap"
           }
          ],
          "heatmapgl": [
           {
            "colorbar": {
             "outlinewidth": 0,
             "ticks": ""
            },
            "colorscale": [
             [
              0,
              "#0d0887"
             ],
             [
              0.1111111111111111,
              "#46039f"
             ],
             [
              0.2222222222222222,
              "#7201a8"
             ],
             [
              0.3333333333333333,
              "#9c179e"
             ],
             [
              0.4444444444444444,
              "#bd3786"
             ],
             [
              0.5555555555555556,
              "#d8576b"
             ],
             [
              0.6666666666666666,
              "#ed7953"
             ],
             [
              0.7777777777777778,
              "#fb9f3a"
             ],
             [
              0.8888888888888888,
              "#fdca26"
             ],
             [
              1,
              "#f0f921"
             ]
            ],
            "type": "heatmapgl"
           }
          ],
          "histogram": [
           {
            "marker": {
             "pattern": {
              "fillmode": "overlay",
              "size": 10,
              "solidity": 0.2
             }
            },
            "type": "histogram"
           }
          ],
          "histogram2d": [
           {
            "colorbar": {
             "outlinewidth": 0,
             "ticks": ""
            },
            "colorscale": [
             [
              0,
              "#0d0887"
             ],
             [
              0.1111111111111111,
              "#46039f"
             ],
             [
              0.2222222222222222,
              "#7201a8"
             ],
             [
              0.3333333333333333,
              "#9c179e"
             ],
             [
              0.4444444444444444,
              "#bd3786"
             ],
             [
              0.5555555555555556,
              "#d8576b"
             ],
             [
              0.6666666666666666,
              "#ed7953"
             ],
             [
              0.7777777777777778,
              "#fb9f3a"
             ],
             [
              0.8888888888888888,
              "#fdca26"
             ],
             [
              1,
              "#f0f921"
             ]
            ],
            "type": "histogram2d"
           }
          ],
          "histogram2dcontour": [
           {
            "colorbar": {
             "outlinewidth": 0,
             "ticks": ""
            },
            "colorscale": [
             [
              0,
              "#0d0887"
             ],
             [
              0.1111111111111111,
              "#46039f"
             ],
             [
              0.2222222222222222,
              "#7201a8"
             ],
             [
              0.3333333333333333,
              "#9c179e"
             ],
             [
              0.4444444444444444,
              "#bd3786"
             ],
             [
              0.5555555555555556,
              "#d8576b"
             ],
             [
              0.6666666666666666,
              "#ed7953"
             ],
             [
              0.7777777777777778,
              "#fb9f3a"
             ],
             [
              0.8888888888888888,
              "#fdca26"
             ],
             [
              1,
              "#f0f921"
             ]
            ],
            "type": "histogram2dcontour"
           }
          ],
          "mesh3d": [
           {
            "colorbar": {
             "outlinewidth": 0,
             "ticks": ""
            },
            "type": "mesh3d"
           }
          ],
          "parcoords": [
           {
            "line": {
             "colorbar": {
              "outlinewidth": 0,
              "ticks": ""
             }
            },
            "type": "parcoords"
           }
          ],
          "pie": [
           {
            "automargin": true,
            "type": "pie"
           }
          ],
          "scatter": [
           {
            "fillpattern": {
             "fillmode": "overlay",
             "size": 10,
             "solidity": 0.2
            },
            "type": "scatter"
           }
          ],
          "scatter3d": [
           {
            "line": {
             "colorbar": {
              "outlinewidth": 0,
              "ticks": ""
             }
            },
            "marker": {
             "colorbar": {
              "outlinewidth": 0,
              "ticks": ""
             }
            },
            "type": "scatter3d"
           }
          ],
          "scattercarpet": [
           {
            "marker": {
             "colorbar": {
              "outlinewidth": 0,
              "ticks": ""
             }
            },
            "type": "scattercarpet"
           }
          ],
          "scattergeo": [
           {
            "marker": {
             "colorbar": {
              "outlinewidth": 0,
              "ticks": ""
             }
            },
            "type": "scattergeo"
           }
          ],
          "scattergl": [
           {
            "marker": {
             "colorbar": {
              "outlinewidth": 0,
              "ticks": ""
             }
            },
            "type": "scattergl"
           }
          ],
          "scattermapbox": [
           {
            "marker": {
             "colorbar": {
              "outlinewidth": 0,
              "ticks": ""
             }
            },
            "type": "scattermapbox"
           }
          ],
          "scatterpolar": [
           {
            "marker": {
             "colorbar": {
              "outlinewidth": 0,
              "ticks": ""
             }
            },
            "type": "scatterpolar"
           }
          ],
          "scatterpolargl": [
           {
            "marker": {
             "colorbar": {
              "outlinewidth": 0,
              "ticks": ""
             }
            },
            "type": "scatterpolargl"
           }
          ],
          "scatterternary": [
           {
            "marker": {
             "colorbar": {
              "outlinewidth": 0,
              "ticks": ""
             }
            },
            "type": "scatterternary"
           }
          ],
          "surface": [
           {
            "colorbar": {
             "outlinewidth": 0,
             "ticks": ""
            },
            "colorscale": [
             [
              0,
              "#0d0887"
             ],
             [
              0.1111111111111111,
              "#46039f"
             ],
             [
              0.2222222222222222,
              "#7201a8"
             ],
             [
              0.3333333333333333,
              "#9c179e"
             ],
             [
              0.4444444444444444,
              "#bd3786"
             ],
             [
              0.5555555555555556,
              "#d8576b"
             ],
             [
              0.6666666666666666,
              "#ed7953"
             ],
             [
              0.7777777777777778,
              "#fb9f3a"
             ],
             [
              0.8888888888888888,
              "#fdca26"
             ],
             [
              1,
              "#f0f921"
             ]
            ],
            "type": "surface"
           }
          ],
          "table": [
           {
            "cells": {
             "fill": {
              "color": "#EBF0F8"
             },
             "line": {
              "color": "white"
             }
            },
            "header": {
             "fill": {
              "color": "#C8D4E3"
             },
             "line": {
              "color": "white"
             }
            },
            "type": "table"
           }
          ]
         },
         "layout": {
          "annotationdefaults": {
           "arrowcolor": "#2a3f5f",
           "arrowhead": 0,
           "arrowwidth": 1
          },
          "autotypenumbers": "strict",
          "coloraxis": {
           "colorbar": {
            "outlinewidth": 0,
            "ticks": ""
           }
          },
          "colorscale": {
           "diverging": [
            [
             0,
             "#8e0152"
            ],
            [
             0.1,
             "#c51b7d"
            ],
            [
             0.2,
             "#de77ae"
            ],
            [
             0.3,
             "#f1b6da"
            ],
            [
             0.4,
             "#fde0ef"
            ],
            [
             0.5,
             "#f7f7f7"
            ],
            [
             0.6,
             "#e6f5d0"
            ],
            [
             0.7,
             "#b8e186"
            ],
            [
             0.8,
             "#7fbc41"
            ],
            [
             0.9,
             "#4d9221"
            ],
            [
             1,
             "#276419"
            ]
           ],
           "sequential": [
            [
             0,
             "#0d0887"
            ],
            [
             0.1111111111111111,
             "#46039f"
            ],
            [
             0.2222222222222222,
             "#7201a8"
            ],
            [
             0.3333333333333333,
             "#9c179e"
            ],
            [
             0.4444444444444444,
             "#bd3786"
            ],
            [
             0.5555555555555556,
             "#d8576b"
            ],
            [
             0.6666666666666666,
             "#ed7953"
            ],
            [
             0.7777777777777778,
             "#fb9f3a"
            ],
            [
             0.8888888888888888,
             "#fdca26"
            ],
            [
             1,
             "#f0f921"
            ]
           ],
           "sequentialminus": [
            [
             0,
             "#0d0887"
            ],
            [
             0.1111111111111111,
             "#46039f"
            ],
            [
             0.2222222222222222,
             "#7201a8"
            ],
            [
             0.3333333333333333,
             "#9c179e"
            ],
            [
             0.4444444444444444,
             "#bd3786"
            ],
            [
             0.5555555555555556,
             "#d8576b"
            ],
            [
             0.6666666666666666,
             "#ed7953"
            ],
            [
             0.7777777777777778,
             "#fb9f3a"
            ],
            [
             0.8888888888888888,
             "#fdca26"
            ],
            [
             1,
             "#f0f921"
            ]
           ]
          },
          "colorway": [
           "#636efa",
           "#EF553B",
           "#00cc96",
           "#ab63fa",
           "#FFA15A",
           "#19d3f3",
           "#FF6692",
           "#B6E880",
           "#FF97FF",
           "#FECB52"
          ],
          "font": {
           "color": "#2a3f5f"
          },
          "geo": {
           "bgcolor": "white",
           "lakecolor": "white",
           "landcolor": "#E5ECF6",
           "showlakes": true,
           "showland": true,
           "subunitcolor": "white"
          },
          "hoverlabel": {
           "align": "left"
          },
          "hovermode": "closest",
          "mapbox": {
           "style": "light"
          },
          "paper_bgcolor": "white",
          "plot_bgcolor": "#E5ECF6",
          "polar": {
           "angularaxis": {
            "gridcolor": "white",
            "linecolor": "white",
            "ticks": ""
           },
           "bgcolor": "#E5ECF6",
           "radialaxis": {
            "gridcolor": "white",
            "linecolor": "white",
            "ticks": ""
           }
          },
          "scene": {
           "xaxis": {
            "backgroundcolor": "#E5ECF6",
            "gridcolor": "white",
            "gridwidth": 2,
            "linecolor": "white",
            "showbackground": true,
            "ticks": "",
            "zerolinecolor": "white"
           },
           "yaxis": {
            "backgroundcolor": "#E5ECF6",
            "gridcolor": "white",
            "gridwidth": 2,
            "linecolor": "white",
            "showbackground": true,
            "ticks": "",
            "zerolinecolor": "white"
           },
           "zaxis": {
            "backgroundcolor": "#E5ECF6",
            "gridcolor": "white",
            "gridwidth": 2,
            "linecolor": "white",
            "showbackground": true,
            "ticks": "",
            "zerolinecolor": "white"
           }
          },
          "shapedefaults": {
           "line": {
            "color": "#2a3f5f"
           }
          },
          "ternary": {
           "aaxis": {
            "gridcolor": "white",
            "linecolor": "white",
            "ticks": ""
           },
           "baxis": {
            "gridcolor": "white",
            "linecolor": "white",
            "ticks": ""
           },
           "bgcolor": "#E5ECF6",
           "caxis": {
            "gridcolor": "white",
            "linecolor": "white",
            "ticks": ""
           }
          },
          "title": {
           "x": 0.05
          },
          "xaxis": {
           "automargin": true,
           "gridcolor": "white",
           "linecolor": "white",
           "ticks": "",
           "title": {
            "standoff": 15
           },
           "zerolinecolor": "white",
           "zerolinewidth": 2
          },
          "yaxis": {
           "automargin": true,
           "gridcolor": "white",
           "linecolor": "white",
           "ticks": "",
           "title": {
            "standoff": 15
           },
           "zerolinecolor": "white",
           "zerolinewidth": 2
          }
         }
        },
        "title": {
         "text": "Distribution of Calories by Traffic"
        },
        "width": 700,
        "xaxis": {
         "anchor": "y",
         "domain": [
          0,
          1
         ],
         "title": {
          "text": "calories"
         }
        },
        "xaxis2": {
         "anchor": "y2",
         "domain": [
          0,
          1
         ],
         "matches": "x",
         "showgrid": true,
         "showticklabels": false
        },
        "yaxis": {
         "anchor": "x",
         "domain": [
          0,
          0.7326
         ],
         "title": {
          "text": "count"
         }
        },
        "yaxis2": {
         "anchor": "x2",
         "domain": [
          0.7426,
          1
         ],
         "matches": "y2",
         "showgrid": false,
         "showline": false,
         "showticklabels": false,
         "ticks": ""
        }
       }
      }
     },
     "metadata": {},
     "output_type": "display_data"
    }
   ],
   "source": [
    "fig = px.histogram(train_df,\n",
    "                   x='calories',\n",
    "                   marginal='box',\n",
    "                   color='high_traffic',\n",
    "                   color_discrete_sequence=['green','grey'],\n",
    "                   title='Distribution of Calories by Traffic')\n",
    "fig.update_layout(bargap=0.1)\n",
    "fig.update_layout(width=700, height=500)\n",
    "fig.show()"
   ]
  },
  {
   "cell_type": "markdown",
   "metadata": {},
   "source": [
    "The data is right skewed with most of the calories residing in the left part of the graph and a couple of outliers towards the right part of the graph i.e towards where there are more calories.\n",
    "\n",
    "However higher traffic seems to be the norm regardless of the calories."
   ]
  },
  {
   "cell_type": "markdown",
   "metadata": {},
   "source": [
    "**Carbohydrates**"
   ]
  },
  {
   "cell_type": "code",
   "execution_count": 39,
   "metadata": {},
   "outputs": [
    {
     "data": {
      "application/vnd.plotly.v1+json": {
       "config": {
        "plotlyServerURL": "https://plot.ly"
       },
       "data": [
        {
         "alignmentgroup": "True",
         "bingroup": "x",
         "hovertemplate": "high_traffic=High<br>carbohydrate=%{x}<br>count=%{y}<extra></extra>",
         "legendgroup": "High",
         "marker": {
          "color": "green",
          "pattern": {
           "shape": ""
          }
         },
         "name": "High",
         "offsetgroup": "High",
         "orientation": "v",
         "showlegend": true,
         "type": "histogram",
         "x": [
          5.18,
          51.13,
          44.68,
          17.79,
          14.75,
          8.86,
          6.14,
          4.15,
          40.37,
          22.25,
          62.67,
          44.66,
          140.96,
          84.21,
          1.42,
          18.93,
          0.86,
          2.81,
          58.65,
          383.06,
          181.98,
          19.5,
          7.7,
          13.41,
          18.24,
          83.79,
          3,
          39.93,
          10.67,
          0.08,
          3.91,
          54.51,
          24.89,
          7.41,
          126.18,
          8.98,
          85.35,
          6.18,
          18.82,
          1.72,
          9.85,
          23.07,
          26.21,
          102.52,
          7.73,
          28.42,
          75.43,
          33.58,
          138.05,
          25.86,
          9.58,
          100.7,
          3.21,
          3.7,
          15.03,
          19.99,
          23.79,
          5.48,
          51.29,
          16.62,
          5.33,
          23.16,
          0.1,
          31.56,
          38.53,
          53.73,
          162.91,
          3.72,
          52.87,
          21.1,
          3.74,
          1.52,
          20.71,
          55.54,
          35.29,
          22.35,
          1.33,
          20.62,
          60.94,
          2.46,
          20.65,
          11.53,
          4.88,
          4.65,
          20.86,
          23.49,
          31.49,
          9.73,
          27.97,
          76.09,
          48.84,
          16.2,
          31.45,
          51.57,
          61.77,
          2.73,
          0.31,
          224.16,
          23.88,
          19.29,
          46.39,
          177.22,
          140.22,
          11.66,
          15.42,
          5.17,
          50.02,
          51.34,
          18.12,
          6.49,
          530.42,
          1.53,
          65.7,
          41.54,
          154.18,
          5.14,
          47.45,
          1.5,
          14.69,
          51.87,
          77.02,
          29.18,
          39.29,
          97.21,
          21.48,
          22.33,
          31.09,
          78.29,
          118.2,
          10.74,
          1.9,
          5.88,
          21.64,
          49.37,
          6.4,
          5.22,
          30.22,
          96.71,
          31.92,
          3.67,
          0.88,
          65.68,
          50.13,
          33.08,
          17.44,
          19.64,
          7.47,
          60.93,
          6.5,
          10.45,
          15.36,
          68.8,
          11.5,
          33.92,
          53.39,
          25.99,
          103.46,
          4.86,
          51.08,
          26.32,
          79.18,
          145.32,
          152.24,
          80.83,
          3.42,
          60.94,
          9.64,
          5.07,
          2.99,
          30.87,
          0.19,
          31.76,
          7.73,
          73.16,
          8.31,
          40.82,
          4.97,
          19.65,
          6.88,
          35.05,
          12.89,
          19.44,
          8.53,
          76.37,
          170.88,
          239.06,
          90.65,
          124.16,
          72.86,
          7.99,
          55.84,
          47.47,
          18.62,
          37.38,
          38.27,
          16.88,
          12.28,
          2.64,
          96.03,
          20,
          4.07,
          15.18,
          33.04,
          0.53,
          4.9,
          73.29,
          19.94,
          61.77,
          8.87,
          42.45,
          43.72,
          62.46,
          3.78,
          7.03,
          7.66,
          28.63,
          9.67,
          32.73,
          71.58,
          0.41,
          87.68,
          2.13,
          75.39,
          60.56,
          3.35,
          0.99,
          21.28,
          32.82,
          38.45,
          7.33,
          24.42,
          13.44,
          102.44,
          0.98,
          6.69,
          29.96,
          15.19,
          48.79,
          60.13,
          12.82,
          156.23,
          47.91,
          15.19,
          32.21,
          42.6,
          12.58,
          22.47,
          39.55,
          11.17,
          58.8,
          1.65,
          64.57,
          62.95,
          5.14,
          16.85,
          4.34,
          37.38,
          51.7,
          119.63,
          63.66,
          111.8,
          14.31,
          13.06,
          47.62,
          10.72,
          39.96,
          45.44,
          44.63,
          17.72,
          131.8,
          46.47,
          22.51,
          16.31,
          2.56,
          24.76,
          31.2,
          37.13,
          6.01,
          26.13,
          194.26,
          40.64,
          111.08,
          39.05,
          15.61,
          11.37,
          8.6,
          30.56,
          6.26,
          265.09,
          0.62,
          14.16,
          48.25,
          9.66,
          28.31,
          24.92,
          2.32,
          96.11,
          32.47,
          9.26,
          68.71,
          9.43,
          34.05,
          9.91,
          2.18,
          6.45,
          15.12,
          24.12,
          1.87,
          5.13,
          15.34,
          5.66,
          11.89,
          43.2,
          10.37,
          11.03,
          49.82,
          34.77,
          24.59,
          4.49,
          30.59,
          34.63,
          18.58,
          11.65,
          7.73,
          19.65,
          47.61,
          158.92,
          13.48,
          4.5,
          27.98,
          0.05,
          15.86,
          67.84,
          25.99,
          44.61,
          38.4,
          5.62,
          2.65,
          12.54,
          195.8,
          21.41,
          42.42,
          25.08,
          23.89,
          15.55,
          4.47,
          56.43,
          3.52,
          45.48,
          10.83,
          22.32,
          38.52,
          43.2,
          7.79,
          162.11,
          190.84,
          1.11,
          0.08,
          44.8,
          14.86,
          61.85,
          92.02,
          9.91,
          5.42,
          12.4
         ],
         "xaxis": "x",
         "yaxis": "y"
        },
        {
         "alignmentgroup": "True",
         "hovertemplate": "high_traffic=High<br>carbohydrate=%{x}<extra></extra>",
         "legendgroup": "High",
         "marker": {
          "color": "green"
         },
         "name": "High",
         "notched": true,
         "offsetgroup": "High",
         "showlegend": false,
         "type": "box",
         "x": [
          5.18,
          51.13,
          44.68,
          17.79,
          14.75,
          8.86,
          6.14,
          4.15,
          40.37,
          22.25,
          62.67,
          44.66,
          140.96,
          84.21,
          1.42,
          18.93,
          0.86,
          2.81,
          58.65,
          383.06,
          181.98,
          19.5,
          7.7,
          13.41,
          18.24,
          83.79,
          3,
          39.93,
          10.67,
          0.08,
          3.91,
          54.51,
          24.89,
          7.41,
          126.18,
          8.98,
          85.35,
          6.18,
          18.82,
          1.72,
          9.85,
          23.07,
          26.21,
          102.52,
          7.73,
          28.42,
          75.43,
          33.58,
          138.05,
          25.86,
          9.58,
          100.7,
          3.21,
          3.7,
          15.03,
          19.99,
          23.79,
          5.48,
          51.29,
          16.62,
          5.33,
          23.16,
          0.1,
          31.56,
          38.53,
          53.73,
          162.91,
          3.72,
          52.87,
          21.1,
          3.74,
          1.52,
          20.71,
          55.54,
          35.29,
          22.35,
          1.33,
          20.62,
          60.94,
          2.46,
          20.65,
          11.53,
          4.88,
          4.65,
          20.86,
          23.49,
          31.49,
          9.73,
          27.97,
          76.09,
          48.84,
          16.2,
          31.45,
          51.57,
          61.77,
          2.73,
          0.31,
          224.16,
          23.88,
          19.29,
          46.39,
          177.22,
          140.22,
          11.66,
          15.42,
          5.17,
          50.02,
          51.34,
          18.12,
          6.49,
          530.42,
          1.53,
          65.7,
          41.54,
          154.18,
          5.14,
          47.45,
          1.5,
          14.69,
          51.87,
          77.02,
          29.18,
          39.29,
          97.21,
          21.48,
          22.33,
          31.09,
          78.29,
          118.2,
          10.74,
          1.9,
          5.88,
          21.64,
          49.37,
          6.4,
          5.22,
          30.22,
          96.71,
          31.92,
          3.67,
          0.88,
          65.68,
          50.13,
          33.08,
          17.44,
          19.64,
          7.47,
          60.93,
          6.5,
          10.45,
          15.36,
          68.8,
          11.5,
          33.92,
          53.39,
          25.99,
          103.46,
          4.86,
          51.08,
          26.32,
          79.18,
          145.32,
          152.24,
          80.83,
          3.42,
          60.94,
          9.64,
          5.07,
          2.99,
          30.87,
          0.19,
          31.76,
          7.73,
          73.16,
          8.31,
          40.82,
          4.97,
          19.65,
          6.88,
          35.05,
          12.89,
          19.44,
          8.53,
          76.37,
          170.88,
          239.06,
          90.65,
          124.16,
          72.86,
          7.99,
          55.84,
          47.47,
          18.62,
          37.38,
          38.27,
          16.88,
          12.28,
          2.64,
          96.03,
          20,
          4.07,
          15.18,
          33.04,
          0.53,
          4.9,
          73.29,
          19.94,
          61.77,
          8.87,
          42.45,
          43.72,
          62.46,
          3.78,
          7.03,
          7.66,
          28.63,
          9.67,
          32.73,
          71.58,
          0.41,
          87.68,
          2.13,
          75.39,
          60.56,
          3.35,
          0.99,
          21.28,
          32.82,
          38.45,
          7.33,
          24.42,
          13.44,
          102.44,
          0.98,
          6.69,
          29.96,
          15.19,
          48.79,
          60.13,
          12.82,
          156.23,
          47.91,
          15.19,
          32.21,
          42.6,
          12.58,
          22.47,
          39.55,
          11.17,
          58.8,
          1.65,
          64.57,
          62.95,
          5.14,
          16.85,
          4.34,
          37.38,
          51.7,
          119.63,
          63.66,
          111.8,
          14.31,
          13.06,
          47.62,
          10.72,
          39.96,
          45.44,
          44.63,
          17.72,
          131.8,
          46.47,
          22.51,
          16.31,
          2.56,
          24.76,
          31.2,
          37.13,
          6.01,
          26.13,
          194.26,
          40.64,
          111.08,
          39.05,
          15.61,
          11.37,
          8.6,
          30.56,
          6.26,
          265.09,
          0.62,
          14.16,
          48.25,
          9.66,
          28.31,
          24.92,
          2.32,
          96.11,
          32.47,
          9.26,
          68.71,
          9.43,
          34.05,
          9.91,
          2.18,
          6.45,
          15.12,
          24.12,
          1.87,
          5.13,
          15.34,
          5.66,
          11.89,
          43.2,
          10.37,
          11.03,
          49.82,
          34.77,
          24.59,
          4.49,
          30.59,
          34.63,
          18.58,
          11.65,
          7.73,
          19.65,
          47.61,
          158.92,
          13.48,
          4.5,
          27.98,
          0.05,
          15.86,
          67.84,
          25.99,
          44.61,
          38.4,
          5.62,
          2.65,
          12.54,
          195.8,
          21.41,
          42.42,
          25.08,
          23.89,
          15.55,
          4.47,
          56.43,
          3.52,
          45.48,
          10.83,
          22.32,
          38.52,
          43.2,
          7.79,
          162.11,
          190.84,
          1.11,
          0.08,
          44.8,
          14.86,
          61.85,
          92.02,
          9.91,
          5.42,
          12.4
         ],
         "xaxis": "x2",
         "yaxis": "y2"
        },
        {
         "alignmentgroup": "True",
         "bingroup": "x",
         "hovertemplate": "high_traffic=Low<br>carbohydrate=%{x}<br>count=%{y}<extra></extra>",
         "legendgroup": "Low",
         "marker": {
          "color": "grey",
          "pattern": {
           "shape": ""
          }
         },
         "name": "Low",
         "offsetgroup": "Low",
         "orientation": "v",
         "showlegend": true,
         "type": "histogram",
         "x": [
          54.44,
          37.55,
          1.18,
          6.93,
          16.71,
          23.06,
          49.36,
          75.64,
          27.55,
          33.94,
          4.79,
          94.81,
          4.67,
          66.3,
          2.57,
          22.88,
          10.38,
          70.07,
          28.84,
          4.43,
          127.12,
          10.5,
          13.68,
          4.7,
          24.45,
          3.38,
          19.28,
          25.69,
          16.2,
          8.83,
          99.82,
          56.72,
          30.54,
          4.79,
          6.27,
          20.55,
          59.94,
          89.3,
          39.67,
          20.8,
          1.19,
          0.58,
          5.14,
          12.9,
          46.13,
          113.99,
          25.82,
          60.18,
          10.48,
          1.05,
          39.17,
          1.83,
          14.27,
          1.93,
          12.11,
          58.44,
          38,
          37.05,
          48.16,
          7.37,
          66.64,
          12.49,
          7.55,
          3.17,
          21.19,
          23.75,
          17.63,
          16.8,
          16.83,
          26.67,
          7.37,
          8.43,
          25.23,
          10.5,
          243.2,
          4.82,
          70.14,
          6.7,
          46.46,
          22.63,
          38.4,
          7.49,
          2.78,
          38.66,
          6.01,
          10.24,
          18.65,
          45.74,
          12.99,
          4.92,
          26.21,
          6.28,
          26.54,
          74.77,
          65.14,
          9.54,
          38.56,
          15.98,
          2.97,
          12.78,
          7.53,
          20.37,
          4.4,
          45.08,
          55.51,
          49.37,
          28.03,
          6.4,
          37.18,
          50.22,
          58.08,
          32.87,
          8.13,
          13.88,
          6.63,
          23.17,
          8.32,
          13.01,
          8.24,
          24.34,
          27,
          38.09,
          48.54,
          9.04,
          73.05,
          14.84,
          23.96,
          9.81,
          58.61,
          1.97,
          6.19,
          53.19,
          12.26,
          74.16,
          74.38,
          78.02,
          8.84,
          9.17,
          9.58,
          39.36,
          19.11,
          22.1,
          67.02,
          85.12,
          2.32,
          42.68,
          8.32,
          22.46,
          32.82,
          12.54,
          3.1,
          7.2,
          41.93,
          16.44,
          13.44,
          65.87,
          13.67,
          4.45,
          27.24,
          9.5,
          9.88,
          31.55,
          9.72,
          77.7,
          36.73,
          126.97,
          91.95,
          50.96,
          39.47,
          13.49,
          6.84,
          15.99,
          5.19,
          9.43,
          47.95,
          10.34,
          17.46,
          210.77,
          23.14,
          5.31,
          5.96,
          1.85,
          26.93,
          1.5,
          4.74,
          39.28,
          18.11,
          13.6,
          0.69,
          13.59,
          142.28,
          1.63,
          21.89,
          11.65,
          35,
          12.91,
          3.46,
          5.19,
          2.12,
          9.87,
          5.41,
          34.34,
          33.77,
          2.8,
          32.34,
          7.7,
          173.93,
          88.81,
          85.06,
          78.46,
          3.13,
          0.44,
          0.21,
          8.27,
          3.17,
          8.29,
          0.48,
          29.29,
          39.26,
          41.6,
          37.57,
          0.16,
          133.9,
          15.08,
          10.81,
          8.78,
          27.82,
          8.74,
          17.28,
          13.95,
          113.65,
          33.62,
          29.1,
          32.08,
          28.68,
          12.14,
          1.34,
          9.71,
          19.16,
          46.4,
          88.67,
          19.12,
          5.17,
          7.93,
          55.6,
          2.86,
          151.69,
          21.52,
          19.2
         ],
         "xaxis": "x",
         "yaxis": "y"
        },
        {
         "alignmentgroup": "True",
         "hovertemplate": "high_traffic=Low<br>carbohydrate=%{x}<extra></extra>",
         "legendgroup": "Low",
         "marker": {
          "color": "grey"
         },
         "name": "Low",
         "notched": true,
         "offsetgroup": "Low",
         "showlegend": false,
         "type": "box",
         "x": [
          54.44,
          37.55,
          1.18,
          6.93,
          16.71,
          23.06,
          49.36,
          75.64,
          27.55,
          33.94,
          4.79,
          94.81,
          4.67,
          66.3,
          2.57,
          22.88,
          10.38,
          70.07,
          28.84,
          4.43,
          127.12,
          10.5,
          13.68,
          4.7,
          24.45,
          3.38,
          19.28,
          25.69,
          16.2,
          8.83,
          99.82,
          56.72,
          30.54,
          4.79,
          6.27,
          20.55,
          59.94,
          89.3,
          39.67,
          20.8,
          1.19,
          0.58,
          5.14,
          12.9,
          46.13,
          113.99,
          25.82,
          60.18,
          10.48,
          1.05,
          39.17,
          1.83,
          14.27,
          1.93,
          12.11,
          58.44,
          38,
          37.05,
          48.16,
          7.37,
          66.64,
          12.49,
          7.55,
          3.17,
          21.19,
          23.75,
          17.63,
          16.8,
          16.83,
          26.67,
          7.37,
          8.43,
          25.23,
          10.5,
          243.2,
          4.82,
          70.14,
          6.7,
          46.46,
          22.63,
          38.4,
          7.49,
          2.78,
          38.66,
          6.01,
          10.24,
          18.65,
          45.74,
          12.99,
          4.92,
          26.21,
          6.28,
          26.54,
          74.77,
          65.14,
          9.54,
          38.56,
          15.98,
          2.97,
          12.78,
          7.53,
          20.37,
          4.4,
          45.08,
          55.51,
          49.37,
          28.03,
          6.4,
          37.18,
          50.22,
          58.08,
          32.87,
          8.13,
          13.88,
          6.63,
          23.17,
          8.32,
          13.01,
          8.24,
          24.34,
          27,
          38.09,
          48.54,
          9.04,
          73.05,
          14.84,
          23.96,
          9.81,
          58.61,
          1.97,
          6.19,
          53.19,
          12.26,
          74.16,
          74.38,
          78.02,
          8.84,
          9.17,
          9.58,
          39.36,
          19.11,
          22.1,
          67.02,
          85.12,
          2.32,
          42.68,
          8.32,
          22.46,
          32.82,
          12.54,
          3.1,
          7.2,
          41.93,
          16.44,
          13.44,
          65.87,
          13.67,
          4.45,
          27.24,
          9.5,
          9.88,
          31.55,
          9.72,
          77.7,
          36.73,
          126.97,
          91.95,
          50.96,
          39.47,
          13.49,
          6.84,
          15.99,
          5.19,
          9.43,
          47.95,
          10.34,
          17.46,
          210.77,
          23.14,
          5.31,
          5.96,
          1.85,
          26.93,
          1.5,
          4.74,
          39.28,
          18.11,
          13.6,
          0.69,
          13.59,
          142.28,
          1.63,
          21.89,
          11.65,
          35,
          12.91,
          3.46,
          5.19,
          2.12,
          9.87,
          5.41,
          34.34,
          33.77,
          2.8,
          32.34,
          7.7,
          173.93,
          88.81,
          85.06,
          78.46,
          3.13,
          0.44,
          0.21,
          8.27,
          3.17,
          8.29,
          0.48,
          29.29,
          39.26,
          41.6,
          37.57,
          0.16,
          133.9,
          15.08,
          10.81,
          8.78,
          27.82,
          8.74,
          17.28,
          13.95,
          113.65,
          33.62,
          29.1,
          32.08,
          28.68,
          12.14,
          1.34,
          9.71,
          19.16,
          46.4,
          88.67,
          19.12,
          5.17,
          7.93,
          55.6,
          2.86,
          151.69,
          21.52,
          19.2
         ],
         "xaxis": "x2",
         "yaxis": "y2"
        }
       ],
       "layout": {
        "bargap": 0.1,
        "barmode": "relative",
        "height": 500,
        "legend": {
         "title": {
          "text": "high_traffic"
         },
         "tracegroupgap": 0
        },
        "template": {
         "data": {
          "bar": [
           {
            "error_x": {
             "color": "#2a3f5f"
            },
            "error_y": {
             "color": "#2a3f5f"
            },
            "marker": {
             "line": {
              "color": "#E5ECF6",
              "width": 0.5
             },
             "pattern": {
              "fillmode": "overlay",
              "size": 10,
              "solidity": 0.2
             }
            },
            "type": "bar"
           }
          ],
          "barpolar": [
           {
            "marker": {
             "line": {
              "color": "#E5ECF6",
              "width": 0.5
             },
             "pattern": {
              "fillmode": "overlay",
              "size": 10,
              "solidity": 0.2
             }
            },
            "type": "barpolar"
           }
          ],
          "carpet": [
           {
            "aaxis": {
             "endlinecolor": "#2a3f5f",
             "gridcolor": "white",
             "linecolor": "white",
             "minorgridcolor": "white",
             "startlinecolor": "#2a3f5f"
            },
            "baxis": {
             "endlinecolor": "#2a3f5f",
             "gridcolor": "white",
             "linecolor": "white",
             "minorgridcolor": "white",
             "startlinecolor": "#2a3f5f"
            },
            "type": "carpet"
           }
          ],
          "choropleth": [
           {
            "colorbar": {
             "outlinewidth": 0,
             "ticks": ""
            },
            "type": "choropleth"
           }
          ],
          "contour": [
           {
            "colorbar": {
             "outlinewidth": 0,
             "ticks": ""
            },
            "colorscale": [
             [
              0,
              "#0d0887"
             ],
             [
              0.1111111111111111,
              "#46039f"
             ],
             [
              0.2222222222222222,
              "#7201a8"
             ],
             [
              0.3333333333333333,
              "#9c179e"
             ],
             [
              0.4444444444444444,
              "#bd3786"
             ],
             [
              0.5555555555555556,
              "#d8576b"
             ],
             [
              0.6666666666666666,
              "#ed7953"
             ],
             [
              0.7777777777777778,
              "#fb9f3a"
             ],
             [
              0.8888888888888888,
              "#fdca26"
             ],
             [
              1,
              "#f0f921"
             ]
            ],
            "type": "contour"
           }
          ],
          "contourcarpet": [
           {
            "colorbar": {
             "outlinewidth": 0,
             "ticks": ""
            },
            "type": "contourcarpet"
           }
          ],
          "heatmap": [
           {
            "colorbar": {
             "outlinewidth": 0,
             "ticks": ""
            },
            "colorscale": [
             [
              0,
              "#0d0887"
             ],
             [
              0.1111111111111111,
              "#46039f"
             ],
             [
              0.2222222222222222,
              "#7201a8"
             ],
             [
              0.3333333333333333,
              "#9c179e"
             ],
             [
              0.4444444444444444,
              "#bd3786"
             ],
             [
              0.5555555555555556,
              "#d8576b"
             ],
             [
              0.6666666666666666,
              "#ed7953"
             ],
             [
              0.7777777777777778,
              "#fb9f3a"
             ],
             [
              0.8888888888888888,
              "#fdca26"
             ],
             [
              1,
              "#f0f921"
             ]
            ],
            "type": "heatmap"
           }
          ],
          "heatmapgl": [
           {
            "colorbar": {
             "outlinewidth": 0,
             "ticks": ""
            },
            "colorscale": [
             [
              0,
              "#0d0887"
             ],
             [
              0.1111111111111111,
              "#46039f"
             ],
             [
              0.2222222222222222,
              "#7201a8"
             ],
             [
              0.3333333333333333,
              "#9c179e"
             ],
             [
              0.4444444444444444,
              "#bd3786"
             ],
             [
              0.5555555555555556,
              "#d8576b"
             ],
             [
              0.6666666666666666,
              "#ed7953"
             ],
             [
              0.7777777777777778,
              "#fb9f3a"
             ],
             [
              0.8888888888888888,
              "#fdca26"
             ],
             [
              1,
              "#f0f921"
             ]
            ],
            "type": "heatmapgl"
           }
          ],
          "histogram": [
           {
            "marker": {
             "pattern": {
              "fillmode": "overlay",
              "size": 10,
              "solidity": 0.2
             }
            },
            "type": "histogram"
           }
          ],
          "histogram2d": [
           {
            "colorbar": {
             "outlinewidth": 0,
             "ticks": ""
            },
            "colorscale": [
             [
              0,
              "#0d0887"
             ],
             [
              0.1111111111111111,
              "#46039f"
             ],
             [
              0.2222222222222222,
              "#7201a8"
             ],
             [
              0.3333333333333333,
              "#9c179e"
             ],
             [
              0.4444444444444444,
              "#bd3786"
             ],
             [
              0.5555555555555556,
              "#d8576b"
             ],
             [
              0.6666666666666666,
              "#ed7953"
             ],
             [
              0.7777777777777778,
              "#fb9f3a"
             ],
             [
              0.8888888888888888,
              "#fdca26"
             ],
             [
              1,
              "#f0f921"
             ]
            ],
            "type": "histogram2d"
           }
          ],
          "histogram2dcontour": [
           {
            "colorbar": {
             "outlinewidth": 0,
             "ticks": ""
            },
            "colorscale": [
             [
              0,
              "#0d0887"
             ],
             [
              0.1111111111111111,
              "#46039f"
             ],
             [
              0.2222222222222222,
              "#7201a8"
             ],
             [
              0.3333333333333333,
              "#9c179e"
             ],
             [
              0.4444444444444444,
              "#bd3786"
             ],
             [
              0.5555555555555556,
              "#d8576b"
             ],
             [
              0.6666666666666666,
              "#ed7953"
             ],
             [
              0.7777777777777778,
              "#fb9f3a"
             ],
             [
              0.8888888888888888,
              "#fdca26"
             ],
             [
              1,
              "#f0f921"
             ]
            ],
            "type": "histogram2dcontour"
           }
          ],
          "mesh3d": [
           {
            "colorbar": {
             "outlinewidth": 0,
             "ticks": ""
            },
            "type": "mesh3d"
           }
          ],
          "parcoords": [
           {
            "line": {
             "colorbar": {
              "outlinewidth": 0,
              "ticks": ""
             }
            },
            "type": "parcoords"
           }
          ],
          "pie": [
           {
            "automargin": true,
            "type": "pie"
           }
          ],
          "scatter": [
           {
            "fillpattern": {
             "fillmode": "overlay",
             "size": 10,
             "solidity": 0.2
            },
            "type": "scatter"
           }
          ],
          "scatter3d": [
           {
            "line": {
             "colorbar": {
              "outlinewidth": 0,
              "ticks": ""
             }
            },
            "marker": {
             "colorbar": {
              "outlinewidth": 0,
              "ticks": ""
             }
            },
            "type": "scatter3d"
           }
          ],
          "scattercarpet": [
           {
            "marker": {
             "colorbar": {
              "outlinewidth": 0,
              "ticks": ""
             }
            },
            "type": "scattercarpet"
           }
          ],
          "scattergeo": [
           {
            "marker": {
             "colorbar": {
              "outlinewidth": 0,
              "ticks": ""
             }
            },
            "type": "scattergeo"
           }
          ],
          "scattergl": [
           {
            "marker": {
             "colorbar": {
              "outlinewidth": 0,
              "ticks": ""
             }
            },
            "type": "scattergl"
           }
          ],
          "scattermapbox": [
           {
            "marker": {
             "colorbar": {
              "outlinewidth": 0,
              "ticks": ""
             }
            },
            "type": "scattermapbox"
           }
          ],
          "scatterpolar": [
           {
            "marker": {
             "colorbar": {
              "outlinewidth": 0,
              "ticks": ""
             }
            },
            "type": "scatterpolar"
           }
          ],
          "scatterpolargl": [
           {
            "marker": {
             "colorbar": {
              "outlinewidth": 0,
              "ticks": ""
             }
            },
            "type": "scatterpolargl"
           }
          ],
          "scatterternary": [
           {
            "marker": {
             "colorbar": {
              "outlinewidth": 0,
              "ticks": ""
             }
            },
            "type": "scatterternary"
           }
          ],
          "surface": [
           {
            "colorbar": {
             "outlinewidth": 0,
             "ticks": ""
            },
            "colorscale": [
             [
              0,
              "#0d0887"
             ],
             [
              0.1111111111111111,
              "#46039f"
             ],
             [
              0.2222222222222222,
              "#7201a8"
             ],
             [
              0.3333333333333333,
              "#9c179e"
             ],
             [
              0.4444444444444444,
              "#bd3786"
             ],
             [
              0.5555555555555556,
              "#d8576b"
             ],
             [
              0.6666666666666666,
              "#ed7953"
             ],
             [
              0.7777777777777778,
              "#fb9f3a"
             ],
             [
              0.8888888888888888,
              "#fdca26"
             ],
             [
              1,
              "#f0f921"
             ]
            ],
            "type": "surface"
           }
          ],
          "table": [
           {
            "cells": {
             "fill": {
              "color": "#EBF0F8"
             },
             "line": {
              "color": "white"
             }
            },
            "header": {
             "fill": {
              "color": "#C8D4E3"
             },
             "line": {
              "color": "white"
             }
            },
            "type": "table"
           }
          ]
         },
         "layout": {
          "annotationdefaults": {
           "arrowcolor": "#2a3f5f",
           "arrowhead": 0,
           "arrowwidth": 1
          },
          "autotypenumbers": "strict",
          "coloraxis": {
           "colorbar": {
            "outlinewidth": 0,
            "ticks": ""
           }
          },
          "colorscale": {
           "diverging": [
            [
             0,
             "#8e0152"
            ],
            [
             0.1,
             "#c51b7d"
            ],
            [
             0.2,
             "#de77ae"
            ],
            [
             0.3,
             "#f1b6da"
            ],
            [
             0.4,
             "#fde0ef"
            ],
            [
             0.5,
             "#f7f7f7"
            ],
            [
             0.6,
             "#e6f5d0"
            ],
            [
             0.7,
             "#b8e186"
            ],
            [
             0.8,
             "#7fbc41"
            ],
            [
             0.9,
             "#4d9221"
            ],
            [
             1,
             "#276419"
            ]
           ],
           "sequential": [
            [
             0,
             "#0d0887"
            ],
            [
             0.1111111111111111,
             "#46039f"
            ],
            [
             0.2222222222222222,
             "#7201a8"
            ],
            [
             0.3333333333333333,
             "#9c179e"
            ],
            [
             0.4444444444444444,
             "#bd3786"
            ],
            [
             0.5555555555555556,
             "#d8576b"
            ],
            [
             0.6666666666666666,
             "#ed7953"
            ],
            [
             0.7777777777777778,
             "#fb9f3a"
            ],
            [
             0.8888888888888888,
             "#fdca26"
            ],
            [
             1,
             "#f0f921"
            ]
           ],
           "sequentialminus": [
            [
             0,
             "#0d0887"
            ],
            [
             0.1111111111111111,
             "#46039f"
            ],
            [
             0.2222222222222222,
             "#7201a8"
            ],
            [
             0.3333333333333333,
             "#9c179e"
            ],
            [
             0.4444444444444444,
             "#bd3786"
            ],
            [
             0.5555555555555556,
             "#d8576b"
            ],
            [
             0.6666666666666666,
             "#ed7953"
            ],
            [
             0.7777777777777778,
             "#fb9f3a"
            ],
            [
             0.8888888888888888,
             "#fdca26"
            ],
            [
             1,
             "#f0f921"
            ]
           ]
          },
          "colorway": [
           "#636efa",
           "#EF553B",
           "#00cc96",
           "#ab63fa",
           "#FFA15A",
           "#19d3f3",
           "#FF6692",
           "#B6E880",
           "#FF97FF",
           "#FECB52"
          ],
          "font": {
           "color": "#2a3f5f"
          },
          "geo": {
           "bgcolor": "white",
           "lakecolor": "white",
           "landcolor": "#E5ECF6",
           "showlakes": true,
           "showland": true,
           "subunitcolor": "white"
          },
          "hoverlabel": {
           "align": "left"
          },
          "hovermode": "closest",
          "mapbox": {
           "style": "light"
          },
          "paper_bgcolor": "white",
          "plot_bgcolor": "#E5ECF6",
          "polar": {
           "angularaxis": {
            "gridcolor": "white",
            "linecolor": "white",
            "ticks": ""
           },
           "bgcolor": "#E5ECF6",
           "radialaxis": {
            "gridcolor": "white",
            "linecolor": "white",
            "ticks": ""
           }
          },
          "scene": {
           "xaxis": {
            "backgroundcolor": "#E5ECF6",
            "gridcolor": "white",
            "gridwidth": 2,
            "linecolor": "white",
            "showbackground": true,
            "ticks": "",
            "zerolinecolor": "white"
           },
           "yaxis": {
            "backgroundcolor": "#E5ECF6",
            "gridcolor": "white",
            "gridwidth": 2,
            "linecolor": "white",
            "showbackground": true,
            "ticks": "",
            "zerolinecolor": "white"
           },
           "zaxis": {
            "backgroundcolor": "#E5ECF6",
            "gridcolor": "white",
            "gridwidth": 2,
            "linecolor": "white",
            "showbackground": true,
            "ticks": "",
            "zerolinecolor": "white"
           }
          },
          "shapedefaults": {
           "line": {
            "color": "#2a3f5f"
           }
          },
          "ternary": {
           "aaxis": {
            "gridcolor": "white",
            "linecolor": "white",
            "ticks": ""
           },
           "baxis": {
            "gridcolor": "white",
            "linecolor": "white",
            "ticks": ""
           },
           "bgcolor": "#E5ECF6",
           "caxis": {
            "gridcolor": "white",
            "linecolor": "white",
            "ticks": ""
           }
          },
          "title": {
           "x": 0.05
          },
          "xaxis": {
           "automargin": true,
           "gridcolor": "white",
           "linecolor": "white",
           "ticks": "",
           "title": {
            "standoff": 15
           },
           "zerolinecolor": "white",
           "zerolinewidth": 2
          },
          "yaxis": {
           "automargin": true,
           "gridcolor": "white",
           "linecolor": "white",
           "ticks": "",
           "title": {
            "standoff": 15
           },
           "zerolinecolor": "white",
           "zerolinewidth": 2
          }
         }
        },
        "title": {
         "text": "Distribution of Carbohydrates by Traffic"
        },
        "width": 700,
        "xaxis": {
         "anchor": "y",
         "domain": [
          0,
          1
         ],
         "title": {
          "text": "carbohydrate"
         }
        },
        "xaxis2": {
         "anchor": "y2",
         "domain": [
          0,
          1
         ],
         "matches": "x",
         "showgrid": true,
         "showticklabels": false
        },
        "yaxis": {
         "anchor": "x",
         "domain": [
          0,
          0.7326
         ],
         "title": {
          "text": "count"
         }
        },
        "yaxis2": {
         "anchor": "x2",
         "domain": [
          0.7426,
          1
         ],
         "matches": "y2",
         "showgrid": false,
         "showline": false,
         "showticklabels": false,
         "ticks": ""
        }
       }
      }
     },
     "metadata": {},
     "output_type": "display_data"
    }
   ],
   "source": [
    "fig = px.histogram(train_df,\n",
    "                   x='carbohydrate',\n",
    "                   marginal='box',\n",
    "                   color='high_traffic',\n",
    "                   color_discrete_sequence=['green','grey'],\n",
    "                   title='Distribution of Carbohydrates by Traffic')\n",
    "fig.update_layout(bargap=0.1)\n",
    "fig.update_layout(width=700, height=500)\n",
    "fig.show()"
   ]
  },
  {
   "cell_type": "markdown",
   "metadata": {},
   "source": [
    "There is a similar trend as the calories: \n",
    "* Right skewed data and \n",
    "* Higher traffic regardless of the grams of carbohydrates\n",
    "\n",
    "However there seems to be a higher skew to the data"
   ]
  },
  {
   "cell_type": "markdown",
   "metadata": {},
   "source": [
    "**Sugar**"
   ]
  },
  {
   "cell_type": "code",
   "execution_count": 40,
   "metadata": {},
   "outputs": [
    {
     "data": {
      "application/vnd.plotly.v1+json": {
       "config": {
        "plotlyServerURL": "https://plot.ly"
       },
       "data": [
        {
         "alignmentgroup": "True",
         "bingroup": "x",
         "hovertemplate": "high_traffic=High<br>sugar=%{x}<br>count=%{y}<extra></extra>",
         "legendgroup": "High",
         "marker": {
          "color": "green",
          "pattern": {
           "shape": ""
          }
         },
         "name": "High",
         "offsetgroup": "High",
         "orientation": "v",
         "showlegend": true,
         "type": "histogram",
         "x": [
          2.1,
          131.39,
          2.64,
          8.52,
          3.01,
          1.1,
          0.27,
          0.29,
          5.18,
          1.51,
          2.64,
          6.67,
          9.46,
          4.99,
          11.15,
          5.08,
          0.5,
          1.01,
          39.46,
          5.98,
          36.47,
          5.64,
          3.87,
          2.48,
          0.15,
          16.24,
          4.97,
          1.09,
          2.21,
          4.4,
          0.39,
          0.63,
          1.66,
          6.09,
          37.76,
          1.97,
          1.69,
          1.92,
          58,
          2.54,
          12.93,
          71.52,
          5.29,
          14.22,
          3.95,
          7.79,
          17.09,
          17.87,
          7.81,
          1.04,
          2.5,
          5.88,
          0.84,
          5.24,
          5.32,
          6.71,
          58.88,
          0.44,
          9.66,
          37.05,
          0.87,
          20.99,
          0.39,
          2.3,
          2.96,
          6.53,
          0.41,
          7.26,
          1.27,
          1.53,
          29.41,
          4.46,
          0.2,
          7.64,
          3.23,
          11.38,
          66.03,
          6.3,
          7.79,
          2.12,
          6.34,
          0.35,
          11.69,
          0.69,
          0.33,
          1.56,
          1.27,
          1.76,
          3.96,
          1.72,
          22.95,
          10.35,
          13.02,
          7.66,
          8.77,
          30.32,
          13.7,
          2.97,
          2.77,
          5.49,
          2.78,
          1.8,
          5.08,
          0.91,
          7.6,
          2.39,
          0.98,
          2.82,
          11.15,
          10.53,
          5.8,
          8.88,
          58.15,
          10.96,
          0.59,
          16.54,
          1.58,
          13.67,
          4.17,
          9.8,
          5.09,
          5.85,
          1.75,
          0.55,
          3.93,
          0.61,
          2.4,
          0.41,
          0.75,
          2.19,
          3.76,
          13.29,
          1.69,
          1.22,
          2.17,
          8.23,
          13.63,
          8.6,
          8,
          15.1,
          7.28,
          1.62,
          16.8,
          2.34,
          8.16,
          4.16,
          3.62,
          13.82,
          7.17,
          1.07,
          26.97,
          3.64,
          1.73,
          5.44,
          1.1,
          0.52,
          4.97,
          2.98,
          18.07,
          4.58,
          1.7,
          6.48,
          0.15,
          0.3,
          18.07,
          1.05,
          6.87,
          7.47,
          1.18,
          3.7,
          0.33,
          1.44,
          3.01,
          14.6,
          0.91,
          0.59,
          1.25,
          6.19,
          0.76,
          2.09,
          4.62,
          0.69,
          0.24,
          12.63,
          52.05,
          19.54,
          3.8,
          2.18,
          1.49,
          9.23,
          11.98,
          16.36,
          1.65,
          3.93,
          2.88,
          4.54,
          0.17,
          3.64,
          1.49,
          2.35,
          9.1,
          6.96,
          44.67,
          29.68,
          1.29,
          17.77,
          9.75,
          5.91,
          2.08,
          1.6,
          3.9,
          1.27,
          3.37,
          2.08,
          22.3,
          50.81,
          0.81,
          1.32,
          5.73,
          2.29,
          0.39,
          4.01,
          49.53,
          0.01,
          1.21,
          0.32,
          12.13,
          4.57,
          2.72,
          2.4,
          26.36,
          0.45,
          1.25,
          7.41,
          10,
          0.57,
          2.23,
          1.87,
          72.49,
          1.02,
          7.9,
          30.06,
          9.22,
          7.15,
          1.04,
          2.81,
          4.94,
          3.61,
          7.44,
          45.33,
          1.11,
          2.91,
          19.81,
          1.13,
          2.48,
          17.29,
          6.53,
          27.78,
          0.41,
          5.25,
          5.04,
          47.32,
          1.62,
          16.3,
          5.74,
          8.11,
          4.55,
          17.74,
          95.75,
          16.43,
          2.68,
          8.18,
          4.25,
          1.52,
          0.57,
          0.74,
          3.39,
          10.36,
          3.17,
          45.95,
          1.67,
          14.46,
          2.97,
          5.91,
          0.6,
          3.33,
          38.63,
          7.17,
          0.15,
          4.51,
          10.7,
          0.78,
          24.37,
          9.9,
          1.62,
          0.08,
          4.6,
          11.44,
          0.43,
          0.98,
          4.4,
          1.63,
          1.84,
          0.13,
          8.59,
          4.17,
          2.81,
          2.95,
          0.29,
          3.27,
          14.41,
          5.08,
          41.24,
          5.7,
          5.32,
          4.97,
          4.7,
          5.35,
          3.01,
          10.45,
          1.2,
          5.21,
          5.53,
          84.96,
          10.34,
          4.08,
          1.76,
          11.42,
          4.16,
          2.26,
          1.73,
          0.59,
          13.43,
          7.52,
          5.12,
          0.1,
          0.79,
          4.68,
          0.64,
          5.25,
          3.51,
          1.98,
          0.61,
          12.38,
          0.77,
          11.62,
          5.6,
          1.89,
          6.26,
          2.26,
          5.14,
          0.1,
          1.13,
          4.95,
          0.64,
          4.13,
          5.9,
          14.34,
          8.97,
          0.02,
          2.89,
          0.89,
          38.66,
          6.69,
          24.65
         ],
         "xaxis": "x",
         "yaxis": "y"
        },
        {
         "alignmentgroup": "True",
         "hovertemplate": "high_traffic=High<br>sugar=%{x}<extra></extra>",
         "legendgroup": "High",
         "marker": {
          "color": "green"
         },
         "name": "High",
         "notched": true,
         "offsetgroup": "High",
         "showlegend": false,
         "type": "box",
         "x": [
          2.1,
          131.39,
          2.64,
          8.52,
          3.01,
          1.1,
          0.27,
          0.29,
          5.18,
          1.51,
          2.64,
          6.67,
          9.46,
          4.99,
          11.15,
          5.08,
          0.5,
          1.01,
          39.46,
          5.98,
          36.47,
          5.64,
          3.87,
          2.48,
          0.15,
          16.24,
          4.97,
          1.09,
          2.21,
          4.4,
          0.39,
          0.63,
          1.66,
          6.09,
          37.76,
          1.97,
          1.69,
          1.92,
          58,
          2.54,
          12.93,
          71.52,
          5.29,
          14.22,
          3.95,
          7.79,
          17.09,
          17.87,
          7.81,
          1.04,
          2.5,
          5.88,
          0.84,
          5.24,
          5.32,
          6.71,
          58.88,
          0.44,
          9.66,
          37.05,
          0.87,
          20.99,
          0.39,
          2.3,
          2.96,
          6.53,
          0.41,
          7.26,
          1.27,
          1.53,
          29.41,
          4.46,
          0.2,
          7.64,
          3.23,
          11.38,
          66.03,
          6.3,
          7.79,
          2.12,
          6.34,
          0.35,
          11.69,
          0.69,
          0.33,
          1.56,
          1.27,
          1.76,
          3.96,
          1.72,
          22.95,
          10.35,
          13.02,
          7.66,
          8.77,
          30.32,
          13.7,
          2.97,
          2.77,
          5.49,
          2.78,
          1.8,
          5.08,
          0.91,
          7.6,
          2.39,
          0.98,
          2.82,
          11.15,
          10.53,
          5.8,
          8.88,
          58.15,
          10.96,
          0.59,
          16.54,
          1.58,
          13.67,
          4.17,
          9.8,
          5.09,
          5.85,
          1.75,
          0.55,
          3.93,
          0.61,
          2.4,
          0.41,
          0.75,
          2.19,
          3.76,
          13.29,
          1.69,
          1.22,
          2.17,
          8.23,
          13.63,
          8.6,
          8,
          15.1,
          7.28,
          1.62,
          16.8,
          2.34,
          8.16,
          4.16,
          3.62,
          13.82,
          7.17,
          1.07,
          26.97,
          3.64,
          1.73,
          5.44,
          1.1,
          0.52,
          4.97,
          2.98,
          18.07,
          4.58,
          1.7,
          6.48,
          0.15,
          0.3,
          18.07,
          1.05,
          6.87,
          7.47,
          1.18,
          3.7,
          0.33,
          1.44,
          3.01,
          14.6,
          0.91,
          0.59,
          1.25,
          6.19,
          0.76,
          2.09,
          4.62,
          0.69,
          0.24,
          12.63,
          52.05,
          19.54,
          3.8,
          2.18,
          1.49,
          9.23,
          11.98,
          16.36,
          1.65,
          3.93,
          2.88,
          4.54,
          0.17,
          3.64,
          1.49,
          2.35,
          9.1,
          6.96,
          44.67,
          29.68,
          1.29,
          17.77,
          9.75,
          5.91,
          2.08,
          1.6,
          3.9,
          1.27,
          3.37,
          2.08,
          22.3,
          50.81,
          0.81,
          1.32,
          5.73,
          2.29,
          0.39,
          4.01,
          49.53,
          0.01,
          1.21,
          0.32,
          12.13,
          4.57,
          2.72,
          2.4,
          26.36,
          0.45,
          1.25,
          7.41,
          10,
          0.57,
          2.23,
          1.87,
          72.49,
          1.02,
          7.9,
          30.06,
          9.22,
          7.15,
          1.04,
          2.81,
          4.94,
          3.61,
          7.44,
          45.33,
          1.11,
          2.91,
          19.81,
          1.13,
          2.48,
          17.29,
          6.53,
          27.78,
          0.41,
          5.25,
          5.04,
          47.32,
          1.62,
          16.3,
          5.74,
          8.11,
          4.55,
          17.74,
          95.75,
          16.43,
          2.68,
          8.18,
          4.25,
          1.52,
          0.57,
          0.74,
          3.39,
          10.36,
          3.17,
          45.95,
          1.67,
          14.46,
          2.97,
          5.91,
          0.6,
          3.33,
          38.63,
          7.17,
          0.15,
          4.51,
          10.7,
          0.78,
          24.37,
          9.9,
          1.62,
          0.08,
          4.6,
          11.44,
          0.43,
          0.98,
          4.4,
          1.63,
          1.84,
          0.13,
          8.59,
          4.17,
          2.81,
          2.95,
          0.29,
          3.27,
          14.41,
          5.08,
          41.24,
          5.7,
          5.32,
          4.97,
          4.7,
          5.35,
          3.01,
          10.45,
          1.2,
          5.21,
          5.53,
          84.96,
          10.34,
          4.08,
          1.76,
          11.42,
          4.16,
          2.26,
          1.73,
          0.59,
          13.43,
          7.52,
          5.12,
          0.1,
          0.79,
          4.68,
          0.64,
          5.25,
          3.51,
          1.98,
          0.61,
          12.38,
          0.77,
          11.62,
          5.6,
          1.89,
          6.26,
          2.26,
          5.14,
          0.1,
          1.13,
          4.95,
          0.64,
          4.13,
          5.9,
          14.34,
          8.97,
          0.02,
          2.89,
          0.89,
          38.66,
          6.69,
          24.65
         ],
         "xaxis": "x2",
         "yaxis": "y2"
        },
        {
         "alignmentgroup": "True",
         "bingroup": "x",
         "hovertemplate": "high_traffic=Low<br>sugar=%{x}<br>count=%{y}<extra></extra>",
         "legendgroup": "Low",
         "marker": {
          "color": "grey",
          "pattern": {
           "shape": ""
          }
         },
         "name": "Low",
         "offsetgroup": "Low",
         "orientation": "v",
         "showlegend": true,
         "type": "histogram",
         "x": [
          16.15,
          6.6,
          11.47,
          26.16,
          1.02,
          7.59,
          0.96,
          3.26,
          1.51,
          6.08,
          20.92,
          4.13,
          1.1,
          0.77,
          0.56,
          32.7,
          0.26,
          7.75,
          4.54,
          1.05,
          8.71,
          8.83,
          6.72,
          13.11,
          5.37,
          0.07,
          0.19,
          6.66,
          8.67,
          0.8,
          2.62,
          18.03,
          8.47,
          0.4,
          1.5,
          0.5,
          12.26,
          1.61,
          2.24,
          5.75,
          1.89,
          12.87,
          7.51,
          11.32,
          15.64,
          3.05,
          2.41,
          15.52,
          12.33,
          1.89,
          39.54,
          2.68,
          0.21,
          8.6,
          0.38,
          4.19,
          5.39,
          15.71,
          4.58,
          15.64,
          4.69,
          8.26,
          17.68,
          7.95,
          15.05,
          2.21,
          4.1,
          30.56,
          16.4,
          2.21,
          13.37,
          7.26,
          17.58,
          4.66,
          0.6,
          4.14,
          0.58,
          0.68,
          1.26,
          4.93,
          4.37,
          0.11,
          1.24,
          2.53,
          3.9,
          2.32,
          3.31,
          16.77,
          5.75,
          22.74,
          1.94,
          0.72,
          3.08,
          0.75,
          1.91,
          6.47,
          75.48,
          0.54,
          7.55,
          3.66,
          1.2,
          3.27,
          44.54,
          7.74,
          9.99,
          0.01,
          2.92,
          56.78,
          0.5,
          0.1,
          1.59,
          3.37,
          1.98,
          1.69,
          3.79,
          1.04,
          16.11,
          7.68,
          0.4,
          5.6,
          11.18,
          4.27,
          3.99,
          2.22,
          7.68,
          17.29,
          6.25,
          28.58,
          0.55,
          13.94,
          2.97,
          28.18,
          1.33,
          5.91,
          76.53,
          16.39,
          5.1,
          0.65,
          3.16,
          5.05,
          18.17,
          39.34,
          13.47,
          1.71,
          4.71,
          3.09,
          2.04,
          10.06,
          59.04,
          3.21,
          5.43,
          5.51,
          0.84,
          2.86,
          1.61,
          18.63,
          11.13,
          3.04,
          0.77,
          5.92,
          5.97,
          38.36,
          0.94,
          2.43,
          4.34,
          1.51,
          13.44,
          2.45,
          0.16,
          4.79,
          6.95,
          5.77,
          17.61,
          0.82,
          9.75,
          5.22,
          0.33,
          112.24,
          3.33,
          22.39,
          2.08,
          0.8,
          43.34,
          18.44,
          18.82,
          2.57,
          10.6,
          8.27,
          4.11,
          2.96,
          50.17,
          6.39,
          2.96,
          19.16,
          9.39,
          14.61,
          14.41,
          0.96,
          42.8,
          1.9,
          7.9,
          5.12,
          1.68,
          8.68,
          7.41,
          30.73,
          3.53,
          6.31,
          1.58,
          23.19,
          0.73,
          0.05,
          9.43,
          9.78,
          0.4,
          29.15,
          2.15,
          2.6,
          1.33,
          0.18,
          1.21,
          51.64,
          14.35,
          24.63,
          3.04,
          0.09,
          9.03,
          2.39,
          10.33,
          8.59,
          3.1,
          19.04,
          9.63,
          19.78,
          11.74,
          1.86,
          0.54,
          19.24,
          9.4,
          7.14,
          14.45,
          86.97,
          0.68,
          1.2,
          2.24,
          9.5,
          8.12,
          3.38,
          2.25
         ],
         "xaxis": "x",
         "yaxis": "y"
        },
        {
         "alignmentgroup": "True",
         "hovertemplate": "high_traffic=Low<br>sugar=%{x}<extra></extra>",
         "legendgroup": "Low",
         "marker": {
          "color": "grey"
         },
         "name": "Low",
         "notched": true,
         "offsetgroup": "Low",
         "showlegend": false,
         "type": "box",
         "x": [
          16.15,
          6.6,
          11.47,
          26.16,
          1.02,
          7.59,
          0.96,
          3.26,
          1.51,
          6.08,
          20.92,
          4.13,
          1.1,
          0.77,
          0.56,
          32.7,
          0.26,
          7.75,
          4.54,
          1.05,
          8.71,
          8.83,
          6.72,
          13.11,
          5.37,
          0.07,
          0.19,
          6.66,
          8.67,
          0.8,
          2.62,
          18.03,
          8.47,
          0.4,
          1.5,
          0.5,
          12.26,
          1.61,
          2.24,
          5.75,
          1.89,
          12.87,
          7.51,
          11.32,
          15.64,
          3.05,
          2.41,
          15.52,
          12.33,
          1.89,
          39.54,
          2.68,
          0.21,
          8.6,
          0.38,
          4.19,
          5.39,
          15.71,
          4.58,
          15.64,
          4.69,
          8.26,
          17.68,
          7.95,
          15.05,
          2.21,
          4.1,
          30.56,
          16.4,
          2.21,
          13.37,
          7.26,
          17.58,
          4.66,
          0.6,
          4.14,
          0.58,
          0.68,
          1.26,
          4.93,
          4.37,
          0.11,
          1.24,
          2.53,
          3.9,
          2.32,
          3.31,
          16.77,
          5.75,
          22.74,
          1.94,
          0.72,
          3.08,
          0.75,
          1.91,
          6.47,
          75.48,
          0.54,
          7.55,
          3.66,
          1.2,
          3.27,
          44.54,
          7.74,
          9.99,
          0.01,
          2.92,
          56.78,
          0.5,
          0.1,
          1.59,
          3.37,
          1.98,
          1.69,
          3.79,
          1.04,
          16.11,
          7.68,
          0.4,
          5.6,
          11.18,
          4.27,
          3.99,
          2.22,
          7.68,
          17.29,
          6.25,
          28.58,
          0.55,
          13.94,
          2.97,
          28.18,
          1.33,
          5.91,
          76.53,
          16.39,
          5.1,
          0.65,
          3.16,
          5.05,
          18.17,
          39.34,
          13.47,
          1.71,
          4.71,
          3.09,
          2.04,
          10.06,
          59.04,
          3.21,
          5.43,
          5.51,
          0.84,
          2.86,
          1.61,
          18.63,
          11.13,
          3.04,
          0.77,
          5.92,
          5.97,
          38.36,
          0.94,
          2.43,
          4.34,
          1.51,
          13.44,
          2.45,
          0.16,
          4.79,
          6.95,
          5.77,
          17.61,
          0.82,
          9.75,
          5.22,
          0.33,
          112.24,
          3.33,
          22.39,
          2.08,
          0.8,
          43.34,
          18.44,
          18.82,
          2.57,
          10.6,
          8.27,
          4.11,
          2.96,
          50.17,
          6.39,
          2.96,
          19.16,
          9.39,
          14.61,
          14.41,
          0.96,
          42.8,
          1.9,
          7.9,
          5.12,
          1.68,
          8.68,
          7.41,
          30.73,
          3.53,
          6.31,
          1.58,
          23.19,
          0.73,
          0.05,
          9.43,
          9.78,
          0.4,
          29.15,
          2.15,
          2.6,
          1.33,
          0.18,
          1.21,
          51.64,
          14.35,
          24.63,
          3.04,
          0.09,
          9.03,
          2.39,
          10.33,
          8.59,
          3.1,
          19.04,
          9.63,
          19.78,
          11.74,
          1.86,
          0.54,
          19.24,
          9.4,
          7.14,
          14.45,
          86.97,
          0.68,
          1.2,
          2.24,
          9.5,
          8.12,
          3.38,
          2.25
         ],
         "xaxis": "x2",
         "yaxis": "y2"
        }
       ],
       "layout": {
        "bargap": 0.1,
        "barmode": "relative",
        "height": 500,
        "legend": {
         "title": {
          "text": "high_traffic"
         },
         "tracegroupgap": 0
        },
        "template": {
         "data": {
          "bar": [
           {
            "error_x": {
             "color": "#2a3f5f"
            },
            "error_y": {
             "color": "#2a3f5f"
            },
            "marker": {
             "line": {
              "color": "#E5ECF6",
              "width": 0.5
             },
             "pattern": {
              "fillmode": "overlay",
              "size": 10,
              "solidity": 0.2
             }
            },
            "type": "bar"
           }
          ],
          "barpolar": [
           {
            "marker": {
             "line": {
              "color": "#E5ECF6",
              "width": 0.5
             },
             "pattern": {
              "fillmode": "overlay",
              "size": 10,
              "solidity": 0.2
             }
            },
            "type": "barpolar"
           }
          ],
          "carpet": [
           {
            "aaxis": {
             "endlinecolor": "#2a3f5f",
             "gridcolor": "white",
             "linecolor": "white",
             "minorgridcolor": "white",
             "startlinecolor": "#2a3f5f"
            },
            "baxis": {
             "endlinecolor": "#2a3f5f",
             "gridcolor": "white",
             "linecolor": "white",
             "minorgridcolor": "white",
             "startlinecolor": "#2a3f5f"
            },
            "type": "carpet"
           }
          ],
          "choropleth": [
           {
            "colorbar": {
             "outlinewidth": 0,
             "ticks": ""
            },
            "type": "choropleth"
           }
          ],
          "contour": [
           {
            "colorbar": {
             "outlinewidth": 0,
             "ticks": ""
            },
            "colorscale": [
             [
              0,
              "#0d0887"
             ],
             [
              0.1111111111111111,
              "#46039f"
             ],
             [
              0.2222222222222222,
              "#7201a8"
             ],
             [
              0.3333333333333333,
              "#9c179e"
             ],
             [
              0.4444444444444444,
              "#bd3786"
             ],
             [
              0.5555555555555556,
              "#d8576b"
             ],
             [
              0.6666666666666666,
              "#ed7953"
             ],
             [
              0.7777777777777778,
              "#fb9f3a"
             ],
             [
              0.8888888888888888,
              "#fdca26"
             ],
             [
              1,
              "#f0f921"
             ]
            ],
            "type": "contour"
           }
          ],
          "contourcarpet": [
           {
            "colorbar": {
             "outlinewidth": 0,
             "ticks": ""
            },
            "type": "contourcarpet"
           }
          ],
          "heatmap": [
           {
            "colorbar": {
             "outlinewidth": 0,
             "ticks": ""
            },
            "colorscale": [
             [
              0,
              "#0d0887"
             ],
             [
              0.1111111111111111,
              "#46039f"
             ],
             [
              0.2222222222222222,
              "#7201a8"
             ],
             [
              0.3333333333333333,
              "#9c179e"
             ],
             [
              0.4444444444444444,
              "#bd3786"
             ],
             [
              0.5555555555555556,
              "#d8576b"
             ],
             [
              0.6666666666666666,
              "#ed7953"
             ],
             [
              0.7777777777777778,
              "#fb9f3a"
             ],
             [
              0.8888888888888888,
              "#fdca26"
             ],
             [
              1,
              "#f0f921"
             ]
            ],
            "type": "heatmap"
           }
          ],
          "heatmapgl": [
           {
            "colorbar": {
             "outlinewidth": 0,
             "ticks": ""
            },
            "colorscale": [
             [
              0,
              "#0d0887"
             ],
             [
              0.1111111111111111,
              "#46039f"
             ],
             [
              0.2222222222222222,
              "#7201a8"
             ],
             [
              0.3333333333333333,
              "#9c179e"
             ],
             [
              0.4444444444444444,
              "#bd3786"
             ],
             [
              0.5555555555555556,
              "#d8576b"
             ],
             [
              0.6666666666666666,
              "#ed7953"
             ],
             [
              0.7777777777777778,
              "#fb9f3a"
             ],
             [
              0.8888888888888888,
              "#fdca26"
             ],
             [
              1,
              "#f0f921"
             ]
            ],
            "type": "heatmapgl"
           }
          ],
          "histogram": [
           {
            "marker": {
             "pattern": {
              "fillmode": "overlay",
              "size": 10,
              "solidity": 0.2
             }
            },
            "type": "histogram"
           }
          ],
          "histogram2d": [
           {
            "colorbar": {
             "outlinewidth": 0,
             "ticks": ""
            },
            "colorscale": [
             [
              0,
              "#0d0887"
             ],
             [
              0.1111111111111111,
              "#46039f"
             ],
             [
              0.2222222222222222,
              "#7201a8"
             ],
             [
              0.3333333333333333,
              "#9c179e"
             ],
             [
              0.4444444444444444,
              "#bd3786"
             ],
             [
              0.5555555555555556,
              "#d8576b"
             ],
             [
              0.6666666666666666,
              "#ed7953"
             ],
             [
              0.7777777777777778,
              "#fb9f3a"
             ],
             [
              0.8888888888888888,
              "#fdca26"
             ],
             [
              1,
              "#f0f921"
             ]
            ],
            "type": "histogram2d"
           }
          ],
          "histogram2dcontour": [
           {
            "colorbar": {
             "outlinewidth": 0,
             "ticks": ""
            },
            "colorscale": [
             [
              0,
              "#0d0887"
             ],
             [
              0.1111111111111111,
              "#46039f"
             ],
             [
              0.2222222222222222,
              "#7201a8"
             ],
             [
              0.3333333333333333,
              "#9c179e"
             ],
             [
              0.4444444444444444,
              "#bd3786"
             ],
             [
              0.5555555555555556,
              "#d8576b"
             ],
             [
              0.6666666666666666,
              "#ed7953"
             ],
             [
              0.7777777777777778,
              "#fb9f3a"
             ],
             [
              0.8888888888888888,
              "#fdca26"
             ],
             [
              1,
              "#f0f921"
             ]
            ],
            "type": "histogram2dcontour"
           }
          ],
          "mesh3d": [
           {
            "colorbar": {
             "outlinewidth": 0,
             "ticks": ""
            },
            "type": "mesh3d"
           }
          ],
          "parcoords": [
           {
            "line": {
             "colorbar": {
              "outlinewidth": 0,
              "ticks": ""
             }
            },
            "type": "parcoords"
           }
          ],
          "pie": [
           {
            "automargin": true,
            "type": "pie"
           }
          ],
          "scatter": [
           {
            "fillpattern": {
             "fillmode": "overlay",
             "size": 10,
             "solidity": 0.2
            },
            "type": "scatter"
           }
          ],
          "scatter3d": [
           {
            "line": {
             "colorbar": {
              "outlinewidth": 0,
              "ticks": ""
             }
            },
            "marker": {
             "colorbar": {
              "outlinewidth": 0,
              "ticks": ""
             }
            },
            "type": "scatter3d"
           }
          ],
          "scattercarpet": [
           {
            "marker": {
             "colorbar": {
              "outlinewidth": 0,
              "ticks": ""
             }
            },
            "type": "scattercarpet"
           }
          ],
          "scattergeo": [
           {
            "marker": {
             "colorbar": {
              "outlinewidth": 0,
              "ticks": ""
             }
            },
            "type": "scattergeo"
           }
          ],
          "scattergl": [
           {
            "marker": {
             "colorbar": {
              "outlinewidth": 0,
              "ticks": ""
             }
            },
            "type": "scattergl"
           }
          ],
          "scattermapbox": [
           {
            "marker": {
             "colorbar": {
              "outlinewidth": 0,
              "ticks": ""
             }
            },
            "type": "scattermapbox"
           }
          ],
          "scatterpolar": [
           {
            "marker": {
             "colorbar": {
              "outlinewidth": 0,
              "ticks": ""
             }
            },
            "type": "scatterpolar"
           }
          ],
          "scatterpolargl": [
           {
            "marker": {
             "colorbar": {
              "outlinewidth": 0,
              "ticks": ""
             }
            },
            "type": "scatterpolargl"
           }
          ],
          "scatterternary": [
           {
            "marker": {
             "colorbar": {
              "outlinewidth": 0,
              "ticks": ""
             }
            },
            "type": "scatterternary"
           }
          ],
          "surface": [
           {
            "colorbar": {
             "outlinewidth": 0,
             "ticks": ""
            },
            "colorscale": [
             [
              0,
              "#0d0887"
             ],
             [
              0.1111111111111111,
              "#46039f"
             ],
             [
              0.2222222222222222,
              "#7201a8"
             ],
             [
              0.3333333333333333,
              "#9c179e"
             ],
             [
              0.4444444444444444,
              "#bd3786"
             ],
             [
              0.5555555555555556,
              "#d8576b"
             ],
             [
              0.6666666666666666,
              "#ed7953"
             ],
             [
              0.7777777777777778,
              "#fb9f3a"
             ],
             [
              0.8888888888888888,
              "#fdca26"
             ],
             [
              1,
              "#f0f921"
             ]
            ],
            "type": "surface"
           }
          ],
          "table": [
           {
            "cells": {
             "fill": {
              "color": "#EBF0F8"
             },
             "line": {
              "color": "white"
             }
            },
            "header": {
             "fill": {
              "color": "#C8D4E3"
             },
             "line": {
              "color": "white"
             }
            },
            "type": "table"
           }
          ]
         },
         "layout": {
          "annotationdefaults": {
           "arrowcolor": "#2a3f5f",
           "arrowhead": 0,
           "arrowwidth": 1
          },
          "autotypenumbers": "strict",
          "coloraxis": {
           "colorbar": {
            "outlinewidth": 0,
            "ticks": ""
           }
          },
          "colorscale": {
           "diverging": [
            [
             0,
             "#8e0152"
            ],
            [
             0.1,
             "#c51b7d"
            ],
            [
             0.2,
             "#de77ae"
            ],
            [
             0.3,
             "#f1b6da"
            ],
            [
             0.4,
             "#fde0ef"
            ],
            [
             0.5,
             "#f7f7f7"
            ],
            [
             0.6,
             "#e6f5d0"
            ],
            [
             0.7,
             "#b8e186"
            ],
            [
             0.8,
             "#7fbc41"
            ],
            [
             0.9,
             "#4d9221"
            ],
            [
             1,
             "#276419"
            ]
           ],
           "sequential": [
            [
             0,
             "#0d0887"
            ],
            [
             0.1111111111111111,
             "#46039f"
            ],
            [
             0.2222222222222222,
             "#7201a8"
            ],
            [
             0.3333333333333333,
             "#9c179e"
            ],
            [
             0.4444444444444444,
             "#bd3786"
            ],
            [
             0.5555555555555556,
             "#d8576b"
            ],
            [
             0.6666666666666666,
             "#ed7953"
            ],
            [
             0.7777777777777778,
             "#fb9f3a"
            ],
            [
             0.8888888888888888,
             "#fdca26"
            ],
            [
             1,
             "#f0f921"
            ]
           ],
           "sequentialminus": [
            [
             0,
             "#0d0887"
            ],
            [
             0.1111111111111111,
             "#46039f"
            ],
            [
             0.2222222222222222,
             "#7201a8"
            ],
            [
             0.3333333333333333,
             "#9c179e"
            ],
            [
             0.4444444444444444,
             "#bd3786"
            ],
            [
             0.5555555555555556,
             "#d8576b"
            ],
            [
             0.6666666666666666,
             "#ed7953"
            ],
            [
             0.7777777777777778,
             "#fb9f3a"
            ],
            [
             0.8888888888888888,
             "#fdca26"
            ],
            [
             1,
             "#f0f921"
            ]
           ]
          },
          "colorway": [
           "#636efa",
           "#EF553B",
           "#00cc96",
           "#ab63fa",
           "#FFA15A",
           "#19d3f3",
           "#FF6692",
           "#B6E880",
           "#FF97FF",
           "#FECB52"
          ],
          "font": {
           "color": "#2a3f5f"
          },
          "geo": {
           "bgcolor": "white",
           "lakecolor": "white",
           "landcolor": "#E5ECF6",
           "showlakes": true,
           "showland": true,
           "subunitcolor": "white"
          },
          "hoverlabel": {
           "align": "left"
          },
          "hovermode": "closest",
          "mapbox": {
           "style": "light"
          },
          "paper_bgcolor": "white",
          "plot_bgcolor": "#E5ECF6",
          "polar": {
           "angularaxis": {
            "gridcolor": "white",
            "linecolor": "white",
            "ticks": ""
           },
           "bgcolor": "#E5ECF6",
           "radialaxis": {
            "gridcolor": "white",
            "linecolor": "white",
            "ticks": ""
           }
          },
          "scene": {
           "xaxis": {
            "backgroundcolor": "#E5ECF6",
            "gridcolor": "white",
            "gridwidth": 2,
            "linecolor": "white",
            "showbackground": true,
            "ticks": "",
            "zerolinecolor": "white"
           },
           "yaxis": {
            "backgroundcolor": "#E5ECF6",
            "gridcolor": "white",
            "gridwidth": 2,
            "linecolor": "white",
            "showbackground": true,
            "ticks": "",
            "zerolinecolor": "white"
           },
           "zaxis": {
            "backgroundcolor": "#E5ECF6",
            "gridcolor": "white",
            "gridwidth": 2,
            "linecolor": "white",
            "showbackground": true,
            "ticks": "",
            "zerolinecolor": "white"
           }
          },
          "shapedefaults": {
           "line": {
            "color": "#2a3f5f"
           }
          },
          "ternary": {
           "aaxis": {
            "gridcolor": "white",
            "linecolor": "white",
            "ticks": ""
           },
           "baxis": {
            "gridcolor": "white",
            "linecolor": "white",
            "ticks": ""
           },
           "bgcolor": "#E5ECF6",
           "caxis": {
            "gridcolor": "white",
            "linecolor": "white",
            "ticks": ""
           }
          },
          "title": {
           "x": 0.05
          },
          "xaxis": {
           "automargin": true,
           "gridcolor": "white",
           "linecolor": "white",
           "ticks": "",
           "title": {
            "standoff": 15
           },
           "zerolinecolor": "white",
           "zerolinewidth": 2
          },
          "yaxis": {
           "automargin": true,
           "gridcolor": "white",
           "linecolor": "white",
           "ticks": "",
           "title": {
            "standoff": 15
           },
           "zerolinecolor": "white",
           "zerolinewidth": 2
          }
         }
        },
        "title": {
         "text": "Distribution of Sugar by Traffic"
        },
        "width": 700,
        "xaxis": {
         "anchor": "y",
         "domain": [
          0,
          1
         ],
         "title": {
          "text": "sugar"
         }
        },
        "xaxis2": {
         "anchor": "y2",
         "domain": [
          0,
          1
         ],
         "matches": "x",
         "showgrid": true,
         "showticklabels": false
        },
        "yaxis": {
         "anchor": "x",
         "domain": [
          0,
          0.7326
         ],
         "title": {
          "text": "count"
         }
        },
        "yaxis2": {
         "anchor": "x2",
         "domain": [
          0.7426,
          1
         ],
         "matches": "y2",
         "showgrid": false,
         "showline": false,
         "showticklabels": false,
         "ticks": ""
        }
       }
      }
     },
     "metadata": {},
     "output_type": "display_data"
    }
   ],
   "source": [
    "fig = px.histogram(train_df,\n",
    "                   x='sugar',\n",
    "                   marginal='box',\n",
    "                   color='high_traffic',\n",
    "                   color_discrete_sequence=['green','grey'],\n",
    "                   title='Distribution of Sugar by Traffic')\n",
    "fig.update_layout(bargap=0.1)\n",
    "fig.update_layout(width=700, height=500)\n",
    "fig.show()"
   ]
  },
  {
   "cell_type": "markdown",
   "metadata": {},
   "source": [
    "**Protein**"
   ]
  },
  {
   "cell_type": "code",
   "execution_count": 41,
   "metadata": {},
   "outputs": [
    {
     "data": {
      "application/vnd.plotly.v1+json": {
       "config": {
        "plotlyServerURL": "https://plot.ly"
       },
       "data": [
        {
         "alignmentgroup": "True",
         "bingroup": "x",
         "hovertemplate": "high_traffic=High<br>protein=%{x}<br>count=%{y}<extra></extra>",
         "legendgroup": "High",
         "marker": {
          "color": "green",
          "pattern": {
           "shape": ""
          }
         },
         "name": "High",
         "offsetgroup": "High",
         "orientation": "v",
         "showlegend": true,
         "type": "histogram",
         "x": [
          10.67,
          3.38,
          19.94,
          6.82,
          16.34,
          3.77,
          29.33,
          7.64,
          4.55,
          17.9,
          4.96,
          32.98,
          8.77,
          43.5,
          25.19,
          0.33,
          0.4,
          28.55,
          11.18,
          39.61,
          12.03,
          2.44,
          35.12,
          3.24,
          1.58,
          2.07,
          31.36,
          6.66,
          3.02,
          5.56,
          21.41,
          0.59,
          6.13,
          40.24,
          2.76,
          0.93,
          11.92,
          25.18,
          16.44,
          4.24,
          26.75,
          3.22,
          18.93,
          61.22,
          36.47,
          12.47,
          0.36,
          220.14,
          7.94,
          20.25,
          125.5,
          9.6,
          56.19,
          63.56,
          19.29,
          25.29,
          0.41,
          57.76,
          1.95,
          21.09,
          17.42,
          5.63,
          33.17,
          57.14,
          10.13,
          3.46,
          5.68,
          1.08,
          19.53,
          4.1,
          4.62,
          15.05,
          6.24,
          18.26,
          3.51,
          34.79,
          2.56,
          4.75,
          55.46,
          69.62,
          12.65,
          0,
          32.98,
          3.49,
          17.74,
          2.57,
          6.72,
          111.57,
          28.65,
          99.13,
          4.88,
          0.01,
          1.33,
          6.05,
          12.89,
          4.95,
          1.42,
          1.26,
          38.18,
          3.71,
          5.08,
          6.44,
          0.76,
          73.94,
          17.7,
          4.45,
          9.27,
          25.25,
          87.34,
          10.27,
          5.01,
          12.57,
          5.92,
          32.72,
          0.46,
          100.46,
          4.92,
          12.09,
          32.79,
          15.1,
          6.57,
          8.42,
          2.3,
          21.11,
          23.86,
          1.31,
          6.77,
          1.62,
          6.27,
          51.99,
          0.05,
          13.96,
          0.13,
          5.72,
          28.2,
          29.05,
          36.72,
          52,
          27.51,
          45.62,
          5.67,
          9.55,
          19.44,
          11.2,
          10.81,
          5.37,
          34.33,
          10.8,
          41.6,
          8.81,
          64.15,
          11.38,
          11.6,
          18.54,
          8.41,
          81.37,
          1.06,
          18.9,
          5.91,
          7.11,
          7.03,
          3.04,
          2.56,
          23.25,
          25.39,
          4.45,
          15.59,
          1.84,
          0.22,
          5.37,
          19,
          17.96,
          49.04,
          3.3,
          0.68,
          3.41,
          31.59,
          6.63,
          17.24,
          14.68,
          13.93,
          12.47,
          14.14,
          8.62,
          6.27,
          3.76,
          85.81,
          50.84,
          40.33,
          14.52,
          1.19,
          45.15,
          182.63,
          1.24,
          24.74,
          14.04,
          0.59,
          1.26,
          7.52,
          26.11,
          8.88,
          70.75,
          5.48,
          4.86,
          17.08,
          1.98,
          3.01,
          10.32,
          38.47,
          44.38,
          30.75,
          10.85,
          3.79,
          9.93,
          23.03,
          7.71,
          9.07,
          0.73,
          125.66,
          10.55,
          39.12,
          19.75,
          28.37,
          5.16,
          5.4,
          3.17,
          144.71,
          10.06,
          15.7,
          104.07,
          85.79,
          37.7,
          33.51,
          13.08,
          15.17,
          5.24,
          2.53,
          7.22,
          5.07,
          6.39,
          49.63,
          24.72,
          2.49,
          6.09,
          1.96,
          23.36,
          1.78,
          48.54,
          26.89,
          1.23,
          20.55,
          7.16,
          180.06,
          12.72,
          0.27,
          18.49,
          23.12,
          70.3,
          17.79,
          52.18,
          0.36,
          5.67,
          3.44,
          78.81,
          1.34,
          18.31,
          221.91,
          13.51,
          1.64,
          4.76,
          23.05,
          17.64,
          9.59,
          9.31,
          31.07,
          70.07,
          0.28,
          11.99,
          19.42,
          4.03,
          3.26,
          2.17,
          23.04,
          4.71,
          0.24,
          2.23,
          0.02,
          6.62,
          45.29,
          0.46,
          39.69,
          18.3,
          16.97,
          41.53,
          22.45,
          73.42,
          6.58,
          3.18,
          56.8,
          66.9,
          8.36,
          0.92,
          6.57,
          49.14,
          0.73,
          2.25,
          7.02,
          61.07,
          0.51,
          2.16,
          19.94,
          3.75,
          4.27,
          30.83,
          40.39,
          5.53,
          38.26,
          39.53,
          46.9,
          0.36,
          7.48,
          99.64,
          34.21,
          9.45,
          28.37,
          2.39,
          23.07,
          136.65,
          31.19,
          19.05,
          12.29,
          10,
          5.84,
          11.69,
          2.89,
          35.2,
          59.69,
          79.71,
          7.93,
          23.11,
          3.12,
          31.1,
          54,
          14.89,
          18.8,
          10.75,
          2.12,
          179.22,
          10.44,
          4.52,
          18.37,
          82.85,
          3.36,
          3.75,
          7.73,
          96.91,
          186.18,
          3.52,
          14.27,
          6.84,
          14.45,
          44.92,
          0.36,
          13.25,
          5.08
         ],
         "xaxis": "x",
         "yaxis": "y"
        },
        {
         "alignmentgroup": "True",
         "hovertemplate": "high_traffic=High<br>protein=%{x}<extra></extra>",
         "legendgroup": "High",
         "marker": {
          "color": "green"
         },
         "name": "High",
         "notched": true,
         "offsetgroup": "High",
         "showlegend": false,
         "type": "box",
         "x": [
          10.67,
          3.38,
          19.94,
          6.82,
          16.34,
          3.77,
          29.33,
          7.64,
          4.55,
          17.9,
          4.96,
          32.98,
          8.77,
          43.5,
          25.19,
          0.33,
          0.4,
          28.55,
          11.18,
          39.61,
          12.03,
          2.44,
          35.12,
          3.24,
          1.58,
          2.07,
          31.36,
          6.66,
          3.02,
          5.56,
          21.41,
          0.59,
          6.13,
          40.24,
          2.76,
          0.93,
          11.92,
          25.18,
          16.44,
          4.24,
          26.75,
          3.22,
          18.93,
          61.22,
          36.47,
          12.47,
          0.36,
          220.14,
          7.94,
          20.25,
          125.5,
          9.6,
          56.19,
          63.56,
          19.29,
          25.29,
          0.41,
          57.76,
          1.95,
          21.09,
          17.42,
          5.63,
          33.17,
          57.14,
          10.13,
          3.46,
          5.68,
          1.08,
          19.53,
          4.1,
          4.62,
          15.05,
          6.24,
          18.26,
          3.51,
          34.79,
          2.56,
          4.75,
          55.46,
          69.62,
          12.65,
          0,
          32.98,
          3.49,
          17.74,
          2.57,
          6.72,
          111.57,
          28.65,
          99.13,
          4.88,
          0.01,
          1.33,
          6.05,
          12.89,
          4.95,
          1.42,
          1.26,
          38.18,
          3.71,
          5.08,
          6.44,
          0.76,
          73.94,
          17.7,
          4.45,
          9.27,
          25.25,
          87.34,
          10.27,
          5.01,
          12.57,
          5.92,
          32.72,
          0.46,
          100.46,
          4.92,
          12.09,
          32.79,
          15.1,
          6.57,
          8.42,
          2.3,
          21.11,
          23.86,
          1.31,
          6.77,
          1.62,
          6.27,
          51.99,
          0.05,
          13.96,
          0.13,
          5.72,
          28.2,
          29.05,
          36.72,
          52,
          27.51,
          45.62,
          5.67,
          9.55,
          19.44,
          11.2,
          10.81,
          5.37,
          34.33,
          10.8,
          41.6,
          8.81,
          64.15,
          11.38,
          11.6,
          18.54,
          8.41,
          81.37,
          1.06,
          18.9,
          5.91,
          7.11,
          7.03,
          3.04,
          2.56,
          23.25,
          25.39,
          4.45,
          15.59,
          1.84,
          0.22,
          5.37,
          19,
          17.96,
          49.04,
          3.3,
          0.68,
          3.41,
          31.59,
          6.63,
          17.24,
          14.68,
          13.93,
          12.47,
          14.14,
          8.62,
          6.27,
          3.76,
          85.81,
          50.84,
          40.33,
          14.52,
          1.19,
          45.15,
          182.63,
          1.24,
          24.74,
          14.04,
          0.59,
          1.26,
          7.52,
          26.11,
          8.88,
          70.75,
          5.48,
          4.86,
          17.08,
          1.98,
          3.01,
          10.32,
          38.47,
          44.38,
          30.75,
          10.85,
          3.79,
          9.93,
          23.03,
          7.71,
          9.07,
          0.73,
          125.66,
          10.55,
          39.12,
          19.75,
          28.37,
          5.16,
          5.4,
          3.17,
          144.71,
          10.06,
          15.7,
          104.07,
          85.79,
          37.7,
          33.51,
          13.08,
          15.17,
          5.24,
          2.53,
          7.22,
          5.07,
          6.39,
          49.63,
          24.72,
          2.49,
          6.09,
          1.96,
          23.36,
          1.78,
          48.54,
          26.89,
          1.23,
          20.55,
          7.16,
          180.06,
          12.72,
          0.27,
          18.49,
          23.12,
          70.3,
          17.79,
          52.18,
          0.36,
          5.67,
          3.44,
          78.81,
          1.34,
          18.31,
          221.91,
          13.51,
          1.64,
          4.76,
          23.05,
          17.64,
          9.59,
          9.31,
          31.07,
          70.07,
          0.28,
          11.99,
          19.42,
          4.03,
          3.26,
          2.17,
          23.04,
          4.71,
          0.24,
          2.23,
          0.02,
          6.62,
          45.29,
          0.46,
          39.69,
          18.3,
          16.97,
          41.53,
          22.45,
          73.42,
          6.58,
          3.18,
          56.8,
          66.9,
          8.36,
          0.92,
          6.57,
          49.14,
          0.73,
          2.25,
          7.02,
          61.07,
          0.51,
          2.16,
          19.94,
          3.75,
          4.27,
          30.83,
          40.39,
          5.53,
          38.26,
          39.53,
          46.9,
          0.36,
          7.48,
          99.64,
          34.21,
          9.45,
          28.37,
          2.39,
          23.07,
          136.65,
          31.19,
          19.05,
          12.29,
          10,
          5.84,
          11.69,
          2.89,
          35.2,
          59.69,
          79.71,
          7.93,
          23.11,
          3.12,
          31.1,
          54,
          14.89,
          18.8,
          10.75,
          2.12,
          179.22,
          10.44,
          4.52,
          18.37,
          82.85,
          3.36,
          3.75,
          7.73,
          96.91,
          186.18,
          3.52,
          14.27,
          6.84,
          14.45,
          44.92,
          0.36,
          13.25,
          5.08
         ],
         "xaxis": "x2",
         "yaxis": "y2"
        },
        {
         "alignmentgroup": "True",
         "bingroup": "x",
         "hovertemplate": "high_traffic=Low<br>protein=%{x}<br>count=%{y}<extra></extra>",
         "legendgroup": "Low",
         "marker": {
          "color": "grey",
          "pattern": {
           "shape": ""
          }
         },
         "name": "Low",
         "offsetgroup": "Low",
         "orientation": "v",
         "showlegend": true,
         "type": "histogram",
         "x": [
          132.87,
          239.57,
          0.03,
          29.67,
          23.14,
          21.57,
          2.15,
          6.95,
          8.91,
          5.45,
          4.29,
          2.56,
          39.11,
          10.13,
          1.58,
          0.15,
          13.3,
          19.51,
          3.96,
          40.64,
          24.1,
          102.53,
          0.23,
          35.28,
          0.38,
          0.12,
          35.28,
          1.73,
          10.55,
          3.57,
          15.57,
          0.13,
          0.82,
          5.27,
          0.1,
          0.02,
          30.72,
          6,
          38.63,
          54.13,
          0.07,
          1.76,
          47.4,
          69.53,
          6.5,
          7.32,
          33.21,
          17.64,
          8.63,
          5.22,
          0.17,
          11.43,
          0.96,
          0.86,
          5.56,
          10.96,
          24.04,
          0.01,
          7.92,
          0.5,
          53.33,
          12.53,
          0.93,
          26.04,
          83.9,
          8.54,
          0.91,
          0.14,
          1.02,
          22.35,
          78.76,
          78.47,
          0.04,
          0.02,
          2.56,
          33.31,
          13.36,
          8.16,
          7.99,
          0,
          7.44,
          17.24,
          109.92,
          32.23,
          33.17,
          2.18,
          6.04,
          9.36,
          9.5,
          82.39,
          125.43,
          15.46,
          6.83,
          8.2,
          29.65,
          0.34,
          14.64,
          36.23,
          0.7,
          1.17,
          40.32,
          2.47,
          12.12,
          64.46,
          86.09,
          0.4,
          5.8,
          0.13,
          10.84,
          32.71,
          1.19,
          40.62,
          0.07,
          0.24,
          71.51,
          19.34,
          8.15,
          122.39,
          2.5,
          4.66,
          0.21,
          46.59,
          113.85,
          4.72,
          0.29,
          21.55,
          30.83,
          19.11,
          23.38,
          1.08,
          2.89,
          2.6,
          6.21,
          0.38,
          2.17,
          2.37,
          0.68,
          66.69,
          0.69,
          0.07,
          0.18,
          16.73,
          7.82,
          1.85,
          11.19,
          2.88,
          53.64,
          1.12,
          0.32,
          1.6,
          17.35,
          0.27,
          15.38,
          16.22,
          2.58,
          18.39,
          2.67,
          9.08,
          8.58,
          82.58,
          4.83,
          3.57,
          54,
          0.88,
          5.37,
          9.77,
          3.21,
          66.4,
          14.83,
          1.9,
          43.91,
          0.95,
          0.42,
          66.71,
          46.71,
          77.57,
          87.05,
          13.02,
          19.75,
          44.22,
          15.44,
          0.53,
          10.52,
          32.62,
          2.55,
          23.68,
          84.23,
          17.85,
          0.12,
          50.19,
          0.47,
          70.31,
          71.16,
          26.66,
          42.13,
          0.04,
          15.7,
          1.51,
          11.05,
          0.16,
          0.73,
          17.57,
          1.01,
          0.08,
          6.42,
          12.87,
          5.96,
          20.89,
          19.57,
          0.22,
          25.44,
          37.28,
          2.64,
          11.55,
          32.4,
          0.43,
          1.65,
          27.19,
          17.38,
          25.99,
          21.31,
          0.74,
          0.74,
          23.21,
          60.25,
          0.61,
          8.64,
          71.88,
          60.57,
          1.05,
          26.36,
          13.24,
          2.28,
          0.29,
          0.61,
          87.25,
          0.06,
          8.5,
          1.32,
          0.22,
          63.94,
          4.49,
          0.01,
          151.64,
          51.15,
          16.78,
          0.76,
          19.22,
          23.78
         ],
         "xaxis": "x",
         "yaxis": "y"
        },
        {
         "alignmentgroup": "True",
         "hovertemplate": "high_traffic=Low<br>protein=%{x}<extra></extra>",
         "legendgroup": "Low",
         "marker": {
          "color": "grey"
         },
         "name": "Low",
         "notched": true,
         "offsetgroup": "Low",
         "showlegend": false,
         "type": "box",
         "x": [
          132.87,
          239.57,
          0.03,
          29.67,
          23.14,
          21.57,
          2.15,
          6.95,
          8.91,
          5.45,
          4.29,
          2.56,
          39.11,
          10.13,
          1.58,
          0.15,
          13.3,
          19.51,
          3.96,
          40.64,
          24.1,
          102.53,
          0.23,
          35.28,
          0.38,
          0.12,
          35.28,
          1.73,
          10.55,
          3.57,
          15.57,
          0.13,
          0.82,
          5.27,
          0.1,
          0.02,
          30.72,
          6,
          38.63,
          54.13,
          0.07,
          1.76,
          47.4,
          69.53,
          6.5,
          7.32,
          33.21,
          17.64,
          8.63,
          5.22,
          0.17,
          11.43,
          0.96,
          0.86,
          5.56,
          10.96,
          24.04,
          0.01,
          7.92,
          0.5,
          53.33,
          12.53,
          0.93,
          26.04,
          83.9,
          8.54,
          0.91,
          0.14,
          1.02,
          22.35,
          78.76,
          78.47,
          0.04,
          0.02,
          2.56,
          33.31,
          13.36,
          8.16,
          7.99,
          0,
          7.44,
          17.24,
          109.92,
          32.23,
          33.17,
          2.18,
          6.04,
          9.36,
          9.5,
          82.39,
          125.43,
          15.46,
          6.83,
          8.2,
          29.65,
          0.34,
          14.64,
          36.23,
          0.7,
          1.17,
          40.32,
          2.47,
          12.12,
          64.46,
          86.09,
          0.4,
          5.8,
          0.13,
          10.84,
          32.71,
          1.19,
          40.62,
          0.07,
          0.24,
          71.51,
          19.34,
          8.15,
          122.39,
          2.5,
          4.66,
          0.21,
          46.59,
          113.85,
          4.72,
          0.29,
          21.55,
          30.83,
          19.11,
          23.38,
          1.08,
          2.89,
          2.6,
          6.21,
          0.38,
          2.17,
          2.37,
          0.68,
          66.69,
          0.69,
          0.07,
          0.18,
          16.73,
          7.82,
          1.85,
          11.19,
          2.88,
          53.64,
          1.12,
          0.32,
          1.6,
          17.35,
          0.27,
          15.38,
          16.22,
          2.58,
          18.39,
          2.67,
          9.08,
          8.58,
          82.58,
          4.83,
          3.57,
          54,
          0.88,
          5.37,
          9.77,
          3.21,
          66.4,
          14.83,
          1.9,
          43.91,
          0.95,
          0.42,
          66.71,
          46.71,
          77.57,
          87.05,
          13.02,
          19.75,
          44.22,
          15.44,
          0.53,
          10.52,
          32.62,
          2.55,
          23.68,
          84.23,
          17.85,
          0.12,
          50.19,
          0.47,
          70.31,
          71.16,
          26.66,
          42.13,
          0.04,
          15.7,
          1.51,
          11.05,
          0.16,
          0.73,
          17.57,
          1.01,
          0.08,
          6.42,
          12.87,
          5.96,
          20.89,
          19.57,
          0.22,
          25.44,
          37.28,
          2.64,
          11.55,
          32.4,
          0.43,
          1.65,
          27.19,
          17.38,
          25.99,
          21.31,
          0.74,
          0.74,
          23.21,
          60.25,
          0.61,
          8.64,
          71.88,
          60.57,
          1.05,
          26.36,
          13.24,
          2.28,
          0.29,
          0.61,
          87.25,
          0.06,
          8.5,
          1.32,
          0.22,
          63.94,
          4.49,
          0.01,
          151.64,
          51.15,
          16.78,
          0.76,
          19.22,
          23.78
         ],
         "xaxis": "x2",
         "yaxis": "y2"
        }
       ],
       "layout": {
        "bargap": 0.1,
        "barmode": "relative",
        "height": 500,
        "legend": {
         "title": {
          "text": "high_traffic"
         },
         "tracegroupgap": 0
        },
        "template": {
         "data": {
          "bar": [
           {
            "error_x": {
             "color": "#2a3f5f"
            },
            "error_y": {
             "color": "#2a3f5f"
            },
            "marker": {
             "line": {
              "color": "#E5ECF6",
              "width": 0.5
             },
             "pattern": {
              "fillmode": "overlay",
              "size": 10,
              "solidity": 0.2
             }
            },
            "type": "bar"
           }
          ],
          "barpolar": [
           {
            "marker": {
             "line": {
              "color": "#E5ECF6",
              "width": 0.5
             },
             "pattern": {
              "fillmode": "overlay",
              "size": 10,
              "solidity": 0.2
             }
            },
            "type": "barpolar"
           }
          ],
          "carpet": [
           {
            "aaxis": {
             "endlinecolor": "#2a3f5f",
             "gridcolor": "white",
             "linecolor": "white",
             "minorgridcolor": "white",
             "startlinecolor": "#2a3f5f"
            },
            "baxis": {
             "endlinecolor": "#2a3f5f",
             "gridcolor": "white",
             "linecolor": "white",
             "minorgridcolor": "white",
             "startlinecolor": "#2a3f5f"
            },
            "type": "carpet"
           }
          ],
          "choropleth": [
           {
            "colorbar": {
             "outlinewidth": 0,
             "ticks": ""
            },
            "type": "choropleth"
           }
          ],
          "contour": [
           {
            "colorbar": {
             "outlinewidth": 0,
             "ticks": ""
            },
            "colorscale": [
             [
              0,
              "#0d0887"
             ],
             [
              0.1111111111111111,
              "#46039f"
             ],
             [
              0.2222222222222222,
              "#7201a8"
             ],
             [
              0.3333333333333333,
              "#9c179e"
             ],
             [
              0.4444444444444444,
              "#bd3786"
             ],
             [
              0.5555555555555556,
              "#d8576b"
             ],
             [
              0.6666666666666666,
              "#ed7953"
             ],
             [
              0.7777777777777778,
              "#fb9f3a"
             ],
             [
              0.8888888888888888,
              "#fdca26"
             ],
             [
              1,
              "#f0f921"
             ]
            ],
            "type": "contour"
           }
          ],
          "contourcarpet": [
           {
            "colorbar": {
             "outlinewidth": 0,
             "ticks": ""
            },
            "type": "contourcarpet"
           }
          ],
          "heatmap": [
           {
            "colorbar": {
             "outlinewidth": 0,
             "ticks": ""
            },
            "colorscale": [
             [
              0,
              "#0d0887"
             ],
             [
              0.1111111111111111,
              "#46039f"
             ],
             [
              0.2222222222222222,
              "#7201a8"
             ],
             [
              0.3333333333333333,
              "#9c179e"
             ],
             [
              0.4444444444444444,
              "#bd3786"
             ],
             [
              0.5555555555555556,
              "#d8576b"
             ],
             [
              0.6666666666666666,
              "#ed7953"
             ],
             [
              0.7777777777777778,
              "#fb9f3a"
             ],
             [
              0.8888888888888888,
              "#fdca26"
             ],
             [
              1,
              "#f0f921"
             ]
            ],
            "type": "heatmap"
           }
          ],
          "heatmapgl": [
           {
            "colorbar": {
             "outlinewidth": 0,
             "ticks": ""
            },
            "colorscale": [
             [
              0,
              "#0d0887"
             ],
             [
              0.1111111111111111,
              "#46039f"
             ],
             [
              0.2222222222222222,
              "#7201a8"
             ],
             [
              0.3333333333333333,
              "#9c179e"
             ],
             [
              0.4444444444444444,
              "#bd3786"
             ],
             [
              0.5555555555555556,
              "#d8576b"
             ],
             [
              0.6666666666666666,
              "#ed7953"
             ],
             [
              0.7777777777777778,
              "#fb9f3a"
             ],
             [
              0.8888888888888888,
              "#fdca26"
             ],
             [
              1,
              "#f0f921"
             ]
            ],
            "type": "heatmapgl"
           }
          ],
          "histogram": [
           {
            "marker": {
             "pattern": {
              "fillmode": "overlay",
              "size": 10,
              "solidity": 0.2
             }
            },
            "type": "histogram"
           }
          ],
          "histogram2d": [
           {
            "colorbar": {
             "outlinewidth": 0,
             "ticks": ""
            },
            "colorscale": [
             [
              0,
              "#0d0887"
             ],
             [
              0.1111111111111111,
              "#46039f"
             ],
             [
              0.2222222222222222,
              "#7201a8"
             ],
             [
              0.3333333333333333,
              "#9c179e"
             ],
             [
              0.4444444444444444,
              "#bd3786"
             ],
             [
              0.5555555555555556,
              "#d8576b"
             ],
             [
              0.6666666666666666,
              "#ed7953"
             ],
             [
              0.7777777777777778,
              "#fb9f3a"
             ],
             [
              0.8888888888888888,
              "#fdca26"
             ],
             [
              1,
              "#f0f921"
             ]
            ],
            "type": "histogram2d"
           }
          ],
          "histogram2dcontour": [
           {
            "colorbar": {
             "outlinewidth": 0,
             "ticks": ""
            },
            "colorscale": [
             [
              0,
              "#0d0887"
             ],
             [
              0.1111111111111111,
              "#46039f"
             ],
             [
              0.2222222222222222,
              "#7201a8"
             ],
             [
              0.3333333333333333,
              "#9c179e"
             ],
             [
              0.4444444444444444,
              "#bd3786"
             ],
             [
              0.5555555555555556,
              "#d8576b"
             ],
             [
              0.6666666666666666,
              "#ed7953"
             ],
             [
              0.7777777777777778,
              "#fb9f3a"
             ],
             [
              0.8888888888888888,
              "#fdca26"
             ],
             [
              1,
              "#f0f921"
             ]
            ],
            "type": "histogram2dcontour"
           }
          ],
          "mesh3d": [
           {
            "colorbar": {
             "outlinewidth": 0,
             "ticks": ""
            },
            "type": "mesh3d"
           }
          ],
          "parcoords": [
           {
            "line": {
             "colorbar": {
              "outlinewidth": 0,
              "ticks": ""
             }
            },
            "type": "parcoords"
           }
          ],
          "pie": [
           {
            "automargin": true,
            "type": "pie"
           }
          ],
          "scatter": [
           {
            "fillpattern": {
             "fillmode": "overlay",
             "size": 10,
             "solidity": 0.2
            },
            "type": "scatter"
           }
          ],
          "scatter3d": [
           {
            "line": {
             "colorbar": {
              "outlinewidth": 0,
              "ticks": ""
             }
            },
            "marker": {
             "colorbar": {
              "outlinewidth": 0,
              "ticks": ""
             }
            },
            "type": "scatter3d"
           }
          ],
          "scattercarpet": [
           {
            "marker": {
             "colorbar": {
              "outlinewidth": 0,
              "ticks": ""
             }
            },
            "type": "scattercarpet"
           }
          ],
          "scattergeo": [
           {
            "marker": {
             "colorbar": {
              "outlinewidth": 0,
              "ticks": ""
             }
            },
            "type": "scattergeo"
           }
          ],
          "scattergl": [
           {
            "marker": {
             "colorbar": {
              "outlinewidth": 0,
              "ticks": ""
             }
            },
            "type": "scattergl"
           }
          ],
          "scattermapbox": [
           {
            "marker": {
             "colorbar": {
              "outlinewidth": 0,
              "ticks": ""
             }
            },
            "type": "scattermapbox"
           }
          ],
          "scatterpolar": [
           {
            "marker": {
             "colorbar": {
              "outlinewidth": 0,
              "ticks": ""
             }
            },
            "type": "scatterpolar"
           }
          ],
          "scatterpolargl": [
           {
            "marker": {
             "colorbar": {
              "outlinewidth": 0,
              "ticks": ""
             }
            },
            "type": "scatterpolargl"
           }
          ],
          "scatterternary": [
           {
            "marker": {
             "colorbar": {
              "outlinewidth": 0,
              "ticks": ""
             }
            },
            "type": "scatterternary"
           }
          ],
          "surface": [
           {
            "colorbar": {
             "outlinewidth": 0,
             "ticks": ""
            },
            "colorscale": [
             [
              0,
              "#0d0887"
             ],
             [
              0.1111111111111111,
              "#46039f"
             ],
             [
              0.2222222222222222,
              "#7201a8"
             ],
             [
              0.3333333333333333,
              "#9c179e"
             ],
             [
              0.4444444444444444,
              "#bd3786"
             ],
             [
              0.5555555555555556,
              "#d8576b"
             ],
             [
              0.6666666666666666,
              "#ed7953"
             ],
             [
              0.7777777777777778,
              "#fb9f3a"
             ],
             [
              0.8888888888888888,
              "#fdca26"
             ],
             [
              1,
              "#f0f921"
             ]
            ],
            "type": "surface"
           }
          ],
          "table": [
           {
            "cells": {
             "fill": {
              "color": "#EBF0F8"
             },
             "line": {
              "color": "white"
             }
            },
            "header": {
             "fill": {
              "color": "#C8D4E3"
             },
             "line": {
              "color": "white"
             }
            },
            "type": "table"
           }
          ]
         },
         "layout": {
          "annotationdefaults": {
           "arrowcolor": "#2a3f5f",
           "arrowhead": 0,
           "arrowwidth": 1
          },
          "autotypenumbers": "strict",
          "coloraxis": {
           "colorbar": {
            "outlinewidth": 0,
            "ticks": ""
           }
          },
          "colorscale": {
           "diverging": [
            [
             0,
             "#8e0152"
            ],
            [
             0.1,
             "#c51b7d"
            ],
            [
             0.2,
             "#de77ae"
            ],
            [
             0.3,
             "#f1b6da"
            ],
            [
             0.4,
             "#fde0ef"
            ],
            [
             0.5,
             "#f7f7f7"
            ],
            [
             0.6,
             "#e6f5d0"
            ],
            [
             0.7,
             "#b8e186"
            ],
            [
             0.8,
             "#7fbc41"
            ],
            [
             0.9,
             "#4d9221"
            ],
            [
             1,
             "#276419"
            ]
           ],
           "sequential": [
            [
             0,
             "#0d0887"
            ],
            [
             0.1111111111111111,
             "#46039f"
            ],
            [
             0.2222222222222222,
             "#7201a8"
            ],
            [
             0.3333333333333333,
             "#9c179e"
            ],
            [
             0.4444444444444444,
             "#bd3786"
            ],
            [
             0.5555555555555556,
             "#d8576b"
            ],
            [
             0.6666666666666666,
             "#ed7953"
            ],
            [
             0.7777777777777778,
             "#fb9f3a"
            ],
            [
             0.8888888888888888,
             "#fdca26"
            ],
            [
             1,
             "#f0f921"
            ]
           ],
           "sequentialminus": [
            [
             0,
             "#0d0887"
            ],
            [
             0.1111111111111111,
             "#46039f"
            ],
            [
             0.2222222222222222,
             "#7201a8"
            ],
            [
             0.3333333333333333,
             "#9c179e"
            ],
            [
             0.4444444444444444,
             "#bd3786"
            ],
            [
             0.5555555555555556,
             "#d8576b"
            ],
            [
             0.6666666666666666,
             "#ed7953"
            ],
            [
             0.7777777777777778,
             "#fb9f3a"
            ],
            [
             0.8888888888888888,
             "#fdca26"
            ],
            [
             1,
             "#f0f921"
            ]
           ]
          },
          "colorway": [
           "#636efa",
           "#EF553B",
           "#00cc96",
           "#ab63fa",
           "#FFA15A",
           "#19d3f3",
           "#FF6692",
           "#B6E880",
           "#FF97FF",
           "#FECB52"
          ],
          "font": {
           "color": "#2a3f5f"
          },
          "geo": {
           "bgcolor": "white",
           "lakecolor": "white",
           "landcolor": "#E5ECF6",
           "showlakes": true,
           "showland": true,
           "subunitcolor": "white"
          },
          "hoverlabel": {
           "align": "left"
          },
          "hovermode": "closest",
          "mapbox": {
           "style": "light"
          },
          "paper_bgcolor": "white",
          "plot_bgcolor": "#E5ECF6",
          "polar": {
           "angularaxis": {
            "gridcolor": "white",
            "linecolor": "white",
            "ticks": ""
           },
           "bgcolor": "#E5ECF6",
           "radialaxis": {
            "gridcolor": "white",
            "linecolor": "white",
            "ticks": ""
           }
          },
          "scene": {
           "xaxis": {
            "backgroundcolor": "#E5ECF6",
            "gridcolor": "white",
            "gridwidth": 2,
            "linecolor": "white",
            "showbackground": true,
            "ticks": "",
            "zerolinecolor": "white"
           },
           "yaxis": {
            "backgroundcolor": "#E5ECF6",
            "gridcolor": "white",
            "gridwidth": 2,
            "linecolor": "white",
            "showbackground": true,
            "ticks": "",
            "zerolinecolor": "white"
           },
           "zaxis": {
            "backgroundcolor": "#E5ECF6",
            "gridcolor": "white",
            "gridwidth": 2,
            "linecolor": "white",
            "showbackground": true,
            "ticks": "",
            "zerolinecolor": "white"
           }
          },
          "shapedefaults": {
           "line": {
            "color": "#2a3f5f"
           }
          },
          "ternary": {
           "aaxis": {
            "gridcolor": "white",
            "linecolor": "white",
            "ticks": ""
           },
           "baxis": {
            "gridcolor": "white",
            "linecolor": "white",
            "ticks": ""
           },
           "bgcolor": "#E5ECF6",
           "caxis": {
            "gridcolor": "white",
            "linecolor": "white",
            "ticks": ""
           }
          },
          "title": {
           "x": 0.05
          },
          "xaxis": {
           "automargin": true,
           "gridcolor": "white",
           "linecolor": "white",
           "ticks": "",
           "title": {
            "standoff": 15
           },
           "zerolinecolor": "white",
           "zerolinewidth": 2
          },
          "yaxis": {
           "automargin": true,
           "gridcolor": "white",
           "linecolor": "white",
           "ticks": "",
           "title": {
            "standoff": 15
           },
           "zerolinecolor": "white",
           "zerolinewidth": 2
          }
         }
        },
        "title": {
         "text": "Distribution of Protein by Traffic"
        },
        "width": 700,
        "xaxis": {
         "anchor": "y",
         "domain": [
          0,
          1
         ],
         "title": {
          "text": "protein"
         }
        },
        "xaxis2": {
         "anchor": "y2",
         "domain": [
          0,
          1
         ],
         "matches": "x",
         "showgrid": true,
         "showticklabels": false
        },
        "yaxis": {
         "anchor": "x",
         "domain": [
          0,
          0.7326
         ],
         "title": {
          "text": "count"
         }
        },
        "yaxis2": {
         "anchor": "x2",
         "domain": [
          0.7426,
          1
         ],
         "matches": "y2",
         "showgrid": false,
         "showline": false,
         "showticklabels": false,
         "ticks": ""
        }
       }
      }
     },
     "metadata": {},
     "output_type": "display_data"
    }
   ],
   "source": [
    "fig = px.histogram(train_df,\n",
    "                   x='protein',\n",
    "                   marginal='box',\n",
    "                   color='high_traffic',\n",
    "                   color_discrete_sequence=['green','grey'],\n",
    "                   title='Distribution of Protein by Traffic')\n",
    "fig.update_layout(bargap=0.1)\n",
    "fig.update_layout(width=700, height=500)\n",
    "fig.show()"
   ]
  },
  {
   "cell_type": "markdown",
   "metadata": {},
   "source": [
    "The sugar and protein columns have a similar trend as the calories: \n",
    "* Right skewed data and \n",
    "* Higher traffic regardless of the grams"
   ]
  },
  {
   "cell_type": "markdown",
   "metadata": {},
   "source": [
    "#### Visualization of all the numeric columns"
   ]
  },
  {
   "cell_type": "code",
   "execution_count": 42,
   "metadata": {},
   "outputs": [
    {
     "data": {
      "text/plain": [
       "calories                  0\n",
       "carbohydrate              0\n",
       "sugar                     0\n",
       "protein                   0\n",
       "servings                  0\n",
       "high_traffic              0\n",
       "category_Beverages        0\n",
       "category_Breakfast        0\n",
       "category_Chicken          0\n",
       "category_Dessert          0\n",
       "category_Lunch/Snacks     0\n",
       "category_Meat             0\n",
       "category_One Dish Meal    0\n",
       "category_Pork             0\n",
       "category_Potato           0\n",
       "category_Vegetable        0\n",
       "dtype: int64"
      ]
     },
     "execution_count": 42,
     "metadata": {},
     "output_type": "execute_result"
    }
   ],
   "source": [
    "train_df_ = train_df.replace([np.inf, -np.inf], np.nan)\n",
    "train_df_.isna().sum()"
   ]
  },
  {
   "cell_type": "code",
   "execution_count": null,
   "metadata": {},
   "outputs": [],
   "source": [
    "pair_plot = sns.pairplot(train_df_[numeric_cols + ['high_traffic']], hue='high_traffic')\n",
    "\n",
    "pair_plot.fig.suptitle('Pairplot of Numeric Columns', y=1.02)\n",
    "pair_plot.fig.tight_layout()\n",
    "\n",
    "plt.show()"
   ]
  },
  {
   "cell_type": "markdown",
   "metadata": {},
   "source": [
    "There is no noticable trend in each pair of numerical columns (calories, carbohydrate, protein, sugar, serving) and the traffic generated."
   ]
  },
  {
   "cell_type": "code",
   "execution_count": 44,
   "metadata": {},
   "outputs": [],
   "source": [
    "y_train = train_df['high_traffic']\n",
    "X_train =  train_df.drop('high_traffic', axis=1)"
   ]
  },
  {
   "cell_type": "markdown",
   "metadata": {},
   "source": [
    "At this step we will go ahead and train the model. Further feature engineering could be included in future steps.\n",
    "\n",
    "But, before the model is trained we will input all the pre-processing steps into a pipeline to ensure reproducability, maintainability and standardization of steps."
   ]
  }
 ],
 "metadata": {
  "kernelspec": {
   "display_name": "forecasting",
   "language": "python",
   "name": "python3"
  },
  "language_info": {
   "codemirror_mode": {
    "name": "ipython",
    "version": 3
   },
   "file_extension": ".py",
   "mimetype": "text/x-python",
   "name": "python",
   "nbconvert_exporter": "python",
   "pygments_lexer": "ipython3",
   "version": "3.9.18"
  }
 },
 "nbformat": 4,
 "nbformat_minor": 2
}
